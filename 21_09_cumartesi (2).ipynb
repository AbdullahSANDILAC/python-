{
  "nbformat": 4,
  "nbformat_minor": 0,
  "metadata": {
    "colab": {
      "provenance": []
    },
    "kernelspec": {
      "name": "python3",
      "display_name": "Python 3"
    },
    "language_info": {
      "name": "python"
    }
  },
  "cells": [
    {
      "cell_type": "code",
      "execution_count": null,
      "metadata": {
        "colab": {
          "base_uri": "https://localhost:8080/"
        },
        "id": "j2ZT6d8-ii-u",
        "outputId": "1b658977-d5d3-40e2-f1c6-4a89970017bf"
      },
      "outputs": [
        {
          "output_type": "stream",
          "name": "stdout",
          "text": [
            "Merhaba Python\n"
          ]
        }
      ],
      "source": [
        "print(\"Merhaba Python\")"
      ]
    },
    {
      "cell_type": "code",
      "source": [
        "print(\"Guido van rossum tarafında geliştirlmiştir.\")"
      ],
      "metadata": {
        "colab": {
          "base_uri": "https://localhost:8080/"
        },
        "id": "o3lr6VExjUyX",
        "outputId": "a19a6b85-2d58-43ba-f3ae-786177802057"
      },
      "execution_count": null,
      "outputs": [
        {
          "output_type": "stream",
          "name": "stdout",
          "text": [
            "Guido van rossum tarafında geliştirlmiştir.\n"
          ]
        }
      ]
    },
    {
      "cell_type": "code",
      "source": [
        "print(\"KARAKTER DİZİLERİ İLE SAYILAR ARASINDAKİ FARK\")"
      ],
      "metadata": {
        "colab": {
          "base_uri": "https://localhost:8080/"
        },
        "id": "fY-OmLzH4kGY",
        "outputId": "b3e6093a-4259-4627-da09-9322c532ecde"
      },
      "execution_count": null,
      "outputs": [
        {
          "output_type": "stream",
          "name": "stdout",
          "text": [
            "KARAKTER DİZİLERİ İLE SAYILAR ARASINDAKİ FARK\n"
          ]
        }
      ]
    },
    {
      "cell_type": "code",
      "source": [
        "artı=\"+\"\n",
        "eksi=\"-\"\n",
        "bolme=\"/\"\n",
        "carpma=\"*\""
      ],
      "metadata": {
        "id": "bQH4ZduujVK2"
      },
      "execution_count": null,
      "outputs": []
    },
    {
      "cell_type": "code",
      "source": [
        "a = 5\n",
        "b=6\n",
        "a1=\"6\" #a1 değişkeni string ifadedir.\n",
        "b1=\"5\""
      ],
      "metadata": {
        "id": "sBVn8UvunQRE"
      },
      "execution_count": null,
      "outputs": []
    },
    {
      "cell_type": "code",
      "source": [
        "print(a+b)#a değeri ile b değerini toplar"
      ],
      "metadata": {
        "colab": {
          "base_uri": "https://localhost:8080/"
        },
        "id": "ZYpDSgo8pYuC",
        "outputId": "d3b73e93-5956-48c4-fe8f-fe4b53f0ded2"
      },
      "execution_count": null,
      "outputs": [
        {
          "output_type": "stream",
          "name": "stdout",
          "text": [
            "11\n"
          ]
        }
      ]
    },
    {
      "cell_type": "code",
      "source": [
        "print(\"a-b\")#karakter dizisidir, a-b yazar"
      ],
      "metadata": {
        "colab": {
          "base_uri": "https://localhost:8080/"
        },
        "id": "lPMzW2Evpu44",
        "outputId": "18a4811f-c802-4368-ff75-fd61126a03ba"
      },
      "execution_count": null,
      "outputs": [
        {
          "output_type": "stream",
          "name": "stdout",
          "text": [
            "a-b\n"
          ]
        }
      ]
    },
    {
      "cell_type": "code",
      "source": [
        "print(\"artı\"+\"a\")#karakter dizilerini birleştirir"
      ],
      "metadata": {
        "colab": {
          "base_uri": "https://localhost:8080/"
        },
        "id": "ghq_yaNBqHrY",
        "outputId": "1efec593-78cc-41ca-8693-bccc1ae5b585"
      },
      "execution_count": null,
      "outputs": [
        {
          "output_type": "stream",
          "name": "stdout",
          "text": [
            "artıa\n"
          ]
        }
      ]
    },
    {
      "cell_type": "code",
      "source": [
        "print(\"eksi\"+a) #veriler aynı türde olmalıdır"
      ],
      "metadata": {
        "colab": {
          "base_uri": "https://localhost:8080/",
          "height": 141
        },
        "id": "XW3j8QMyqnKx",
        "outputId": "a87dfb29-d304-419d-cec2-688e5ee49bc2"
      },
      "execution_count": null,
      "outputs": [
        {
          "output_type": "error",
          "ename": "TypeError",
          "evalue": "can only concatenate str (not \"int\") to str",
          "traceback": [
            "\u001b[0;31m---------------------------------------------------------------------------\u001b[0m",
            "\u001b[0;31mTypeError\u001b[0m                                 Traceback (most recent call last)",
            "\u001b[0;32m<ipython-input-7-d80eb31a8da1>\u001b[0m in \u001b[0;36m<cell line: 1>\u001b[0;34m()\u001b[0m\n\u001b[0;32m----> 1\u001b[0;31m \u001b[0mprint\u001b[0m\u001b[0;34m(\u001b[0m\u001b[0;34m\"eksi\"\u001b[0m\u001b[0;34m+\u001b[0m\u001b[0ma\u001b[0m\u001b[0;34m)\u001b[0m\u001b[0;34m\u001b[0m\u001b[0;34m\u001b[0m\u001b[0m\n\u001b[0m",
            "\u001b[0;31mTypeError\u001b[0m: can only concatenate str (not \"int\") to str"
          ]
        }
      ]
    },
    {
      "cell_type": "code",
      "source": [
        "print(\"eksi\"+\"a\")"
      ],
      "metadata": {
        "colab": {
          "base_uri": "https://localhost:8080/"
        },
        "id": "O_rpfTxgrXsH",
        "outputId": "f7a61f1b-86bb-488b-d186-bc1da94f4cbb"
      },
      "execution_count": null,
      "outputs": [
        {
          "output_type": "stream",
          "name": "stdout",
          "text": [
            "eksia\n"
          ]
        }
      ]
    },
    {
      "cell_type": "code",
      "source": [
        "print(a1+artı+b1)"
      ],
      "metadata": {
        "colab": {
          "base_uri": "https://localhost:8080/"
        },
        "id": "AAJ_AsPLryGQ",
        "outputId": "5791c483-ca71-4e6b-9d58-201318640ad9"
      },
      "execution_count": null,
      "outputs": [
        {
          "output_type": "stream",
          "name": "stdout",
          "text": [
            "6+5\n"
          ]
        }
      ]
    },
    {
      "cell_type": "code",
      "source": [
        "print(b1+a1)#değişkenler string tanımlanmış, string'leri yan yana yazar"
      ],
      "metadata": {
        "colab": {
          "base_uri": "https://localhost:8080/"
        },
        "id": "3t7e6PMosKqu",
        "outputId": "a7fa15f9-474c-4767-d239-b198fc75eb17"
      },
      "execution_count": null,
      "outputs": [
        {
          "output_type": "stream",
          "name": "stdout",
          "text": [
            "56\n"
          ]
        }
      ]
    },
    {
      "cell_type": "code",
      "source": [
        "print(b1+carpma+a1)"
      ],
      "metadata": {
        "colab": {
          "base_uri": "https://localhost:8080/"
        },
        "id": "XuY_f5ICswfH",
        "outputId": "1fbc58b5-9fe6-4c26-96ac-b044d44e0a03"
      },
      "execution_count": null,
      "outputs": [
        {
          "output_type": "stream",
          "name": "stdout",
          "text": [
            "5*6\n"
          ]
        }
      ]
    },
    {
      "cell_type": "code",
      "source": [
        "#virgülden önce string ifadeleri birleştirildi, virgülden sonra toplama işlemi yapıldı\n",
        "print(a1+\"+\"+b1+\"=\",a+b)"
      ],
      "metadata": {
        "colab": {
          "base_uri": "https://localhost:8080/"
        },
        "id": "H3W6kviktFjF",
        "outputId": "e0ce1dd7-128d-45aa-f204-24f523b9e74d"
      },
      "execution_count": null,
      "outputs": [
        {
          "output_type": "stream",
          "name": "stdout",
          "text": [
            "6+5= 11\n"
          ]
        }
      ]
    },
    {
      "cell_type": "code",
      "source": [
        "print(a1+\"*\"+b1+\"=\",a*b)"
      ],
      "metadata": {
        "colab": {
          "base_uri": "https://localhost:8080/"
        },
        "id": "BKBHM8jMt_tm",
        "outputId": "0a8bb855-a2a7-4cbd-d06d-344d837ac3ee"
      },
      "execution_count": null,
      "outputs": [
        {
          "output_type": "stream",
          "name": "stdout",
          "text": [
            "6*5= 30\n"
          ]
        }
      ]
    },
    {
      "cell_type": "code",
      "source": [
        "print(a1+\"/\"+b1+\"=\",b/a)"
      ],
      "metadata": {
        "colab": {
          "base_uri": "https://localhost:8080/"
        },
        "id": "MPMDBVtsvJ_V",
        "outputId": "93d81b06-8dca-4365-aead-a475d140de2c"
      },
      "execution_count": null,
      "outputs": [
        {
          "output_type": "stream",
          "name": "stdout",
          "text": [
            "6/5= 1.2\n"
          ]
        }
      ]
    },
    {
      "cell_type": "code",
      "source": [],
      "metadata": {
        "id": "Qan1sGmD3zRP"
      },
      "execution_count": null,
      "outputs": []
    },
    {
      "cell_type": "code",
      "source": [
        "print(a1+artı+b1+\"=\",a+b)"
      ],
      "metadata": {
        "colab": {
          "base_uri": "https://localhost:8080/"
        },
        "id": "hA_XorvWwT01",
        "outputId": "6cf8e654-62d6-4bfc-d2ac-111b1f7c0a6a"
      },
      "execution_count": null,
      "outputs": [
        {
          "output_type": "stream",
          "name": "stdout",
          "text": [
            "6+5= 11\n"
          ]
        }
      ]
    },
    {
      "cell_type": "code",
      "source": [
        "print(a1+carpma+b1+\"=\",a*b)"
      ],
      "metadata": {
        "colab": {
          "base_uri": "https://localhost:8080/"
        },
        "id": "L4xsnbnN4Bhv",
        "outputId": "a7293793-40a8-49e0-a71d-da3eda6cc2b9"
      },
      "execution_count": null,
      "outputs": [
        {
          "output_type": "stream",
          "name": "stdout",
          "text": [
            "6*5= 30\n"
          ]
        }
      ]
    },
    {
      "cell_type": "code",
      "source": [
        "ay=12\n",
        "kilometre=500.0 # float veri tipindedir\n",
        "gun=\"cumartesi\"\n",
        "\n",
        "print(\"ay\")"
      ],
      "metadata": {
        "colab": {
          "base_uri": "https://localhost:8080/"
        },
        "id": "aSGhd65l4Rvf",
        "outputId": "0737e295-2c61-4204-ec52-b76bfd26fea6"
      },
      "execution_count": null,
      "outputs": [
        {
          "output_type": "stream",
          "name": "stdout",
          "text": [
            "ay\n"
          ]
        }
      ]
    },
    {
      "cell_type": "code",
      "source": [
        "print(ay)"
      ],
      "metadata": {
        "colab": {
          "base_uri": "https://localhost:8080/"
        },
        "id": "Oce_PSgI5ZlW",
        "outputId": "8e8dd512-a05b-47cb-865a-60d72d452526"
      },
      "execution_count": null,
      "outputs": [
        {
          "output_type": "stream",
          "name": "stdout",
          "text": [
            "12\n"
          ]
        }
      ]
    },
    {
      "cell_type": "code",
      "source": [
        "#değişkenler sayı ile başlayamaz\n",
        "#3_ay=12 yanlışp kullanım\n",
        "#değişken isimleri sembol ile başlayamaz-->+sayı=5\n",
        "#pythonda özel anlam içeren kelimeler değişken ismi olarak kullanılamaz\n",
        "#false,true,def...."
      ],
      "metadata": {
        "id": "z3AvIYsv5cC1"
      },
      "execution_count": null,
      "outputs": []
    },
    {
      "cell_type": "code",
      "source": [
        "import keyword\n",
        "keyword.kwlist"
      ],
      "metadata": {
        "colab": {
          "base_uri": "https://localhost:8080/"
        },
        "id": "qk7EqMhp6bMm",
        "outputId": "c45b5741-291e-4d4e-f904-7075e2a5c0e6"
      },
      "execution_count": null,
      "outputs": [
        {
          "output_type": "execute_result",
          "data": {
            "text/plain": [
              "['False',\n",
              " 'None',\n",
              " 'True',\n",
              " 'and',\n",
              " 'as',\n",
              " 'assert',\n",
              " 'async',\n",
              " 'await',\n",
              " 'break',\n",
              " 'class',\n",
              " 'continue',\n",
              " 'def',\n",
              " 'del',\n",
              " 'elif',\n",
              " 'else',\n",
              " 'except',\n",
              " 'finally',\n",
              " 'for',\n",
              " 'from',\n",
              " 'global',\n",
              " 'if',\n",
              " 'import',\n",
              " 'in',\n",
              " 'is',\n",
              " 'lambda',\n",
              " 'nonlocal',\n",
              " 'not',\n",
              " 'or',\n",
              " 'pass',\n",
              " 'raise',\n",
              " 'return',\n",
              " 'try',\n",
              " 'while',\n",
              " 'with',\n",
              " 'yield']"
            ]
          },
          "metadata": {},
          "execution_count": 30
        }
      ]
    },
    {
      "cell_type": "code",
      "source": [
        "type(ay)"
      ],
      "metadata": {
        "colab": {
          "base_uri": "https://localhost:8080/"
        },
        "id": "I8ah7XUI6os0",
        "outputId": "01ffe5a8-db0c-427d-ddfc-87d010424e75"
      },
      "execution_count": null,
      "outputs": [
        {
          "output_type": "execute_result",
          "data": {
            "text/plain": [
              "int"
            ]
          },
          "metadata": {},
          "execution_count": 31
        }
      ]
    },
    {
      "cell_type": "code",
      "source": [
        "type(gun) #string"
      ],
      "metadata": {
        "colab": {
          "base_uri": "https://localhost:8080/"
        },
        "id": "2ylxk-bL7VPN",
        "outputId": "e4c61026-ec2d-4e7d-9de5-28b6f91e6c67"
      },
      "execution_count": null,
      "outputs": [
        {
          "output_type": "execute_result",
          "data": {
            "text/plain": [
              "str"
            ]
          },
          "metadata": {},
          "execution_count": 32
        }
      ]
    },
    {
      "cell_type": "code",
      "source": [
        "type =2536"
      ],
      "metadata": {
        "id": "Tl3SA7IV7ats"
      },
      "execution_count": null,
      "outputs": []
    },
    {
      "cell_type": "code",
      "source": [
        "type(gun)"
      ],
      "metadata": {
        "colab": {
          "base_uri": "https://localhost:8080/",
          "height": 141
        },
        "id": "ivDDgQxu70Qq",
        "outputId": "33a35abd-9b91-4508-d251-f0e049de797c"
      },
      "execution_count": null,
      "outputs": [
        {
          "output_type": "error",
          "ename": "TypeError",
          "evalue": "'int' object is not callable",
          "traceback": [
            "\u001b[0;31m---------------------------------------------------------------------------\u001b[0m",
            "\u001b[0;31mTypeError\u001b[0m                                 Traceback (most recent call last)",
            "\u001b[0;32m<ipython-input-34-8a334186b240>\u001b[0m in \u001b[0;36m<cell line: 1>\u001b[0;34m()\u001b[0m\n\u001b[0;32m----> 1\u001b[0;31m \u001b[0mtype\u001b[0m\u001b[0;34m(\u001b[0m\u001b[0mgun\u001b[0m\u001b[0;34m)\u001b[0m\u001b[0;34m\u001b[0m\u001b[0;34m\u001b[0m\u001b[0m\n\u001b[0m",
            "\u001b[0;31mTypeError\u001b[0m: 'int' object is not callable"
          ]
        }
      ]
    },
    {
      "cell_type": "code",
      "source": [
        "del type"
      ],
      "metadata": {
        "id": "hpuIBRgv76F6"
      },
      "execution_count": null,
      "outputs": []
    },
    {
      "cell_type": "code",
      "source": [
        "type(gun)"
      ],
      "metadata": {
        "colab": {
          "base_uri": "https://localhost:8080/"
        },
        "id": "vvCGs5Tq8KfE",
        "outputId": "3ccb1dfd-a855-4b1a-b552-ebb7c029aa9d"
      },
      "execution_count": null,
      "outputs": [
        {
          "output_type": "execute_result",
          "data": {
            "text/plain": [
              "str"
            ]
          },
          "metadata": {},
          "execution_count": 36
        }
      ]
    },
    {
      "cell_type": "code",
      "source": [
        "print(\"length fonsiyonu\")\n"
      ],
      "metadata": {
        "colab": {
          "base_uri": "https://localhost:8080/"
        },
        "id": "FzxC86DG8Nlj",
        "outputId": "24c8a44a-b8c6-4247-9800-a06a6167fcfe"
      },
      "execution_count": null,
      "outputs": [
        {
          "output_type": "stream",
          "name": "stdout",
          "text": [
            "length fonsiyonu\n"
          ]
        }
      ]
    },
    {
      "cell_type": "code",
      "source": [
        "\n",
        "len(\"gizem arslan\")"
      ],
      "metadata": {
        "colab": {
          "base_uri": "https://localhost:8080/"
        },
        "id": "Xb6DQJ6K8uSb",
        "outputId": "df6c6541-6a28-47ee-9577-24ac6949e49e"
      },
      "execution_count": null,
      "outputs": [
        {
          "output_type": "execute_result",
          "data": {
            "text/plain": [
              "12"
            ]
          },
          "metadata": {},
          "execution_count": 38
        }
      ]
    },
    {
      "cell_type": "code",
      "source": [
        "gun"
      ],
      "metadata": {
        "colab": {
          "base_uri": "https://localhost:8080/",
          "height": 35
        },
        "id": "5NP95mk98v4K",
        "outputId": "ec4f34c9-bda9-4122-c95f-6ac674b69a22"
      },
      "execution_count": null,
      "outputs": [
        {
          "output_type": "execute_result",
          "data": {
            "text/plain": [
              "'cumartesi'"
            ],
            "application/vnd.google.colaboratory.intrinsic+json": {
              "type": "string"
            }
          },
          "metadata": {},
          "execution_count": 39
        }
      ]
    },
    {
      "cell_type": "code",
      "source": [
        "len(gun)"
      ],
      "metadata": {
        "colab": {
          "base_uri": "https://localhost:8080/"
        },
        "id": "lh5s5GEq80ph",
        "outputId": "dc760d11-5b08-4b8a-8e15-8d63cdc8072a"
      },
      "execution_count": null,
      "outputs": [
        {
          "output_type": "execute_result",
          "data": {
            "text/plain": [
              "9"
            ]
          },
          "metadata": {},
          "execution_count": 40
        }
      ]
    },
    {
      "cell_type": "code",
      "source": [
        "len(\"gizem arslan\")+len(gun)"
      ],
      "metadata": {
        "colab": {
          "base_uri": "https://localhost:8080/"
        },
        "id": "iQ0a8puj9I2a",
        "outputId": "c2522c6e-609b-4ca2-ef79-3e6a1b417a97"
      },
      "execution_count": null,
      "outputs": [
        {
          "output_type": "execute_result",
          "data": {
            "text/plain": [
              "21"
            ]
          },
          "metadata": {},
          "execution_count": 41
        }
      ]
    },
    {
      "cell_type": "code",
      "source": [
        "type(len(gun))"
      ],
      "metadata": {
        "colab": {
          "base_uri": "https://localhost:8080/"
        },
        "id": "Wo9WiZ7E9vFE",
        "outputId": "5dfd0872-f5f6-4970-908c-805abad34616"
      },
      "execution_count": null,
      "outputs": [
        {
          "output_type": "execute_result",
          "data": {
            "text/plain": [
              "int"
            ]
          },
          "metadata": {},
          "execution_count": 42
        }
      ]
    },
    {
      "cell_type": "code",
      "source": [
        "type(len(\"gizem arslan\"))"
      ],
      "metadata": {
        "colab": {
          "base_uri": "https://localhost:8080/"
        },
        "id": "dM_18KiZ-IGq",
        "outputId": "e0d4f5d4-5e65-4f84-a081-2f6779cbe5a1"
      },
      "execution_count": null,
      "outputs": [
        {
          "output_type": "execute_result",
          "data": {
            "text/plain": [
              "int"
            ]
          },
          "metadata": {},
          "execution_count": 43
        }
      ]
    },
    {
      "cell_type": "code",
      "source": [
        "ad=\"gizem\"\n",
        "soyad=\"arslan\"\n"
      ],
      "metadata": {
        "id": "fSAffuzG-UZB"
      },
      "execution_count": null,
      "outputs": []
    },
    {
      "cell_type": "code",
      "source": [
        "len(ad)"
      ],
      "metadata": {
        "colab": {
          "base_uri": "https://localhost:8080/"
        },
        "id": "ZQ9KB9aV-pI5",
        "outputId": "a429d40b-99cd-46f7-cbb3-29a040890711"
      },
      "execution_count": null,
      "outputs": [
        {
          "output_type": "execute_result",
          "data": {
            "text/plain": [
              "5"
            ]
          },
          "metadata": {},
          "execution_count": 45
        }
      ]
    },
    {
      "cell_type": "code",
      "source": [
        "len(ad)+len(soyad)"
      ],
      "metadata": {
        "colab": {
          "base_uri": "https://localhost:8080/"
        },
        "id": "4QMAdMcm-sDp",
        "outputId": "a7c8c250-a28d-4294-c473-2dc6e272e976"
      },
      "execution_count": null,
      "outputs": [
        {
          "output_type": "execute_result",
          "data": {
            "text/plain": [
              "11"
            ]
          },
          "metadata": {},
          "execution_count": 46
        }
      ]
    },
    {
      "cell_type": "code",
      "source": [
        "uzunluk=len(ad)+len(soyad)"
      ],
      "metadata": {
        "id": "ahudAPZ4-_nJ"
      },
      "execution_count": null,
      "outputs": []
    },
    {
      "cell_type": "code",
      "source": [
        "uzunluk"
      ],
      "metadata": {
        "colab": {
          "base_uri": "https://localhost:8080/"
        },
        "id": "r6l7epG5_OPI",
        "outputId": "8b28743a-8c13-45c3-b349-f85d70c1e0ab"
      },
      "execution_count": null,
      "outputs": [
        {
          "output_type": "execute_result",
          "data": {
            "text/plain": [
              "11"
            ]
          },
          "metadata": {},
          "execution_count": 48
        }
      ]
    },
    {
      "cell_type": "code",
      "source": [
        "type(uzunluk)"
      ],
      "metadata": {
        "colab": {
          "base_uri": "https://localhost:8080/"
        },
        "id": "l1vYAXAp_XIB",
        "outputId": "3408173c-2618-4502-ed47-3ca45e475474"
      },
      "execution_count": null,
      "outputs": [
        {
          "output_type": "execute_result",
          "data": {
            "text/plain": [
              "int"
            ]
          },
          "metadata": {},
          "execution_count": 49
        }
      ]
    },
    {
      "cell_type": "code",
      "source": [
        "yasakli_kelimeler = len(keyword.kwlist)\n",
        "print(yasakli_kelimeler)"
      ],
      "metadata": {
        "colab": {
          "base_uri": "https://localhost:8080/"
        },
        "id": "zaR9mue2_bJJ",
        "outputId": "b93a9084-4a1f-4052-e9e5-37fe304a5dbd"
      },
      "execution_count": null,
      "outputs": [
        {
          "output_type": "stream",
          "name": "stdout",
          "text": [
            "35\n"
          ]
        }
      ]
    },
    {
      "cell_type": "code",
      "source": [
        "len(keyword.kwlist)"
      ],
      "metadata": {
        "colab": {
          "base_uri": "https://localhost:8080/"
        },
        "id": "kORbJa6mAVnI",
        "outputId": "c927feaf-38fd-4df1-de89-68a82f99e706"
      },
      "execution_count": null,
      "outputs": [
        {
          "output_type": "execute_result",
          "data": {
            "text/plain": [
              "35"
            ]
          },
          "metadata": {},
          "execution_count": 51
        }
      ]
    },
    {
      "cell_type": "code",
      "source": [
        "yazi =\"Merhaba Python Dünyası \""
      ],
      "metadata": {
        "id": "o4IV8y1zAZ5g"
      },
      "execution_count": null,
      "outputs": []
    },
    {
      "cell_type": "code",
      "source": [
        "print(yazi)"
      ],
      "metadata": {
        "colab": {
          "base_uri": "https://localhost:8080/"
        },
        "id": "FwdWflo4Biv3",
        "outputId": "2d5cf248-e482-4db2-a27d-5beebb5b5ba1"
      },
      "execution_count": null,
      "outputs": [
        {
          "output_type": "stream",
          "name": "stdout",
          "text": [
            "Merhaba Python Dünyası\n"
          ]
        }
      ]
    },
    {
      "cell_type": "code",
      "source": [
        "print(yazi[0])#ilk karakteri yazar. 0. indiste bulunana karakteri yazar"
      ],
      "metadata": {
        "colab": {
          "base_uri": "https://localhost:8080/"
        },
        "id": "5nALDsklBlM3",
        "outputId": "8d9c6900-5214-4769-9002-1071479de273"
      },
      "execution_count": null,
      "outputs": [
        {
          "output_type": "stream",
          "name": "stdout",
          "text": [
            "M\n"
          ]
        }
      ]
    },
    {
      "cell_type": "code",
      "source": [
        "print(yazi[2:8])#2.indisten başlar,8 dahil olmamak kaydiyla karakterleri yazar"
      ],
      "metadata": {
        "colab": {
          "base_uri": "https://localhost:8080/"
        },
        "id": "sr7qB9tSB2jX",
        "outputId": "7824ac91-6e6d-4508-cd7e-d24eac06bf40"
      },
      "execution_count": null,
      "outputs": [
        {
          "output_type": "stream",
          "name": "stdout",
          "text": [
            "rhaba \n"
          ]
        }
      ]
    },
    {
      "cell_type": "code",
      "source": [
        "print(yazi[3:]) #3. karakterden başlar son karaktere kadar yazar"
      ],
      "metadata": {
        "colab": {
          "base_uri": "https://localhost:8080/"
        },
        "id": "4cTkZ8n1CEK_",
        "outputId": "4c1adacf-bf60-4505-bb9d-9f5d3a7a6bf3"
      },
      "execution_count": null,
      "outputs": [
        {
          "output_type": "stream",
          "name": "stdout",
          "text": [
            "haba Python Dünyası\n"
          ]
        }
      ]
    },
    {
      "cell_type": "code",
      "source": [
        "print(yazi[:8])"
      ],
      "metadata": {
        "colab": {
          "base_uri": "https://localhost:8080/"
        },
        "id": "r1L-OY7-CYWn",
        "outputId": "4c890c1b-9bea-4cbc-9f31-0f617598e948"
      },
      "execution_count": null,
      "outputs": [
        {
          "output_type": "stream",
          "name": "stdout",
          "text": [
            "Merhaba \n"
          ]
        }
      ]
    },
    {
      "cell_type": "code",
      "source": [
        "print(yazi[-1])# sondan okumaya başlar"
      ],
      "metadata": {
        "colab": {
          "base_uri": "https://localhost:8080/"
        },
        "id": "rYt4x8LSC6Xu",
        "outputId": "17f7600f-1e2e-4ecc-affc-6890e33048b5"
      },
      "execution_count": null,
      "outputs": [
        {
          "output_type": "stream",
          "name": "stdout",
          "text": [
            "ı\n"
          ]
        }
      ]
    },
    {
      "cell_type": "code",
      "source": [
        "print(yazi*2)"
      ],
      "metadata": {
        "colab": {
          "base_uri": "https://localhost:8080/"
        },
        "id": "M0dTab0ZDZ2e",
        "outputId": "4fc5d2ae-1a02-4b9f-c922-17b4072baccb"
      },
      "execution_count": null,
      "outputs": [
        {
          "output_type": "stream",
          "name": "stdout",
          "text": [
            "Merhaba Python Dünyası Merhaba Python Dünyası \n"
          ]
        }
      ]
    },
    {
      "cell_type": "code",
      "source": [
        "print(yazi+yazi)"
      ],
      "metadata": {
        "colab": {
          "base_uri": "https://localhost:8080/"
        },
        "id": "IxyJiKEoEBCt",
        "outputId": "9172dfe2-1c41-4ede-f729-65ab59050611"
      },
      "execution_count": null,
      "outputs": [
        {
          "output_type": "stream",
          "name": "stdout",
          "text": [
            "Merhaba Python DünyasıMerhaba Python Dünyası\n"
          ]
        }
      ]
    },
    {
      "cell_type": "code",
      "source": [
        "print(yazi+\" ben geldim\")"
      ],
      "metadata": {
        "colab": {
          "base_uri": "https://localhost:8080/"
        },
        "id": "DKitNIIoEHYe",
        "outputId": "937458c2-8ab0-40e1-96e2-de81b4d1cbbf"
      },
      "execution_count": null,
      "outputs": [
        {
          "output_type": "stream",
          "name": "stdout",
          "text": [
            "Merhaba Python Dünyası ben geldim\n"
          ]
        }
      ]
    },
    {
      "cell_type": "code",
      "source": [
        "print(\"LİSTELER\")"
      ],
      "metadata": {
        "colab": {
          "base_uri": "https://localhost:8080/"
        },
        "id": "5OKPrlEYEvXl",
        "outputId": "41a392ab-34be-4d28-fe62-069567443baa"
      },
      "execution_count": null,
      "outputs": [
        {
          "output_type": "stream",
          "name": "stdout",
          "text": [
            "LİSTELER\n"
          ]
        }
      ]
    },
    {
      "cell_type": "code",
      "source": [
        "liste1 =[\"cumartesi\",5,2.2,\"istanbul\",34]\n",
        "liste2 =[123,'Ankara']"
      ],
      "metadata": {
        "id": "QKQM06MoLZBg"
      },
      "execution_count": null,
      "outputs": []
    },
    {
      "cell_type": "code",
      "source": [
        "print(liste1)"
      ],
      "metadata": {
        "colab": {
          "base_uri": "https://localhost:8080/"
        },
        "id": "9FPRAP-QMNtX",
        "outputId": "6928cea4-c861-4802-d3af-0ca878c285de"
      },
      "execution_count": null,
      "outputs": [
        {
          "output_type": "stream",
          "name": "stdout",
          "text": [
            "['cumartesi', 5, 2.2, 'istanbul', 34]\n"
          ]
        }
      ]
    },
    {
      "cell_type": "code",
      "source": [
        "print(liste1[0])"
      ],
      "metadata": {
        "colab": {
          "base_uri": "https://localhost:8080/"
        },
        "id": "jfqFLNrSMP-Y",
        "outputId": "a09e33cf-d9b6-405e-9604-4d371955ea37"
      },
      "execution_count": null,
      "outputs": [
        {
          "output_type": "stream",
          "name": "stdout",
          "text": [
            "cumartesi\n"
          ]
        }
      ]
    },
    {
      "cell_type": "code",
      "source": [
        "print(liste1[3:5])"
      ],
      "metadata": {
        "colab": {
          "base_uri": "https://localhost:8080/"
        },
        "id": "aMmioT_mMit4",
        "outputId": "06a1a9ee-141c-436d-acda-6ecd34770aef"
      },
      "execution_count": null,
      "outputs": [
        {
          "output_type": "stream",
          "name": "stdout",
          "text": [
            "['istanbul', 34]\n"
          ]
        }
      ]
    },
    {
      "cell_type": "code",
      "source": [
        "print(liste1[0:5:2])"
      ],
      "metadata": {
        "colab": {
          "base_uri": "https://localhost:8080/"
        },
        "id": "XGlyTZw3NMH3",
        "outputId": "4ef07459-0143-423e-beae-b51a49b22487"
      },
      "execution_count": null,
      "outputs": [
        {
          "output_type": "stream",
          "name": "stdout",
          "text": [
            "['cumartesi', 2.2, 34]\n"
          ]
        }
      ]
    },
    {
      "cell_type": "code",
      "source": [
        "print(liste1[1:5:2])"
      ],
      "metadata": {
        "colab": {
          "base_uri": "https://localhost:8080/"
        },
        "id": "I5PiyG08NafX",
        "outputId": "a57b4d56-2490-470a-c8e1-314e54597af6"
      },
      "execution_count": null,
      "outputs": [
        {
          "output_type": "stream",
          "name": "stdout",
          "text": [
            "[5, 'istanbul']\n"
          ]
        }
      ]
    },
    {
      "cell_type": "code",
      "source": [
        "print(liste1*2)"
      ],
      "metadata": {
        "colab": {
          "base_uri": "https://localhost:8080/"
        },
        "id": "JzibVePmPs_N",
        "outputId": "a269e523-278d-43ce-bafe-7c2437421e1a"
      },
      "execution_count": null,
      "outputs": [
        {
          "output_type": "stream",
          "name": "stdout",
          "text": [
            "['cumartesi', 5, 2.2, 'istanbul', 34, 'cumartesi', 5, 2.2, 'istanbul', 34]\n"
          ]
        }
      ]
    },
    {
      "cell_type": "code",
      "source": [
        "print(liste1+liste2)"
      ],
      "metadata": {
        "colab": {
          "base_uri": "https://localhost:8080/"
        },
        "id": "nGCq8RAkQEUV",
        "outputId": "f1ccdf5e-9f2a-4c69-c035-42047b2b5165"
      },
      "execution_count": null,
      "outputs": [
        {
          "output_type": "stream",
          "name": "stdout",
          "text": [
            "['cumartesi', 5, 2.2, 'istanbul', 34, 123, 'Ankara']\n"
          ]
        }
      ]
    },
    {
      "cell_type": "code",
      "source": [
        "print(\"TUPLES\")"
      ],
      "metadata": {
        "colab": {
          "base_uri": "https://localhost:8080/"
        },
        "id": "Rye52eMzQVsF",
        "outputId": "5c811897-72de-4b17-fb57-e67e3da794ac"
      },
      "execution_count": null,
      "outputs": [
        {
          "output_type": "stream",
          "name": "stdout",
          "text": [
            "TUPLES\n"
          ]
        }
      ]
    },
    {
      "cell_type": "code",
      "source": [
        "tuple1 = (\"pazar\",22,\"istanbul\",104)\n",
        "tuple2 = (34,\"istanbul\")\n",
        "\n",
        "print(tuple1[1:3])"
      ],
      "metadata": {
        "colab": {
          "base_uri": "https://localhost:8080/"
        },
        "id": "7_wM4os9RMJ8",
        "outputId": "acee0594-2a82-4e63-cd41-f06ef5728ef9"
      },
      "execution_count": null,
      "outputs": [
        {
          "output_type": "stream",
          "name": "stdout",
          "text": [
            "(22, 'istanbul')\n"
          ]
        }
      ]
    },
    {
      "cell_type": "code",
      "source": [
        "print(tuple1[2:])"
      ],
      "metadata": {
        "colab": {
          "base_uri": "https://localhost:8080/"
        },
        "id": "alWdH9uVRw1U",
        "outputId": "726bc2cf-a8af-4ae0-84cb-10063c2efb68"
      },
      "execution_count": null,
      "outputs": [
        {
          "output_type": "stream",
          "name": "stdout",
          "text": [
            "('istanbul', 104)\n"
          ]
        }
      ]
    },
    {
      "cell_type": "code",
      "source": [
        "print(tuple1*4)"
      ],
      "metadata": {
        "colab": {
          "base_uri": "https://localhost:8080/"
        },
        "id": "eg9NHVwySDiD",
        "outputId": "4de95f3f-4aa6-40cf-aa9d-f90d6db225ea"
      },
      "execution_count": null,
      "outputs": [
        {
          "output_type": "stream",
          "name": "stdout",
          "text": [
            "('pazar', 22, 'istanbul', 104, 'pazar', 22, 'istanbul', 104, 'pazar', 22, 'istanbul', 104, 'pazar', 22, 'istanbul', 104)\n"
          ]
        }
      ]
    },
    {
      "cell_type": "code",
      "source": [
        "#tuple ve liste farkı\n",
        "tuple_1=(1,\"iki\",3,4)\n",
        "liste_1=[\"bir\",2,3,4]\n",
        "liste_1[2]=5\n",
        "print(liste_1)"
      ],
      "metadata": {
        "id": "6UOpqs2-SZdD",
        "colab": {
          "base_uri": "https://localhost:8080/"
        },
        "outputId": "56a98c01-aeb9-4398-c9db-51b793cff859"
      },
      "execution_count": null,
      "outputs": [
        {
          "output_type": "stream",
          "name": "stdout",
          "text": [
            "['bir', 2, 5, 4]\n"
          ]
        }
      ]
    },
    {
      "cell_type": "code",
      "source": [
        "tuple_1[2]=5\n",
        "print(tuple_1)"
      ],
      "metadata": {
        "colab": {
          "base_uri": "https://localhost:8080/",
          "height": 158
        },
        "id": "WStza4Idqvz0",
        "outputId": "78a9de93-be05-4dd1-db1b-e1eedbfe306b"
      },
      "execution_count": null,
      "outputs": [
        {
          "output_type": "error",
          "ename": "TypeError",
          "evalue": "'tuple' object does not support item assignment",
          "traceback": [
            "\u001b[0;31m---------------------------------------------------------------------------\u001b[0m",
            "\u001b[0;31mTypeError\u001b[0m                                 Traceback (most recent call last)",
            "\u001b[0;32m<ipython-input-2-57e86991d53d>\u001b[0m in \u001b[0;36m<cell line: 1>\u001b[0;34m()\u001b[0m\n\u001b[0;32m----> 1\u001b[0;31m \u001b[0mtuple_1\u001b[0m\u001b[0;34m[\u001b[0m\u001b[0;36m2\u001b[0m\u001b[0;34m]\u001b[0m\u001b[0;34m=\u001b[0m\u001b[0;36m5\u001b[0m\u001b[0;34m\u001b[0m\u001b[0;34m\u001b[0m\u001b[0m\n\u001b[0m\u001b[1;32m      2\u001b[0m \u001b[0mprint\u001b[0m\u001b[0;34m(\u001b[0m\u001b[0mtuple_1\u001b[0m\u001b[0;34m)\u001b[0m\u001b[0;34m\u001b[0m\u001b[0;34m\u001b[0m\u001b[0m\n",
            "\u001b[0;31mTypeError\u001b[0m: 'tuple' object does not support item assignment"
          ]
        }
      ]
    },
    {
      "cell_type": "code",
      "source": [
        "print(\"SÖZLÜKLER\")"
      ],
      "metadata": {
        "colab": {
          "base_uri": "https://localhost:8080/"
        },
        "id": "wiDyyiq1rEQC",
        "outputId": "23a82a34-6f60-4452-9d97-90ee3427f419"
      },
      "execution_count": null,
      "outputs": [
        {
          "output_type": "stream",
          "name": "stdout",
          "text": [
            "SÖZLÜKLER\n"
          ]
        }
      ]
    },
    {
      "cell_type": "code",
      "source": [
        "sozluk_1={} #boş bir sözlük tanımlandı\n",
        "sozluk_2={\"isim\":\"gizem\",\"soyisim\":\"arslan\",\"ogr_kodu\":5}"
      ],
      "metadata": {
        "id": "0xEuJVLKripa"
      },
      "execution_count": null,
      "outputs": []
    },
    {
      "cell_type": "code",
      "source": [
        "print(sozluk_2.keys()) #anahtar değerlerini görüntüler"
      ],
      "metadata": {
        "colab": {
          "base_uri": "https://localhost:8080/"
        },
        "id": "HMCGG1tws8RL",
        "outputId": "fe49c37c-c33d-4a01-9d0b-bdbbb6aced7c"
      },
      "execution_count": null,
      "outputs": [
        {
          "output_type": "stream",
          "name": "stdout",
          "text": [
            "dict_keys(['isim', 'soyisim', 'ogr_kodu'])\n"
          ]
        }
      ]
    },
    {
      "cell_type": "code",
      "source": [
        "print(sozluk_2.values())"
      ],
      "metadata": {
        "colab": {
          "base_uri": "https://localhost:8080/"
        },
        "id": "qIE7tKXTtDNr",
        "outputId": "cf95062c-d8d3-46d8-defb-6c5669c2de7a"
      },
      "execution_count": null,
      "outputs": [
        {
          "output_type": "stream",
          "name": "stdout",
          "text": [
            "dict_values(['gizem', 'arslan', 5])\n"
          ]
        }
      ]
    },
    {
      "cell_type": "code",
      "source": [
        "print(sozluk_2[\"isim\"])"
      ],
      "metadata": {
        "colab": {
          "base_uri": "https://localhost:8080/"
        },
        "id": "q2PTSaUAtVvb",
        "outputId": "fc091b48-bfda-4e56-aca4-3c3042837897"
      },
      "execution_count": null,
      "outputs": [
        {
          "output_type": "stream",
          "name": "stdout",
          "text": [
            "gizem\n"
          ]
        }
      ]
    },
    {
      "cell_type": "code",
      "source": [
        "print(sozluk_2[0]) #"
      ],
      "metadata": {
        "colab": {
          "base_uri": "https://localhost:8080/",
          "height": 141
        },
        "id": "50Fm5Nibtofy",
        "outputId": "a738067b-fb8a-41c5-9122-3b96daf8525f"
      },
      "execution_count": null,
      "outputs": [
        {
          "output_type": "error",
          "ename": "KeyError",
          "evalue": "0",
          "traceback": [
            "\u001b[0;31m---------------------------------------------------------------------------\u001b[0m",
            "\u001b[0;31mKeyError\u001b[0m                                  Traceback (most recent call last)",
            "\u001b[0;32m<ipython-input-9-6a2317527156>\u001b[0m in \u001b[0;36m<cell line: 1>\u001b[0;34m()\u001b[0m\n\u001b[0;32m----> 1\u001b[0;31m \u001b[0mprint\u001b[0m\u001b[0;34m(\u001b[0m\u001b[0msozluk_2\u001b[0m\u001b[0;34m[\u001b[0m\u001b[0;36m0\u001b[0m\u001b[0;34m]\u001b[0m\u001b[0;34m)\u001b[0m\u001b[0;34m\u001b[0m\u001b[0;34m\u001b[0m\u001b[0m\n\u001b[0m",
            "\u001b[0;31mKeyError\u001b[0m: 0"
          ]
        }
      ]
    },
    {
      "cell_type": "code",
      "source": [
        "print(\"tür dönüşümleri\")"
      ],
      "metadata": {
        "colab": {
          "base_uri": "https://localhost:8080/"
        },
        "id": "7qnt4uUEuCs8",
        "outputId": "a431f5ed-34b9-4b9c-81e7-fa6a1877b425"
      },
      "execution_count": null,
      "outputs": [
        {
          "output_type": "stream",
          "name": "stdout",
          "text": [
            "tür dönüşümleri\n"
          ]
        }
      ]
    },
    {
      "cell_type": "code",
      "source": [
        "x=10\n",
        "y=20.5"
      ],
      "metadata": {
        "id": "vVmAaQcDuzOL"
      },
      "execution_count": null,
      "outputs": []
    },
    {
      "cell_type": "code",
      "source": [
        "x=float(x) #int veri türünden float veri tütne dönüştürme"
      ],
      "metadata": {
        "id": "U-icjPhIu4rT"
      },
      "execution_count": null,
      "outputs": []
    },
    {
      "cell_type": "code",
      "source": [
        "print(x)"
      ],
      "metadata": {
        "colab": {
          "base_uri": "https://localhost:8080/"
        },
        "id": "XX3b0rutvBEE",
        "outputId": "1c932022-b4cf-44e0-c888-e6e7d21d2e66"
      },
      "execution_count": null,
      "outputs": [
        {
          "output_type": "stream",
          "name": "stdout",
          "text": [
            "10.0\n"
          ]
        }
      ]
    },
    {
      "cell_type": "code",
      "source": [
        "y=int(y) #float veri türünden int veri türüne dönüştürme"
      ],
      "metadata": {
        "id": "Eg9TFwvFvDTb"
      },
      "execution_count": null,
      "outputs": []
    },
    {
      "cell_type": "code",
      "source": [
        "print(y)"
      ],
      "metadata": {
        "colab": {
          "base_uri": "https://localhost:8080/"
        },
        "id": "L1L_PyyAvbam",
        "outputId": "5eed2408-4e23-4a3a-c9ab-f25ec90b0c2f"
      },
      "execution_count": null,
      "outputs": [
        {
          "output_type": "stream",
          "name": "stdout",
          "text": [
            "20\n"
          ]
        }
      ]
    },
    {
      "cell_type": "code",
      "source": [
        "sonuc = str(x)+str(y) #strint veri türüne dönüştürme"
      ],
      "metadata": {
        "id": "7CcV--cEveIz"
      },
      "execution_count": null,
      "outputs": []
    },
    {
      "cell_type": "code",
      "source": [
        "sonuc"
      ],
      "metadata": {
        "colab": {
          "base_uri": "https://localhost:8080/",
          "height": 35
        },
        "id": "nozEE7cJwF_U",
        "outputId": "eb7a7026-ad1b-425d-95bf-6fafc6202197"
      },
      "execution_count": null,
      "outputs": [
        {
          "output_type": "execute_result",
          "data": {
            "text/plain": [
              "'10.020'"
            ],
            "application/vnd.google.colaboratory.intrinsic+json": {
              "type": "string"
            }
          },
          "metadata": {},
          "execution_count": 20
        }
      ]
    },
    {
      "cell_type": "code",
      "source": [
        "type(sonuc)"
      ],
      "metadata": {
        "colab": {
          "base_uri": "https://localhost:8080/"
        },
        "id": "TGytjGiXwHFs",
        "outputId": "827f4832-b004-414c-c180-483907120aea"
      },
      "execution_count": null,
      "outputs": [
        {
          "output_type": "execute_result",
          "data": {
            "text/plain": [
              "str"
            ]
          },
          "metadata": {},
          "execution_count": 18
        }
      ]
    },
    {
      "cell_type": "code",
      "source": [
        "#kullanıcı girişi\n",
        "ad = input(\"adınızı giriniz:\")"
      ],
      "metadata": {
        "colab": {
          "base_uri": "https://localhost:8080/"
        },
        "id": "yo8mbcdxwO6T",
        "outputId": "2b404f11-7761-4b65-a851-91627d466bba"
      },
      "execution_count": null,
      "outputs": [
        {
          "name": "stdout",
          "output_type": "stream",
          "text": [
            "adınızı giriniz:gizem\n"
          ]
        }
      ]
    },
    {
      "cell_type": "code",
      "source": [
        "ad"
      ],
      "metadata": {
        "colab": {
          "base_uri": "https://localhost:8080/",
          "height": 35
        },
        "id": "dxpQJP55x3zl",
        "outputId": "68d58ede-b34f-4620-d11d-607e193605e2"
      },
      "execution_count": null,
      "outputs": [
        {
          "output_type": "execute_result",
          "data": {
            "text/plain": [
              "'gizem'"
            ],
            "application/vnd.google.colaboratory.intrinsic+json": {
              "type": "string"
            }
          },
          "metadata": {},
          "execution_count": 22
        }
      ]
    },
    {
      "cell_type": "code",
      "source": [
        "print(\"adınızı giriniz:\")\n",
        "ad=input()"
      ],
      "metadata": {
        "colab": {
          "base_uri": "https://localhost:8080/"
        },
        "id": "xZpDguCzyD50",
        "outputId": "aa06dc76-74eb-4aad-bb83-8bc7ee45682d"
      },
      "execution_count": null,
      "outputs": [
        {
          "name": "stdout",
          "output_type": "stream",
          "text": [
            "adınızı giriniz:\n",
            "gizem\n"
          ]
        }
      ]
    },
    {
      "cell_type": "code",
      "source": [
        "ad"
      ],
      "metadata": {
        "colab": {
          "base_uri": "https://localhost:8080/",
          "height": 35
        },
        "id": "CP8HaMkRyZAV",
        "outputId": "afc0b5f7-db13-47d2-c78a-610315349dfc"
      },
      "execution_count": null,
      "outputs": [
        {
          "output_type": "execute_result",
          "data": {
            "text/plain": [
              "'gizem'"
            ],
            "application/vnd.google.colaboratory.intrinsic+json": {
              "type": "string"
            }
          },
          "metadata": {},
          "execution_count": 24
        }
      ]
    },
    {
      "cell_type": "code",
      "source": [
        "#karakter dizlerinin Metotları\n",
        "dir(\"\")"
      ],
      "metadata": {
        "colab": {
          "base_uri": "https://localhost:8080/"
        },
        "id": "X9l91b3qyfPl",
        "outputId": "0f95b79a-6667-4ac6-f841-bb6b91aaa21a"
      },
      "execution_count": null,
      "outputs": [
        {
          "output_type": "execute_result",
          "data": {
            "text/plain": [
              "['__add__',\n",
              " '__class__',\n",
              " '__contains__',\n",
              " '__delattr__',\n",
              " '__dir__',\n",
              " '__doc__',\n",
              " '__eq__',\n",
              " '__format__',\n",
              " '__ge__',\n",
              " '__getattribute__',\n",
              " '__getitem__',\n",
              " '__getnewargs__',\n",
              " '__gt__',\n",
              " '__hash__',\n",
              " '__init__',\n",
              " '__init_subclass__',\n",
              " '__iter__',\n",
              " '__le__',\n",
              " '__len__',\n",
              " '__lt__',\n",
              " '__mod__',\n",
              " '__mul__',\n",
              " '__ne__',\n",
              " '__new__',\n",
              " '__reduce__',\n",
              " '__reduce_ex__',\n",
              " '__repr__',\n",
              " '__rmod__',\n",
              " '__rmul__',\n",
              " '__setattr__',\n",
              " '__sizeof__',\n",
              " '__str__',\n",
              " '__subclasshook__',\n",
              " 'capitalize',\n",
              " 'casefold',\n",
              " 'center',\n",
              " 'count',\n",
              " 'encode',\n",
              " 'endswith',\n",
              " 'expandtabs',\n",
              " 'find',\n",
              " 'format',\n",
              " 'format_map',\n",
              " 'index',\n",
              " 'isalnum',\n",
              " 'isalpha',\n",
              " 'isascii',\n",
              " 'isdecimal',\n",
              " 'isdigit',\n",
              " 'isidentifier',\n",
              " 'islower',\n",
              " 'isnumeric',\n",
              " 'isprintable',\n",
              " 'isspace',\n",
              " 'istitle',\n",
              " 'isupper',\n",
              " 'join',\n",
              " 'ljust',\n",
              " 'lower',\n",
              " 'lstrip',\n",
              " 'maketrans',\n",
              " 'partition',\n",
              " 'removeprefix',\n",
              " 'removesuffix',\n",
              " 'replace',\n",
              " 'rfind',\n",
              " 'rindex',\n",
              " 'rjust',\n",
              " 'rpartition',\n",
              " 'rsplit',\n",
              " 'rstrip',\n",
              " 'split',\n",
              " 'splitlines',\n",
              " 'startswith',\n",
              " 'strip',\n",
              " 'swapcase',\n",
              " 'title',\n",
              " 'translate',\n",
              " 'upper',\n",
              " 'zfill']"
            ]
          },
          "metadata": {},
          "execution_count": 25
        }
      ]
    },
    {
      "cell_type": "code",
      "source": [
        "#replace-- yerine koymak, değiştirmek\n",
        "meyve=\"elma\"\n",
        "meyve.replace(\"e\",\"E\")\n"
      ],
      "metadata": {
        "colab": {
          "base_uri": "https://localhost:8080/",
          "height": 35
        },
        "id": "N3477sF4zFRN",
        "outputId": "f37413a2-f9c3-4a87-d6ae-24c0c4880806"
      },
      "execution_count": null,
      "outputs": [
        {
          "output_type": "execute_result",
          "data": {
            "text/plain": [
              "'Elma'"
            ],
            "application/vnd.google.colaboratory.intrinsic+json": {
              "type": "string"
            }
          },
          "metadata": {},
          "execution_count": 26
        }
      ]
    },
    {
      "cell_type": "code",
      "source": [
        "sebze =\"patates\"\n",
        "sebze=sebze.replace(\"a\",\"A\")"
      ],
      "metadata": {
        "id": "K-dlEYBoztJF"
      },
      "execution_count": null,
      "outputs": []
    },
    {
      "cell_type": "code",
      "source": [
        "sebze"
      ],
      "metadata": {
        "colab": {
          "base_uri": "https://localhost:8080/",
          "height": 35
        },
        "id": "6VVNG4Fo0hEu",
        "outputId": "b28696b7-8cff-4f22-f129-f49d663546ff"
      },
      "execution_count": null,
      "outputs": [
        {
          "output_type": "execute_result",
          "data": {
            "text/plain": [
              "'pAtAtes'"
            ],
            "application/vnd.google.colaboratory.intrinsic+json": {
              "type": "string"
            }
          },
          "metadata": {},
          "execution_count": 28
        }
      ]
    },
    {
      "cell_type": "code",
      "source": [
        "yazi=\"türkiye büyük millet meclisi\""
      ],
      "metadata": {
        "id": "rav96pzQ0rXl"
      },
      "execution_count": null,
      "outputs": []
    },
    {
      "cell_type": "code",
      "source": [
        "yazi.replace(\"ü\",\"u\")"
      ],
      "metadata": {
        "colab": {
          "base_uri": "https://localhost:8080/",
          "height": 35
        },
        "id": "3yDiSMAu02wt",
        "outputId": "be4ff677-bcd7-45be-db03-c188bfebf475"
      },
      "execution_count": null,
      "outputs": [
        {
          "output_type": "execute_result",
          "data": {
            "text/plain": [
              "'turkiye buyuk millet meclisi'"
            ],
            "application/vnd.google.colaboratory.intrinsic+json": {
              "type": "string"
            }
          },
          "metadata": {},
          "execution_count": 30
        }
      ]
    },
    {
      "cell_type": "code",
      "source": [
        "yazi.replace(\"ü\",\"u\",1)"
      ],
      "metadata": {
        "colab": {
          "base_uri": "https://localhost:8080/",
          "height": 35
        },
        "id": "547CvHdd1Eim",
        "outputId": "d1dacfb5-bcd1-4a61-f6b6-8e85fabbe2c2"
      },
      "execution_count": null,
      "outputs": [
        {
          "output_type": "execute_result",
          "data": {
            "text/plain": [
              "'turkiye büyük millet meclisi'"
            ],
            "application/vnd.google.colaboratory.intrinsic+json": {
              "type": "string"
            }
          },
          "metadata": {},
          "execution_count": 31
        }
      ]
    },
    {
      "cell_type": "code",
      "source": [
        "yazi.replace(\"ü\",\"u\",2)"
      ],
      "metadata": {
        "colab": {
          "base_uri": "https://localhost:8080/",
          "height": 35
        },
        "id": "Hq9ZQVqr1YuO",
        "outputId": "29193cc6-4570-44a0-f04c-8702cbe3ad4d"
      },
      "execution_count": null,
      "outputs": [
        {
          "output_type": "execute_result",
          "data": {
            "text/plain": [
              "'turkiye buyük millet meclisi'"
            ],
            "application/vnd.google.colaboratory.intrinsic+json": {
              "type": "string"
            }
          },
          "metadata": {},
          "execution_count": 32
        }
      ]
    },
    {
      "cell_type": "code",
      "source": [
        "yazi.replace(\"ü\",\"u\",0)"
      ],
      "metadata": {
        "colab": {
          "base_uri": "https://localhost:8080/",
          "height": 35
        },
        "id": "_RzWgaF71ij-",
        "outputId": "b7746a77-202a-424c-d035-be28cc17a936"
      },
      "execution_count": null,
      "outputs": [
        {
          "output_type": "execute_result",
          "data": {
            "text/plain": [
              "'türkiye büyük millet meclisi'"
            ],
            "application/vnd.google.colaboratory.intrinsic+json": {
              "type": "string"
            }
          },
          "metadata": {},
          "execution_count": 33
        }
      ]
    },
    {
      "cell_type": "code",
      "source": [
        "yazi.replace(\"ü\",\" \")"
      ],
      "metadata": {
        "colab": {
          "base_uri": "https://localhost:8080/",
          "height": 35
        },
        "id": "i7EIB5B2115N",
        "outputId": "30828af6-c037-4c7c-fc8a-242d5b5ca4f5"
      },
      "execution_count": null,
      "outputs": [
        {
          "output_type": "execute_result",
          "data": {
            "text/plain": [
              "'t rkiye b y k millet meclisi'"
            ],
            "application/vnd.google.colaboratory.intrinsic+json": {
              "type": "string"
            }
          },
          "metadata": {},
          "execution_count": 34
        }
      ]
    },
    {
      "cell_type": "code",
      "source": [
        "yazi.replace(\"ü\",\"\")"
      ],
      "metadata": {
        "colab": {
          "base_uri": "https://localhost:8080/",
          "height": 35
        },
        "id": "Fm54cFrz1_QO",
        "outputId": "7351cdac-aa53-4265-a4c8-62888e671e54"
      },
      "execution_count": null,
      "outputs": [
        {
          "output_type": "execute_result",
          "data": {
            "text/plain": [
              "'trkiye byk millet meclisi'"
            ],
            "application/vnd.google.colaboratory.intrinsic+json": {
              "type": "string"
            }
          },
          "metadata": {},
          "execution_count": 35
        }
      ]
    },
    {
      "cell_type": "code",
      "source": [
        "yazi.replace(\"ü\",\"\",1)"
      ],
      "metadata": {
        "colab": {
          "base_uri": "https://localhost:8080/",
          "height": 35
        },
        "id": "2kSZahSC2Ew2",
        "outputId": "2a391bca-627b-40a5-f67d-6d9db29b6d62"
      },
      "execution_count": null,
      "outputs": [
        {
          "output_type": "execute_result",
          "data": {
            "text/plain": [
              "'trkiye büyük millet meclisi'"
            ],
            "application/vnd.google.colaboratory.intrinsic+json": {
              "type": "string"
            }
          },
          "metadata": {},
          "execution_count": 36
        }
      ]
    },
    {
      "cell_type": "code",
      "source": [
        "yazi.replace(\"ü\",\"u\",2+1)"
      ],
      "metadata": {
        "colab": {
          "base_uri": "https://localhost:8080/",
          "height": 35
        },
        "id": "as0k5VA02NGu",
        "outputId": "ffdafaa4-05df-4106-9b10-1432f78dac2f"
      },
      "execution_count": null,
      "outputs": [
        {
          "output_type": "execute_result",
          "data": {
            "text/plain": [
              "'turkiye buyuk millet meclisi'"
            ],
            "application/vnd.google.colaboratory.intrinsic+json": {
              "type": "string"
            }
          },
          "metadata": {},
          "execution_count": 39
        }
      ]
    },
    {
      "cell_type": "code",
      "source": [
        "#split--bölmek ayırmak\n",
        "cumle =\"Türkiye Büyük Millet Meclisi\"\n",
        "cumle.split() #parametresiz kullanıldığında boşluk karakterini ölçüt alır"
      ],
      "metadata": {
        "colab": {
          "base_uri": "https://localhost:8080/"
        },
        "id": "yLXKcyTa2gEG",
        "outputId": "fbc38a39-519e-4ac0-aae5-8b15d3c5664d"
      },
      "execution_count": null,
      "outputs": [
        {
          "output_type": "execute_result",
          "data": {
            "text/plain": [
              "['Türkiye', 'Büyük', 'Millet', 'Meclisi']"
            ]
          },
          "metadata": {},
          "execution_count": 40
        }
      ]
    },
    {
      "cell_type": "code",
      "source": [
        "print(cumle[0],cumle[8],cumle[14],cumle[21]) #karakter dizilerinin dilimleme özelliğinden yararlandık"
      ],
      "metadata": {
        "colab": {
          "base_uri": "https://localhost:8080/"
        },
        "id": "d11HyqfQ21we",
        "outputId": "b8809c8a-68d6-4d51-cb79-8408324d200e"
      },
      "execution_count": null,
      "outputs": [
        {
          "output_type": "stream",
          "name": "stdout",
          "text": [
            "T B M M\n"
          ]
        }
      ]
    },
    {
      "cell_type": "code",
      "source": [
        "cumle.split(\",\")"
      ],
      "metadata": {
        "colab": {
          "base_uri": "https://localhost:8080/"
        },
        "id": "nDNWD5hGAWHi",
        "outputId": "206ce483-94b8-4ce6-ad81-1b6504f77abe"
      },
      "execution_count": null,
      "outputs": [
        {
          "output_type": "execute_result",
          "data": {
            "text/plain": [
              "['Türkiye Büyük Millet Meclisi']"
            ]
          },
          "metadata": {},
          "execution_count": 42
        }
      ]
    },
    {
      "cell_type": "code",
      "source": [
        "cumle.split(\"e\")"
      ],
      "metadata": {
        "colab": {
          "base_uri": "https://localhost:8080/"
        },
        "id": "gTz45R81AzGS",
        "outputId": "33cb722b-542c-4587-949e-53fc40462f04"
      },
      "execution_count": null,
      "outputs": [
        {
          "output_type": "execute_result",
          "data": {
            "text/plain": [
              "['Türkiy', ' Büyük Mill', 't M', 'clisi']"
            ]
          },
          "metadata": {},
          "execution_count": 43
        }
      ]
    },
    {
      "cell_type": "code",
      "source": [
        "cumle.split(\" \",1)"
      ],
      "metadata": {
        "colab": {
          "base_uri": "https://localhost:8080/"
        },
        "id": "PcjY0EbcBMJy",
        "outputId": "0da56d27-d06e-43d0-bdc8-5cc822ef655e"
      },
      "execution_count": null,
      "outputs": [
        {
          "output_type": "execute_result",
          "data": {
            "text/plain": [
              "['Türkiye', 'Büyük Millet Meclisi']"
            ]
          },
          "metadata": {},
          "execution_count": 45
        }
      ]
    },
    {
      "cell_type": "code",
      "source": [
        "cumle.rsplit(\" \",1)"
      ],
      "metadata": {
        "colab": {
          "base_uri": "https://localhost:8080/"
        },
        "id": "uMG0KibXBeTK",
        "outputId": "8c4790b3-21b1-4608-955e-566346cfb21d"
      },
      "execution_count": null,
      "outputs": [
        {
          "output_type": "execute_result",
          "data": {
            "text/plain": [
              "['Türkiye Büyük Millet', 'Meclisi']"
            ]
          },
          "metadata": {},
          "execution_count": 46
        }
      ]
    },
    {
      "cell_type": "code",
      "source": [
        "metin =\"\"\"Python, nesne yönelimli, yorumlamalı, birimsel ve\n",
        "etkileşimli yüksek seviyeli bir programlama dilidir. Girintilere\n",
        "dayalı basit söz dizimi, dilin öğrenilmesini ve akılda kalmasını\n",
        "kolaylaştırır. \"\"\""
      ],
      "metadata": {
        "id": "-ArZqcKDCD_q"
      },
      "execution_count": null,
      "outputs": []
    },
    {
      "cell_type": "code",
      "source": [
        "print(metin.splitlines())"
      ],
      "metadata": {
        "colab": {
          "base_uri": "https://localhost:8080/"
        },
        "id": "hxjanI0dCkX7",
        "outputId": "e77f8690-aa33-4276-fdf5-30f72c2d436c"
      },
      "execution_count": null,
      "outputs": [
        {
          "output_type": "stream",
          "name": "stdout",
          "text": [
            "['Python, nesne yönelimli, yorumlamalı, birimsel ve ', 'etkileşimli yüksek seviyeli bir programlama dilidir. Girintilere ', 'dayalı basit söz dizimi, dilin öğrenilmesini ve akılda kalmasını ', 'kolaylaştırır. ']\n"
          ]
        }
      ]
    },
    {
      "cell_type": "code",
      "source": [
        "print(metin.splitlines(True))"
      ],
      "metadata": {
        "colab": {
          "base_uri": "https://localhost:8080/"
        },
        "id": "XaMXuNEECq6y",
        "outputId": "de11cfc0-d3da-4365-975d-5be270994cca"
      },
      "execution_count": null,
      "outputs": [
        {
          "output_type": "stream",
          "name": "stdout",
          "text": [
            "['Python, nesne yönelimli, yorumlamalı, birimsel ve \\n', 'etkileşimli yüksek seviyeli bir programlama dilidir. Girintilere \\n', 'dayalı basit söz dizimi, dilin öğrenilmesini ve akılda kalmasını \\n', 'kolaylaştırır. ']\n"
          ]
        }
      ]
    },
    {
      "cell_type": "code",
      "source": [
        "#lower--küçük harfe dönüştürür\n",
        "isim=\"GİZEM arslan\"\n",
        "isim.lower()"
      ],
      "metadata": {
        "colab": {
          "base_uri": "https://localhost:8080/",
          "height": 35
        },
        "id": "V_GLJ2iWDWba",
        "outputId": "0841ce72-1619-46f5-880d-6fbba230555f"
      },
      "execution_count": null,
      "outputs": [
        {
          "output_type": "execute_result",
          "data": {
            "text/plain": [
              "'gi̇zem arslan'"
            ],
            "application/vnd.google.colaboratory.intrinsic+json": {
              "type": "string"
            }
          },
          "metadata": {},
          "execution_count": 50
        }
      ]
    },
    {
      "cell_type": "code",
      "source": [
        "ders=\"PYTHON PROGRAMLAMA DİLİ\"\n",
        "konu=\"strin metotları\"\n",
        "print(ders.lower())\n",
        "print(konu.lower())"
      ],
      "metadata": {
        "colab": {
          "base_uri": "https://localhost:8080/"
        },
        "id": "9CNi1N_dD5ZD",
        "outputId": "1a135007-91cf-4ed0-e351-804909416cfa"
      },
      "execution_count": null,
      "outputs": [
        {
          "output_type": "stream",
          "name": "stdout",
          "text": [
            "python programlama di̇li̇\n",
            "strin metotları\n"
          ]
        }
      ]
    },
    {
      "cell_type": "code",
      "source": [
        "iller=\"ISPARTA, ADIYAMAN, DİYARBAKIR, AYDIN, BALIKESİR, AĞRI\"\n",
        "iller.lower()"
      ],
      "metadata": {
        "colab": {
          "base_uri": "https://localhost:8080/",
          "height": 35
        },
        "id": "wbxQTnE-ESzj",
        "outputId": "30eaeeea-3aab-4841-c814-72d4a113db1f"
      },
      "execution_count": null,
      "outputs": [
        {
          "output_type": "execute_result",
          "data": {
            "text/plain": [
              "'isparta, adiyaman, di̇yarbakir, aydin, balikesi̇r, ağri'"
            ],
            "application/vnd.google.colaboratory.intrinsic+json": {
              "type": "string"
            }
          },
          "metadata": {},
          "execution_count": 55
        }
      ]
    },
    {
      "cell_type": "code",
      "source": [
        "iller = iller.replace(\"İ\",\"i\")\n",
        "iller = iller.replace(\"I\",\"ı\")\n"
      ],
      "metadata": {
        "id": "LHXTACSXEyKb"
      },
      "execution_count": null,
      "outputs": []
    },
    {
      "cell_type": "code",
      "source": [
        "iller.lower()"
      ],
      "metadata": {
        "colab": {
          "base_uri": "https://localhost:8080/",
          "height": 35
        },
        "id": "jAonmxz_G_rU",
        "outputId": "323b0729-8e98-49b4-ea25-9317bc10d922"
      },
      "execution_count": null,
      "outputs": [
        {
          "output_type": "execute_result",
          "data": {
            "text/plain": [
              "'ısparta, adıyaman, diyarbakır, aydın, balıkesir, ağrı'"
            ],
            "application/vnd.google.colaboratory.intrinsic+json": {
              "type": "string"
            }
          },
          "metadata": {},
          "execution_count": 59
        }
      ]
    },
    {
      "cell_type": "code",
      "source": [
        "iller=\"ISPARTA, ADIYAMAN, DİYARBAKIR, AYDIN, BALIKESİR, AĞRI\"\n",
        "ilçeler=\"\"\n",
        "son_hali= iller.replace(\"İ\",\"i\").replace(\"I\",\"ı\").lower()\n"
      ],
      "metadata": {
        "id": "6K3pUgk4HBH8"
      },
      "execution_count": null,
      "outputs": []
    },
    {
      "cell_type": "code",
      "source": [
        "son_hali"
      ],
      "metadata": {
        "colab": {
          "base_uri": "https://localhost:8080/",
          "height": 35
        },
        "id": "W0xrlKELH57U",
        "outputId": "9f5abdd1-b902-418c-cdaa-69462b54b65c"
      },
      "execution_count": null,
      "outputs": [
        {
          "output_type": "execute_result",
          "data": {
            "text/plain": [
              "'ısparta, adıyaman, diyarbakır, aydın, balıkesir, ağrı'"
            ],
            "application/vnd.google.colaboratory.intrinsic+json": {
              "type": "string"
            }
          },
          "metadata": {},
          "execution_count": 64
        }
      ]
    },
    {
      "cell_type": "code",
      "source": [
        "son_hali.upper() #karakterleri büyük karaktere dönüştürür"
      ],
      "metadata": {
        "colab": {
          "base_uri": "https://localhost:8080/",
          "height": 35
        },
        "id": "sJG-7jrgH6dM",
        "outputId": "809da9ff-3cb6-4b05-fa51-9c61cb74d8a6"
      },
      "execution_count": null,
      "outputs": [
        {
          "output_type": "execute_result",
          "data": {
            "text/plain": [
              "'ISPARTA, ADIYAMAN, DIYARBAKIR, AYDIN, BALIKESIR, AĞRI'"
            ],
            "application/vnd.google.colaboratory.intrinsic+json": {
              "type": "string"
            }
          },
          "metadata": {},
          "execution_count": 65
        }
      ]
    },
    {
      "cell_type": "code",
      "source": [
        "ders=\"PYTHON PROGRAMLAMA DİLİ\"\n",
        "konu=\"strin metotları\"\n",
        "print(ders.isupper())#karakter dizisinin tamamamen büyük harflerden olup oluşmadığını kontrol eder\n",
        "print(ders.islower())#karakter dizisinin tamamen küçük harflerden oluşup oluşmadığını kontrol eder"
      ],
      "metadata": {
        "colab": {
          "base_uri": "https://localhost:8080/"
        },
        "id": "-_8U6e4sI1bU",
        "outputId": "1ff35df1-f154-4b3a-b6bb-265b3284a834"
      },
      "execution_count": null,
      "outputs": [
        {
          "output_type": "stream",
          "name": "stdout",
          "text": [
            "True\n",
            "False\n"
          ]
        }
      ]
    },
    {
      "cell_type": "code",
      "source": [
        "print(ders.startswith(\"P\"))#ders değişkenin ilk harfini denetler"
      ],
      "metadata": {
        "colab": {
          "base_uri": "https://localhost:8080/"
        },
        "id": "c0OVOegbJrCM",
        "outputId": "52bdc4f2-0fa5-48b2-ad5e-5b013431b2d1"
      },
      "execution_count": null,
      "outputs": [
        {
          "output_type": "stream",
          "name": "stdout",
          "text": [
            "True\n"
          ]
        }
      ]
    },
    {
      "cell_type": "code",
      "source": [
        "print(ders.endswith(\"İ\"))#ders değişkenin son harfini denetler"
      ],
      "metadata": {
        "colab": {
          "base_uri": "https://localhost:8080/"
        },
        "id": "A7qwBBgPKuEd",
        "outputId": "3f42aa9b-4744-437f-92b9-d53047b0f389"
      },
      "execution_count": null,
      "outputs": [
        {
          "output_type": "stream",
          "name": "stdout",
          "text": [
            "True\n"
          ]
        }
      ]
    },
    {
      "cell_type": "code",
      "source": [
        "ders=\"PYTHON PROGRAMLAMA DİLİ\"\n",
        "konu=\"strin metotları\"\n",
        "print(konu.capitalize())#karakter dizisinin ilk harfini büyütür"
      ],
      "metadata": {
        "colab": {
          "base_uri": "https://localhost:8080/"
        },
        "id": "z_XGgBkrLO89",
        "outputId": "53c0ef59-497b-40c2-876f-beb82e78400f"
      },
      "execution_count": null,
      "outputs": [
        {
          "output_type": "stream",
          "name": "stdout",
          "text": [
            "Strin metotları\n"
          ]
        }
      ]
    },
    {
      "cell_type": "code",
      "source": [
        "print(konu.title())#her kelimenin ilk harfini büyük yazar"
      ],
      "metadata": {
        "colab": {
          "base_uri": "https://localhost:8080/"
        },
        "id": "lraYQD4-L_j9",
        "outputId": "7d82af26-33ec-4d50-cd09-ca305f45c6a8"
      },
      "execution_count": null,
      "outputs": [
        {
          "output_type": "stream",
          "name": "stdout",
          "text": [
            "Strin Metotları\n"
          ]
        }
      ]
    },
    {
      "cell_type": "code",
      "source": [
        "print(ders.capitalize())"
      ],
      "metadata": {
        "colab": {
          "base_uri": "https://localhost:8080/"
        },
        "id": "bQd1nTJiMPJN",
        "outputId": "c122b624-41b9-43f1-e2e4-50c38746a977"
      },
      "execution_count": null,
      "outputs": [
        {
          "output_type": "stream",
          "name": "stdout",
          "text": [
            "Python programlama di̇li̇\n"
          ]
        }
      ]
    },
    {
      "cell_type": "code",
      "source": [
        "konu=\"strin Metotları\"\n",
        "print(konu.capitalize())"
      ],
      "metadata": {
        "colab": {
          "base_uri": "https://localhost:8080/"
        },
        "id": "uk8fHaZNMq_l",
        "outputId": "cce615d0-1a19-44d3-8e9e-03b573baa572"
      },
      "execution_count": null,
      "outputs": [
        {
          "output_type": "stream",
          "name": "stdout",
          "text": [
            "Strin metotları\n"
          ]
        }
      ]
    },
    {
      "cell_type": "code",
      "source": [
        "konu=konu.capitalize()"
      ],
      "metadata": {
        "id": "YY0dQ1L5NBmm"
      },
      "execution_count": null,
      "outputs": []
    },
    {
      "cell_type": "code",
      "source": [
        "konu"
      ],
      "metadata": {
        "colab": {
          "base_uri": "https://localhost:8080/",
          "height": 35
        },
        "id": "HQdqYrHSNQ2u",
        "outputId": "2a50b494-76e7-4588-9552-cc062a52effa"
      },
      "execution_count": null,
      "outputs": [
        {
          "output_type": "execute_result",
          "data": {
            "text/plain": [
              "'Strin metotları'"
            ],
            "application/vnd.google.colaboratory.intrinsic+json": {
              "type": "string"
            }
          },
          "metadata": {},
          "execution_count": 81
        }
      ]
    },
    {
      "cell_type": "code",
      "source": [
        "ders=\"PYTHON PROGRAMLAMA DİLİ\"\n",
        "ders.count(\"A\")"
      ],
      "metadata": {
        "colab": {
          "base_uri": "https://localhost:8080/"
        },
        "id": "YL8XIsBsNfHW",
        "outputId": "09d0238b-9588-4816-e650-bac760799829"
      },
      "execution_count": null,
      "outputs": [
        {
          "output_type": "execute_result",
          "data": {
            "text/plain": [
              "3"
            ]
          },
          "metadata": {},
          "execution_count": 82
        }
      ]
    },
    {
      "cell_type": "code",
      "source": [
        "ders.count(\"a\")"
      ],
      "metadata": {
        "colab": {
          "base_uri": "https://localhost:8080/"
        },
        "id": "egXzS4mPUrKw",
        "outputId": "1df271cc-808f-4869-fc93-6fecfa21c7ce"
      },
      "execution_count": null,
      "outputs": [
        {
          "output_type": "execute_result",
          "data": {
            "text/plain": [
              "0"
            ]
          },
          "metadata": {},
          "execution_count": 83
        }
      ]
    },
    {
      "cell_type": "code",
      "source": [
        "ders.count(\"A\",6)"
      ],
      "metadata": {
        "colab": {
          "base_uri": "https://localhost:8080/"
        },
        "id": "XwsDHaqGUxEY",
        "outputId": "eb38887c-4285-4d0b-df6d-6e5781c6e31c"
      },
      "execution_count": null,
      "outputs": [
        {
          "output_type": "execute_result",
          "data": {
            "text/plain": [
              "3"
            ]
          },
          "metadata": {},
          "execution_count": 84
        }
      ]
    },
    {
      "cell_type": "code",
      "source": [
        "ders.count(\"A\",13)"
      ],
      "metadata": {
        "colab": {
          "base_uri": "https://localhost:8080/"
        },
        "id": "cO5Ogaa3VLBY",
        "outputId": "9ee160ff-3bca-4294-bdac-b4fc79a45a5f"
      },
      "execution_count": null,
      "outputs": [
        {
          "output_type": "execute_result",
          "data": {
            "text/plain": [
              "2"
            ]
          },
          "metadata": {},
          "execution_count": 85
        }
      ]
    },
    {
      "cell_type": "code",
      "source": [
        "ders.count(\"A\",6,14)"
      ],
      "metadata": {
        "colab": {
          "base_uri": "https://localhost:8080/"
        },
        "id": "HA63HlvFVTcI",
        "outputId": "e7924151-8e97-4f87-9179-794f068786d2"
      },
      "execution_count": null,
      "outputs": [
        {
          "output_type": "execute_result",
          "data": {
            "text/plain": [
              "1"
            ]
          },
          "metadata": {},
          "execution_count": 86
        }
      ]
    },
    {
      "cell_type": "code",
      "source": [
        "ders=\"PYTHON PROGRAMLAMA DİLİ\"\n",
        "ders.center(50)"
      ],
      "metadata": {
        "colab": {
          "base_uri": "https://localhost:8080/",
          "height": 35
        },
        "id": "cV9jYgDVVfWh",
        "outputId": "cdce4adf-020a-40df-ace6-5a23c14cb0ec"
      },
      "execution_count": null,
      "outputs": [
        {
          "output_type": "execute_result",
          "data": {
            "text/plain": [
              "'             PYTHON PROGRAMLAMA DİLİ              '"
            ],
            "application/vnd.google.colaboratory.intrinsic+json": {
              "type": "string"
            }
          },
          "metadata": {},
          "execution_count": 87
        }
      ]
    },
    {
      "cell_type": "code",
      "source": [
        "ders.center(50,\"-\")"
      ],
      "metadata": {
        "colab": {
          "base_uri": "https://localhost:8080/",
          "height": 35
        },
        "id": "fY7VqbhEVzlZ",
        "outputId": "d9a6b088-bcbd-4f68-8a0d-21b03578702e"
      },
      "execution_count": null,
      "outputs": [
        {
          "output_type": "execute_result",
          "data": {
            "text/plain": [
              "'-------------PYTHON PROGRAMLAMA DİLİ--------------'"
            ],
            "application/vnd.google.colaboratory.intrinsic+json": {
              "type": "string"
            }
          },
          "metadata": {},
          "execution_count": 88
        }
      ]
    },
    {
      "cell_type": "code",
      "source": [
        "ders.index(\"N\")"
      ],
      "metadata": {
        "colab": {
          "base_uri": "https://localhost:8080/"
        },
        "id": "9VEcfhPPV-ZA",
        "outputId": "f2cb54af-25ba-42e7-b543-70854f5b620d"
      },
      "execution_count": null,
      "outputs": [
        {
          "output_type": "execute_result",
          "data": {
            "text/plain": [
              "5"
            ]
          },
          "metadata": {},
          "execution_count": 89
        }
      ]
    },
    {
      "cell_type": "code",
      "source": [
        "ders.index(\"P\",2)#ikinci parametre aramaya kaçıncı ıradan başlayacağını gösterir"
      ],
      "metadata": {
        "colab": {
          "base_uri": "https://localhost:8080/"
        },
        "id": "LnhEiw5tWSQ5",
        "outputId": "ec0a08f7-311b-48a1-b301-6087835720b4"
      },
      "execution_count": null,
      "outputs": [
        {
          "output_type": "execute_result",
          "data": {
            "text/plain": [
              "0"
            ]
          },
          "metadata": {},
          "execution_count": 93
        }
      ]
    },
    {
      "cell_type": "code",
      "source": [
        "ders=\"PYTHON PROGRAMLAMA DİLİ\"\n",
        "ders.rindex(\"P\",0,8)#????????????????"
      ],
      "metadata": {
        "colab": {
          "base_uri": "https://localhost:8080/"
        },
        "id": "OMafzDzzWaOo",
        "outputId": "98b65a48-b253-43c9-f5cc-34d0b6fd4af9"
      },
      "execution_count": null,
      "outputs": [
        {
          "output_type": "execute_result",
          "data": {
            "text/plain": [
              "7"
            ]
          },
          "metadata": {},
          "execution_count": 4
        }
      ]
    },
    {
      "cell_type": "code",
      "source": [
        "print(ders.find(\"P\"))"
      ],
      "metadata": {
        "colab": {
          "base_uri": "https://localhost:8080/"
        },
        "id": "ccxR5orViWw0",
        "outputId": "98f352a4-a442-4e6e-f7fd-d2b76208da2c"
      },
      "execution_count": null,
      "outputs": [
        {
          "output_type": "stream",
          "name": "stdout",
          "text": [
            "0\n"
          ]
        }
      ]
    },
    {
      "cell_type": "code",
      "source": [
        "print(ders.index(\"P\"))"
      ],
      "metadata": {
        "colab": {
          "base_uri": "https://localhost:8080/"
        },
        "id": "khNAbc2RjGxB",
        "outputId": "3707b674-eb51-41d0-b2eb-bf44f7797496"
      },
      "execution_count": null,
      "outputs": [
        {
          "output_type": "stream",
          "name": "stdout",
          "text": [
            "0\n"
          ]
        }
      ]
    },
    {
      "cell_type": "code",
      "source": [
        "ders.index(\"Z\")"
      ],
      "metadata": {
        "colab": {
          "base_uri": "https://localhost:8080/",
          "height": 141
        },
        "id": "mofmiYkUjKrZ",
        "outputId": "a42121e1-f62d-476d-fb8f-329e97a9d395"
      },
      "execution_count": null,
      "outputs": [
        {
          "output_type": "error",
          "ename": "ValueError",
          "evalue": "substring not found",
          "traceback": [
            "\u001b[0;31m---------------------------------------------------------------------------\u001b[0m",
            "\u001b[0;31mValueError\u001b[0m                                Traceback (most recent call last)",
            "\u001b[0;32m<ipython-input-7-effedd3d266d>\u001b[0m in \u001b[0;36m<cell line: 1>\u001b[0;34m()\u001b[0m\n\u001b[0;32m----> 1\u001b[0;31m \u001b[0mders\u001b[0m\u001b[0;34m.\u001b[0m\u001b[0mindex\u001b[0m\u001b[0;34m(\u001b[0m\u001b[0;34m\"Z\"\u001b[0m\u001b[0;34m)\u001b[0m\u001b[0;34m\u001b[0m\u001b[0;34m\u001b[0m\u001b[0m\n\u001b[0m",
            "\u001b[0;31mValueError\u001b[0m: substring not found"
          ]
        }
      ]
    },
    {
      "cell_type": "code",
      "source": [
        "ders.find(\"Z\")"
      ],
      "metadata": {
        "colab": {
          "base_uri": "https://localhost:8080/"
        },
        "id": "cCKM37WjjTH0",
        "outputId": "56c29618-ccb3-4d45-9996-f6692174e12d"
      },
      "execution_count": null,
      "outputs": [
        {
          "output_type": "execute_result",
          "data": {
            "text/plain": [
              "-1"
            ]
          },
          "metadata": {},
          "execution_count": 8
        }
      ]
    },
    {
      "cell_type": "code",
      "source": [
        "gun=\"cumartesi\"\n",
        "gun.isalpha()"
      ],
      "metadata": {
        "colab": {
          "base_uri": "https://localhost:8080/"
        },
        "id": "_efcxY1IjXYE",
        "outputId": "07d2031f-03c4-467d-9115-de717abfc83c"
      },
      "execution_count": null,
      "outputs": [
        {
          "output_type": "execute_result",
          "data": {
            "text/plain": [
              "True"
            ]
          },
          "metadata": {},
          "execution_count": 9
        }
      ]
    },
    {
      "cell_type": "code",
      "source": [
        "tarih=\"18.09\"\n",
        "tarih.isalpha()"
      ],
      "metadata": {
        "colab": {
          "base_uri": "https://localhost:8080/"
        },
        "id": "DpETuSXBjz74",
        "outputId": "cb2c0c2e-2a60-49ac-cb1a-ae450b15ca76"
      },
      "execution_count": null,
      "outputs": [
        {
          "output_type": "execute_result",
          "data": {
            "text/plain": [
              "False"
            ]
          },
          "metadata": {},
          "execution_count": 10
        }
      ]
    },
    {
      "cell_type": "code",
      "source": [
        "help()"
      ],
      "metadata": {
        "colab": {
          "base_uri": "https://localhost:8080/"
        },
        "id": "-8eU1OHHkEFQ",
        "outputId": "c9cc9acf-6365-4c78-d714-8b7c607dd390"
      },
      "execution_count": null,
      "outputs": [
        {
          "output_type": "stream",
          "name": "stdout",
          "text": [
            "\n",
            "Welcome to Python 3.10's help utility!\n",
            "\n",
            "If this is your first time using Python, you should definitely check out\n",
            "the tutorial on the internet at https://docs.python.org/3.10/tutorial/.\n",
            "\n",
            "Enter the name of any module, keyword, or topic to get help on writing\n",
            "Python programs and using Python modules.  To quit this help utility and\n",
            "return to the interpreter, just type \"quit\".\n",
            "\n",
            "To get a list of available modules, keywords, symbols, or topics, type\n",
            "\"modules\", \"keywords\", \"symbols\", or \"topics\".  Each module also comes\n",
            "with a one-line summary of what it does; to list the modules whose name\n",
            "or summary contain a given string such as \"spam\", type \"modules spam\".\n",
            "\n",
            "help> print\n",
            "Help on built-in function print in module builtins:\n",
            "\n",
            "print(...)\n",
            "    print(value, ..., sep=' ', end='\\n', file=sys.stdout, flush=False)\n",
            "    \n",
            "    Prints the values to a stream, or to sys.stdout by default.\n",
            "    Optional keyword arguments:\n",
            "    file:  a file-like object (stream); defaults to the current sys.stdout.\n",
            "    sep:   string inserted between values, default a space.\n",
            "    end:   string appended after the last value, default a newline.\n",
            "    flush: whether to forcibly flush the stream.\n",
            "\n",
            "\n",
            "You are now leaving help and returning to the Python interpreter.\n",
            "If you want to ask for help on a particular object directly from the\n",
            "interpreter, you can type \"help(object)\".  Executing \"help('string')\"\n",
            "has the same effect as typing a particular string at the help> prompt.\n"
          ]
        }
      ]
    },
    {
      "cell_type": "code",
      "source": [
        "deger1=\"\"\n",
        "print(deger1,deger2,deger3,\"\"..., sep=\"-\", end=\"\\n\",file=sys.stdout, flush= False)"
      ],
      "metadata": {
        "id": "AyihlAoLlCrv"
      },
      "execution_count": null,
      "outputs": []
    },
    {
      "cell_type": "code",
      "source": [
        "isim=input(\"isminizi giriniz:\")"
      ],
      "metadata": {
        "colab": {
          "base_uri": "https://localhost:8080/"
        },
        "id": "uW77et1cne2y",
        "outputId": "57a1bad4-552b-4037-c357-39fd25c2ffe8"
      },
      "execution_count": null,
      "outputs": [
        {
          "name": "stdout",
          "output_type": "stream",
          "text": [
            "isminizi giriniz:gizem\n"
          ]
        }
      ]
    },
    {
      "cell_type": "code",
      "source": [
        "print(\"Merhaba\",isim, end=\"!\\n\")"
      ],
      "metadata": {
        "colab": {
          "base_uri": "https://localhost:8080/"
        },
        "id": "m4f8svY8nr6M",
        "outputId": "f6db4059-0236-46a3-aaf6-bdb984121fe4"
      },
      "execution_count": null,
      "outputs": [
        {
          "output_type": "stream",
          "name": "stdout",
          "text": [
            "Merhaba gizem!\n"
          ]
        }
      ]
    },
    {
      "cell_type": "code",
      "source": [
        "sorted('ahmet')#"
      ],
      "metadata": {
        "colab": {
          "base_uri": "https://localhost:8080/"
        },
        "id": "VBa5m6RyoBd8",
        "outputId": "82c7e545-d9e5-45e9-a1cc-e7575f2062ad"
      },
      "execution_count": null,
      "outputs": [
        {
          "output_type": "execute_result",
          "data": {
            "text/plain": [
              "['a', 'e', 'h', 'm', 't']"
            ]
          },
          "metadata": {},
          "execution_count": 14
        }
      ]
    },
    {
      "cell_type": "code",
      "source": [
        "sorted(('elma','armut','kiraz','badem'))"
      ],
      "metadata": {
        "colab": {
          "base_uri": "https://localhost:8080/"
        },
        "id": "Q1XzIszSoPik",
        "outputId": "78de02b6-03e7-4d2f-ed66-32cfa6ff100a"
      },
      "execution_count": null,
      "outputs": [
        {
          "output_type": "execute_result",
          "data": {
            "text/plain": [
              "['armut', 'badem', 'elma', 'kiraz']"
            ]
          },
          "metadata": {},
          "execution_count": 15
        }
      ]
    },
    {
      "cell_type": "code",
      "source": [
        "pow(2,3)"
      ],
      "metadata": {
        "colab": {
          "base_uri": "https://localhost:8080/"
        },
        "id": "TEAg9ptVopKj",
        "outputId": "b1411e4d-415c-4b17-8b1e-eda7a5265d49"
      },
      "execution_count": null,
      "outputs": [
        {
          "output_type": "execute_result",
          "data": {
            "text/plain": [
              "8"
            ]
          },
          "metadata": {},
          "execution_count": 16
        }
      ]
    },
    {
      "cell_type": "code",
      "source": [
        "pow(5,2)"
      ],
      "metadata": {
        "colab": {
          "base_uri": "https://localhost:8080/"
        },
        "id": "TOsWcDbapSWy",
        "outputId": "0f0083d5-9051-49f5-b8a9-38c5830645f4"
      },
      "execution_count": null,
      "outputs": [
        {
          "output_type": "execute_result",
          "data": {
            "text/plain": [
              "25"
            ]
          },
          "metadata": {},
          "execution_count": 17
        }
      ]
    },
    {
      "cell_type": "code",
      "source": [
        "pow(2,3,2) #(2**3)%2 aynı işlemi yapar"
      ],
      "metadata": {
        "colab": {
          "base_uri": "https://localhost:8080/"
        },
        "id": "lX9oMhRVpb7C",
        "outputId": "d03c7f29-ca42-4528-b2bb-5d4fca9e880a"
      },
      "execution_count": null,
      "outputs": [
        {
          "output_type": "execute_result",
          "data": {
            "text/plain": [
              "0"
            ]
          },
          "metadata": {},
          "execution_count": 18
        }
      ]
    },
    {
      "cell_type": "code",
      "source": [
        "ders=\"PYTHON PROGRAMLAMA DİLİ\"\n",
        "print(enumerate(ders))"
      ],
      "metadata": {
        "colab": {
          "base_uri": "https://localhost:8080/"
        },
        "id": "wS3eDZExpiEJ",
        "outputId": "17f11957-ec4f-4d33-aea5-e235d899fd10"
      },
      "execution_count": null,
      "outputs": [
        {
          "output_type": "stream",
          "name": "stdout",
          "text": [
            "<enumerate object at 0x7e6fb817aec0>\n"
          ]
        }
      ]
    },
    {
      "cell_type": "code",
      "source": [
        "print(*enumerate(ders,10))"
      ],
      "metadata": {
        "colab": {
          "base_uri": "https://localhost:8080/"
        },
        "id": "l5UbZAeaqEJp",
        "outputId": "c7f9b6a8-07f6-483e-83ed-e0ed23459b13"
      },
      "execution_count": null,
      "outputs": [
        {
          "output_type": "stream",
          "name": "stdout",
          "text": [
            "(10, 'P') (11, 'Y') (12, 'T') (13, 'H') (14, 'O') (15, 'N') (16, ' ') (17, 'P') (18, 'R') (19, 'O') (20, 'G') (21, 'R') (22, 'A') (23, 'M') (24, 'L') (25, 'A') (26, 'M') (27, 'A') (28, ' ') (29, 'D') (30, 'İ') (31, 'L') (32, 'İ')\n"
          ]
        }
      ]
    },
    {
      "cell_type": "code",
      "source": [
        "kar_diz=\"bu gün ders var\"\n",
        "list_1=[\"öğe1\",10,20]"
      ],
      "metadata": {
        "id": "ZAm1PW3UqRhp"
      },
      "execution_count": null,
      "outputs": []
    },
    {
      "cell_type": "code",
      "source": [
        "import keyword\n",
        "keyword.kwlist\n",
        "len(keyword.kwlist)"
      ],
      "metadata": {
        "colab": {
          "base_uri": "https://localhost:8080/"
        },
        "id": "tTgMh0XKrPsA",
        "outputId": "2d0edba2-b9ea-4db8-969b-d4663fe5546e"
      },
      "execution_count": null,
      "outputs": [
        {
          "output_type": "execute_result",
          "data": {
            "text/plain": [
              "35"
            ]
          },
          "metadata": {},
          "execution_count": 23
        }
      ]
    },
    {
      "cell_type": "code",
      "source": [
        "yasakli_kelimeler=(keyword.kwlist[24])"
      ],
      "metadata": {
        "id": "I85QxmGcvv9z"
      },
      "execution_count": null,
      "outputs": []
    },
    {
      "cell_type": "code",
      "source": [
        "yasakli_kelimeler"
      ],
      "metadata": {
        "colab": {
          "base_uri": "https://localhost:8080/",
          "height": 35
        },
        "id": "akXmGZUav-WK",
        "outputId": "4d60ca3d-7440-4f5a-cfa3-0c34825e7d57"
      },
      "execution_count": null,
      "outputs": [
        {
          "output_type": "execute_result",
          "data": {
            "text/plain": [
              "'lambda'"
            ],
            "application/vnd.google.colaboratory.intrinsic+json": {
              "type": "string"
            }
          },
          "metadata": {},
          "execution_count": 25
        }
      ]
    },
    {
      "cell_type": "code",
      "source": [
        "print(\"bu keyword'un 24. öğesi\",keyword.kwlist[24])"
      ],
      "metadata": {
        "colab": {
          "base_uri": "https://localhost:8080/"
        },
        "id": "70dznc7HwBCK",
        "outputId": "44f22956-bf86-40df-c929-391647584b34"
      },
      "execution_count": null,
      "outputs": [
        {
          "output_type": "stream",
          "name": "stdout",
          "text": [
            "bu keyword'un 24. öğesi lambda\n"
          ]
        }
      ]
    },
    {
      "cell_type": "code",
      "source": [
        "a=input(\"isim\")\n",
        "b=(input(\"yaş\"))\n",
        "c=b+1\n",
        "print(\"merhaba\",a,\"seneye\",(int(b)+1),\"yaşında olacaksınız\")\n"
      ],
      "metadata": {
        "colab": {
          "base_uri": "https://localhost:8080/"
        },
        "id": "7BkaAvRvwd9K",
        "outputId": "44ae639c-da91-4ef1-9611-2d1865ae8c9f"
      },
      "execution_count": null,
      "outputs": [
        {
          "output_type": "stream",
          "name": "stdout",
          "text": [
            "isimgizem\n",
            "yaş27\n",
            "merhaba gizem seneye 28 yaşında olacaksınız\n"
          ]
        }
      ]
    },
    {
      "cell_type": "code",
      "source": [
        "isimler=\"ahmet mehmet ali can cem\"\n",
        "isimler.split()"
      ],
      "metadata": {
        "colab": {
          "base_uri": "https://localhost:8080/"
        },
        "id": "8omRaZcbxrfx",
        "outputId": "1ed1352e-feb2-4a37-ed39-a7bd7092af70"
      },
      "execution_count": null,
      "outputs": [
        {
          "output_type": "execute_result",
          "data": {
            "text/plain": [
              "['ahmet', 'mehmet', 'ali', 'can', 'cem']"
            ]
          },
          "metadata": {},
          "execution_count": 31
        }
      ]
    },
    {
      "cell_type": "code",
      "source": [
        "alfabe=\"abcdefgğhıijklmnoöprstuüvyz\"\n",
        "alfabe.split()"
      ],
      "metadata": {
        "colab": {
          "base_uri": "https://localhost:8080/"
        },
        "id": "51amwJEx3t2J",
        "outputId": "04e7cf2b-6dc0-474b-de94-4eb74a53d23e"
      },
      "execution_count": null,
      "outputs": [
        {
          "output_type": "execute_result",
          "data": {
            "text/plain": [
              "['abcdefgğhıijklmnoöprstuüvyz']"
            ]
          },
          "metadata": {},
          "execution_count": 32
        }
      ]
    },
    {
      "cell_type": "code",
      "source": [
        "harf_listesi=list(alfabe)"
      ],
      "metadata": {
        "id": "TyMKMRCE4FtJ"
      },
      "execution_count": null,
      "outputs": []
    },
    {
      "cell_type": "code",
      "source": [
        "harf_listesi"
      ],
      "metadata": {
        "colab": {
          "base_uri": "https://localhost:8080/"
        },
        "id": "2V8lwhdX4Qtg",
        "outputId": "8cca9d51-2ddb-479e-d359-604533fbce35"
      },
      "execution_count": null,
      "outputs": [
        {
          "output_type": "execute_result",
          "data": {
            "text/plain": [
              "['a',\n",
              " 'b',\n",
              " 'c',\n",
              " 'd',\n",
              " 'e',\n",
              " 'f',\n",
              " 'g',\n",
              " 'ğ',\n",
              " 'h',\n",
              " 'ı',\n",
              " 'i',\n",
              " 'j',\n",
              " 'k',\n",
              " 'l',\n",
              " 'm',\n",
              " 'n',\n",
              " 'o',\n",
              " 'ö',\n",
              " 'p',\n",
              " 'r',\n",
              " 's',\n",
              " 't',\n",
              " 'u',\n",
              " 'ü',\n",
              " 'v',\n",
              " 'y',\n",
              " 'z']"
            ]
          },
          "metadata": {},
          "execution_count": 34
        }
      ]
    },
    {
      "cell_type": "code",
      "source": [
        "bos_liste=[]\n",
        "bos_liste1=list()"
      ],
      "metadata": {
        "id": "hlcV35wk4TTA"
      },
      "execution_count": null,
      "outputs": []
    },
    {
      "cell_type": "code",
      "source": [
        "liste_1=[\"a\",75,25.4,\"python\",\"programlama\",[\"cumartesi\",28],88,22]\n",
        "liste_2=[123,\"merhaba\",\"pazar\"]\n",
        "print(liste_1[0])"
      ],
      "metadata": {
        "colab": {
          "base_uri": "https://localhost:8080/"
        },
        "id": "bf2t2yrb4oFI",
        "outputId": "8f59abd5-8cbf-4d40-a4e5-dc5cba1cb664"
      },
      "execution_count": null,
      "outputs": [
        {
          "output_type": "stream",
          "name": "stdout",
          "text": [
            "a\n"
          ]
        }
      ]
    },
    {
      "cell_type": "code",
      "source": [
        "liste_1[-1]"
      ],
      "metadata": {
        "colab": {
          "base_uri": "https://localhost:8080/"
        },
        "id": "LDdY7gbL5NMg",
        "outputId": "68d7cb0c-292b-4b20-9ab5-d06b7cfced2f"
      },
      "execution_count": null,
      "outputs": [
        {
          "output_type": "execute_result",
          "data": {
            "text/plain": [
              "22"
            ]
          },
          "metadata": {},
          "execution_count": 37
        }
      ]
    },
    {
      "cell_type": "code",
      "source": [
        "liste_1[::-1]"
      ],
      "metadata": {
        "colab": {
          "base_uri": "https://localhost:8080/"
        },
        "id": "f8FhJ3Yo5Smn",
        "outputId": "102b61d6-c760-4e0b-b4cb-81a9a6576cb3"
      },
      "execution_count": null,
      "outputs": [
        {
          "output_type": "execute_result",
          "data": {
            "text/plain": [
              "[22, 88, ['cumartesi', 28], 'programlama', 'python', 25.4, 75, 'a']"
            ]
          },
          "metadata": {},
          "execution_count": 38
        }
      ]
    },
    {
      "cell_type": "code",
      "source": [],
      "metadata": {
        "id": "OdaTQ6qS6ELO"
      },
      "execution_count": null,
      "outputs": []
    },
    {
      "cell_type": "code",
      "source": [
        "liste_1=[\"a\",75,25.4,\"python\",\"programlama\",[\"cumartesi\",28],88,22]"
      ],
      "metadata": {
        "id": "v4fp34jR6Cju"
      },
      "execution_count": null,
      "outputs": []
    },
    {
      "cell_type": "code",
      "source": [
        "liste_1[::-2]"
      ],
      "metadata": {
        "colab": {
          "base_uri": "https://localhost:8080/"
        },
        "id": "xV-8uJlR5n9X",
        "outputId": "55103329-df70-4560-fc3a-681db4aa4200"
      },
      "execution_count": null,
      "outputs": [
        {
          "output_type": "execute_result",
          "data": {
            "text/plain": [
              "[22, ['cumartesi', 28], 'python', 75]"
            ]
          },
          "metadata": {},
          "execution_count": 39
        }
      ]
    },
    {
      "cell_type": "code",
      "source": [
        "liste_1[5]"
      ],
      "metadata": {
        "colab": {
          "base_uri": "https://localhost:8080/"
        },
        "id": "PcFqdDgN57h_",
        "outputId": "47d8dc8e-6fa0-4bc6-b8d2-b363242564f6"
      },
      "execution_count": null,
      "outputs": [
        {
          "output_type": "execute_result",
          "data": {
            "text/plain": [
              "['cumartesi', 28]"
            ]
          },
          "metadata": {},
          "execution_count": 40
        }
      ]
    },
    {
      "cell_type": "code",
      "source": [
        "liste_1[2:5]"
      ],
      "metadata": {
        "colab": {
          "base_uri": "https://localhost:8080/"
        },
        "id": "W8PNsm9k6qwe",
        "outputId": "3f6a47f0-4e0f-46bb-bfec-901f0e74a906"
      },
      "execution_count": null,
      "outputs": [
        {
          "output_type": "execute_result",
          "data": {
            "text/plain": [
              "[25.4, 'python', 'programlama']"
            ]
          },
          "metadata": {},
          "execution_count": 41
        }
      ]
    },
    {
      "cell_type": "code",
      "source": [
        "liste_1[2:]"
      ],
      "metadata": {
        "colab": {
          "base_uri": "https://localhost:8080/"
        },
        "id": "m-bok7zo7G5l",
        "outputId": "83e30e88-e90a-4108-bb9b-d495c2d0f6d6"
      },
      "execution_count": null,
      "outputs": [
        {
          "output_type": "execute_result",
          "data": {
            "text/plain": [
              "[25.4, 'python', 'programlama', ['cumartesi', 28], 88, 22]"
            ]
          },
          "metadata": {},
          "execution_count": 42
        }
      ]
    },
    {
      "cell_type": "code",
      "source": [
        "liste_1=[\"a\",75,25.4,\"python\",\"programlama\",[\"cumartesi\",28,[10,20]],88,22]\n",
        "liste_1[5][2][1]"
      ],
      "metadata": {
        "colab": {
          "base_uri": "https://localhost:8080/"
        },
        "id": "UMZbuJDX7RMV",
        "outputId": "d46e627f-7088-4fa8-8f51-b41280c90821"
      },
      "execution_count": null,
      "outputs": [
        {
          "output_type": "execute_result",
          "data": {
            "text/plain": [
              "20"
            ]
          },
          "metadata": {},
          "execution_count": 46
        }
      ]
    },
    {
      "cell_type": "code",
      "source": [
        "liste_1+liste_2"
      ],
      "metadata": {
        "colab": {
          "base_uri": "https://localhost:8080/"
        },
        "id": "lxIPuqG77Ztl",
        "outputId": "a98e8c7e-d96d-4d72-976d-dbe988b902a2"
      },
      "execution_count": null,
      "outputs": [
        {
          "output_type": "execute_result",
          "data": {
            "text/plain": [
              "['a',\n",
              " 75,\n",
              " 25.4,\n",
              " 'python',\n",
              " 'programlama',\n",
              " ['cumartesi', 28, [10, 20]],\n",
              " 88,\n",
              " 22,\n",
              " 123,\n",
              " 'merhaba',\n",
              " 'pazar']"
            ]
          },
          "metadata": {},
          "execution_count": 47
        }
      ]
    },
    {
      "cell_type": "code",
      "source": [
        "kelime=\"programlama\"\n",
        "kelime=\"P\"+kelime[1:]\n",
        "print(kelime)"
      ],
      "metadata": {
        "colab": {
          "base_uri": "https://localhost:8080/"
        },
        "id": "IBREDtSK9P8r",
        "outputId": "609e8297-b16c-4133-bb1f-a1b7b578ca00"
      },
      "execution_count": null,
      "outputs": [
        {
          "output_type": "stream",
          "name": "stdout",
          "text": [
            "Programlama\n"
          ]
        }
      ]
    },
    {
      "cell_type": "code",
      "source": [
        "print(kelime.replace(\"p\",\"P\"))"
      ],
      "metadata": {
        "colab": {
          "base_uri": "https://localhost:8080/"
        },
        "id": "bWdYv0u099da",
        "outputId": "b43b043c-247c-4266-82ba-d3009219f62b"
      },
      "execution_count": null,
      "outputs": [
        {
          "output_type": "stream",
          "name": "stdout",
          "text": [
            "Programlama\n"
          ]
        }
      ]
    },
    {
      "cell_type": "code",
      "source": [
        "renkler=[\"kırmızı\",\"sarı\",\"mavi\",\"mor\",\"yeşil\"]\n",
        "renkler[0]"
      ],
      "metadata": {
        "colab": {
          "base_uri": "https://localhost:8080/",
          "height": 35
        },
        "id": "KjVTV1p_-VPq",
        "outputId": "ffb38831-1550-45cf-ee65-e96b6ebac54b"
      },
      "execution_count": null,
      "outputs": [
        {
          "output_type": "execute_result",
          "data": {
            "text/plain": [
              "'kırmızı'"
            ],
            "application/vnd.google.colaboratory.intrinsic+json": {
              "type": "string"
            }
          },
          "metadata": {},
          "execution_count": 50
        }
      ]
    },
    {
      "cell_type": "code",
      "source": [
        "renkler[4]=\"siyah\"\n",
        "print(renkler)"
      ],
      "metadata": {
        "colab": {
          "base_uri": "https://localhost:8080/"
        },
        "id": "4tN65anF-lgJ",
        "outputId": "52e30215-6b2d-4445-c2ad-e1d51d65ed76"
      },
      "execution_count": null,
      "outputs": [
        {
          "output_type": "stream",
          "name": "stdout",
          "text": [
            "['siyah', 'sarı', 'mavi', 'mor', 'siyah']\n"
          ]
        }
      ]
    },
    {
      "cell_type": "code",
      "source": [
        "renkler=renkler+[\"pembe\"]"
      ],
      "metadata": {
        "id": "LbmSzQEb-tXB"
      },
      "execution_count": null,
      "outputs": []
    },
    {
      "cell_type": "code",
      "source": [
        "renkler"
      ],
      "metadata": {
        "colab": {
          "base_uri": "https://localhost:8080/"
        },
        "id": "IKYtCKyJ_PBZ",
        "outputId": "6304d83d-3aca-4b73-d16f-893a6689cadd"
      },
      "execution_count": null,
      "outputs": [
        {
          "output_type": "execute_result",
          "data": {
            "text/plain": [
              "['siyah', 'sarı', 'mavi', 'mor', 'siyah', 'pembe']"
            ]
          },
          "metadata": {},
          "execution_count": 54
        }
      ]
    },
    {
      "cell_type": "code",
      "source": [
        "renkler[0:2]=[\"mor\",\"lacivert\"]"
      ],
      "metadata": {
        "id": "zrFvQBh7_QAB"
      },
      "execution_count": null,
      "outputs": []
    },
    {
      "cell_type": "code",
      "source": [
        "renkler"
      ],
      "metadata": {
        "colab": {
          "base_uri": "https://localhost:8080/"
        },
        "id": "Xpv9DtUp_wAg",
        "outputId": "a6e663b4-cacc-4647-ae16-69a9ba18adae"
      },
      "execution_count": null,
      "outputs": [
        {
          "output_type": "execute_result",
          "data": {
            "text/plain": [
              "['mor', 'lacivert', 'mavi', 'mor', 'siyah', 'pembe']"
            ]
          },
          "metadata": {},
          "execution_count": 56
        }
      ]
    },
    {
      "cell_type": "markdown",
      "source": [],
      "metadata": {
        "id": "wq2y4syzAUk5"
      }
    },
    {
      "cell_type": "code",
      "source": [],
      "metadata": {
        "id": "EeYXjqbrAWM_"
      },
      "execution_count": null,
      "outputs": []
    },
    {
      "cell_type": "code",
      "source": [
        "derlenen_diller=[\"C\",\"C++\",\"C#\",\"Java\"]\n",
        "yorumlanan_diller=[\"Python\",\"Perl\",\"Ruby\"]\n",
        "(derlenen_diller+yorumlanan_diller)[2:5]"
      ],
      "metadata": {
        "colab": {
          "base_uri": "https://localhost:8080/"
        },
        "id": "C-yga2NG_xwI",
        "outputId": "2d7f5590-c51f-4f8c-f883-3dcde9e4f8ec"
      },
      "execution_count": null,
      "outputs": [
        {
          "output_type": "execute_result",
          "data": {
            "text/plain": [
              "['C#', 'Java', 'Python']"
            ]
          },
          "metadata": {},
          "execution_count": 59
        }
      ]
    },
    {
      "cell_type": "code",
      "source": [
        "renkler"
      ],
      "metadata": {
        "colab": {
          "base_uri": "https://localhost:8080/"
        },
        "id": "Ibz-VT1uA45X",
        "outputId": "170ef952-8a1d-4d80-9f3a-00bbc225d9cf"
      },
      "execution_count": null,
      "outputs": [
        {
          "output_type": "execute_result",
          "data": {
            "text/plain": [
              "['mor', 'lacivert', 'mavi', 'mor', 'siyah', 'pembe']"
            ]
          },
          "metadata": {},
          "execution_count": 60
        }
      ]
    },
    {
      "cell_type": "code",
      "source": [
        "del renkler[-1]"
      ],
      "metadata": {
        "id": "m7uXcsVuCoZl"
      },
      "execution_count": null,
      "outputs": []
    },
    {
      "cell_type": "code",
      "source": [
        "renkler"
      ],
      "metadata": {
        "colab": {
          "base_uri": "https://localhost:8080/"
        },
        "id": "5OMXTkKWCuss",
        "outputId": "252c0966-d1bb-4a44-817a-58036bca6ccf"
      },
      "execution_count": null,
      "outputs": [
        {
          "output_type": "execute_result",
          "data": {
            "text/plain": [
              "['mor', 'lacivert', 'mavi', 'mor', 'siyah']"
            ]
          },
          "metadata": {},
          "execution_count": 62
        }
      ]
    },
    {
      "cell_type": "code",
      "source": [
        "renkler_1 = renkler"
      ],
      "metadata": {
        "id": "X9zjhC98Cvn0"
      },
      "execution_count": null,
      "outputs": []
    },
    {
      "cell_type": "code",
      "source": [
        "renkler"
      ],
      "metadata": {
        "colab": {
          "base_uri": "https://localhost:8080/"
        },
        "id": "bMrwJw-bC8uE",
        "outputId": "a69d61ba-16f1-4440-cb63-0a136edb8d30"
      },
      "execution_count": null,
      "outputs": [
        {
          "output_type": "execute_result",
          "data": {
            "text/plain": [
              "['mor', 'lacivert', 'mavi', 'mor', 'siyah']"
            ]
          },
          "metadata": {},
          "execution_count": 64
        }
      ]
    },
    {
      "cell_type": "code",
      "source": [
        "renkler_1"
      ],
      "metadata": {
        "colab": {
          "base_uri": "https://localhost:8080/"
        },
        "id": "oEUcP6NBC_6J",
        "outputId": "61c741dd-5b8c-4089-9a75-a56276589356"
      },
      "execution_count": null,
      "outputs": [
        {
          "output_type": "execute_result",
          "data": {
            "text/plain": [
              "['mor', 'lacivert', 'mavi', 'mor', 'siyah']"
            ]
          },
          "metadata": {},
          "execution_count": 65
        }
      ]
    },
    {
      "cell_type": "code",
      "source": [
        "demet=(\"ahmet\",23,\"mehmet\",\"45\")\n",
        "print(type(demet))"
      ],
      "metadata": {
        "colab": {
          "base_uri": "https://localhost:8080/"
        },
        "id": "cx8pyOEYDC9M",
        "outputId": "bdd7c8a2-91b2-449d-884f-6a44c42e65e3"
      },
      "execution_count": null,
      "outputs": [
        {
          "output_type": "stream",
          "name": "stdout",
          "text": [
            "<class 'tuple'>\n"
          ]
        }
      ]
    },
    {
      "cell_type": "code",
      "source": [
        "new_var = 'abcdefg'\n",
        "tuple(new_var) #tuple('abcdefg')"
      ],
      "metadata": {
        "colab": {
          "base_uri": "https://localhost:8080/"
        },
        "id": "YG6HKzzXD-_b",
        "outputId": "64674610-376e-4577-c9d1-f9a93d4ddc54"
      },
      "execution_count": null,
      "outputs": [
        {
          "output_type": "execute_result",
          "data": {
            "text/plain": [
              "('a', 'b', 'c', 'd', 'e', 'f', 'g')"
            ]
          },
          "metadata": {},
          "execution_count": 67
        }
      ]
    },
    {
      "cell_type": "code",
      "source": [
        "tuple_1=(\"a\",75,25.4,\"python\",\"programlama\",(\"cumartesi\",28),88,22)\n",
        "print(tuple_1[0])\n"
      ],
      "metadata": {
        "colab": {
          "base_uri": "https://localhost:8080/"
        },
        "id": "bTT_h6bzEKaj",
        "outputId": "cf92b87b-b0e4-4f8a-b4b7-925d384a5d80"
      },
      "execution_count": null,
      "outputs": [
        {
          "output_type": "stream",
          "name": "stdout",
          "text": [
            "a\n"
          ]
        }
      ]
    },
    {
      "cell_type": "code",
      "source": [
        "tuple_1[-1]"
      ],
      "metadata": {
        "colab": {
          "base_uri": "https://localhost:8080/"
        },
        "id": "9y3d1dH9GzOg",
        "outputId": "60fef92d-60ea-437e-f44a-96275b0243e5"
      },
      "execution_count": null,
      "outputs": [
        {
          "output_type": "execute_result",
          "data": {
            "text/plain": [
              "22"
            ]
          },
          "metadata": {},
          "execution_count": 71
        }
      ]
    },
    {
      "cell_type": "code",
      "source": [
        "tuple_1[::-1]"
      ],
      "metadata": {
        "colab": {
          "base_uri": "https://localhost:8080/"
        },
        "id": "W0fPMezBG3Z_",
        "outputId": "6a82490e-ae1c-401f-c232-b7c01addcdde"
      },
      "execution_count": null,
      "outputs": [
        {
          "output_type": "execute_result",
          "data": {
            "text/plain": [
              "(22, 88, ('cumartesi', 28), 'programlama', 'python', 25.4, 75, 'a')"
            ]
          },
          "metadata": {},
          "execution_count": 72
        }
      ]
    },
    {
      "cell_type": "code",
      "source": [
        "tek_tuple=(\"can\",) #tek öğgeli bir tuple tanımlanabilir"
      ],
      "metadata": {
        "id": "Z5MfatffHNdX"
      },
      "execution_count": null,
      "outputs": []
    },
    {
      "cell_type": "code",
      "source": [
        "li1=[1,2,3]\n",
        "li2=[10,11,12]\n",
        "li1.append(li2)"
      ],
      "metadata": {
        "id": "rYiOvVBTILx-"
      },
      "execution_count": null,
      "outputs": []
    },
    {
      "cell_type": "code",
      "source": [
        "li1"
      ],
      "metadata": {
        "colab": {
          "base_uri": "https://localhost:8080/"
        },
        "id": "-UvEy3AgPIL2",
        "outputId": "88741067-4c1b-49fa-dcb8-82c63c433853"
      },
      "execution_count": null,
      "outputs": [
        {
          "output_type": "execute_result",
          "data": {
            "text/plain": [
              "[1, 2, 3, [10, 11, 12]]"
            ]
          },
          "metadata": {},
          "execution_count": 75
        }
      ]
    },
    {
      "cell_type": "code",
      "source": [
        "li1=[1,2,3]\n",
        "li2=[10,11,12]\n",
        "li1.extend(li2)"
      ],
      "metadata": {
        "id": "y73gakDdPJBm"
      },
      "execution_count": null,
      "outputs": []
    },
    {
      "cell_type": "code",
      "source": [
        "li1"
      ],
      "metadata": {
        "colab": {
          "base_uri": "https://localhost:8080/"
        },
        "id": "hspohQHYPrxl",
        "outputId": "4470e1f0-deeb-4a2b-9e5a-06bc76fc7281"
      },
      "execution_count": null,
      "outputs": [
        {
          "output_type": "execute_result",
          "data": {
            "text/plain": [
              "[1, 2, 3, 10, 11, 12]"
            ]
          },
          "metadata": {},
          "execution_count": 79
        }
      ]
    },
    {
      "cell_type": "code",
      "source": [
        "liste=[\"elma\",\"armut\",\"çilek\"]\n",
        "liste.insert(0,\"erik\")"
      ],
      "metadata": {
        "id": "Ju3LvBnCPtYt"
      },
      "execution_count": null,
      "outputs": []
    },
    {
      "cell_type": "code",
      "source": [
        "liste"
      ],
      "metadata": {
        "colab": {
          "base_uri": "https://localhost:8080/"
        },
        "id": "u4YILO_HQp2s",
        "outputId": "6ee1ee67-37ae-47fb-acab-6286b5de8126"
      },
      "execution_count": null,
      "outputs": [
        {
          "output_type": "execute_result",
          "data": {
            "text/plain": [
              "['erik', 'elma', 'armut', 'çilek']"
            ]
          },
          "metadata": {},
          "execution_count": 81
        }
      ]
    },
    {
      "cell_type": "code",
      "source": [
        "liste.insert(2,\"muz\")"
      ],
      "metadata": {
        "id": "upLq9_I3Qqx8"
      },
      "execution_count": null,
      "outputs": []
    },
    {
      "cell_type": "code",
      "source": [
        "liste"
      ],
      "metadata": {
        "colab": {
          "base_uri": "https://localhost:8080/"
        },
        "id": "mYIVHVe2Q7yz",
        "outputId": "25ae7c1c-e8ac-4e49-f59c-53964a50c260"
      },
      "execution_count": null,
      "outputs": [
        {
          "output_type": "execute_result",
          "data": {
            "text/plain": [
              "['erik', 'elma', 'muz', 'armut', 'çilek']"
            ]
          },
          "metadata": {},
          "execution_count": 83
        }
      ]
    },
    {
      "cell_type": "code",
      "source": [
        "liste.remove(\"erik\")"
      ],
      "metadata": {
        "id": "ibOkavL_Q8rb"
      },
      "execution_count": null,
      "outputs": []
    },
    {
      "cell_type": "code",
      "source": [
        "liste"
      ],
      "metadata": {
        "colab": {
          "base_uri": "https://localhost:8080/"
        },
        "id": "wUV7rtcmRVp7",
        "outputId": "ffa5f064-9e8d-4914-c3e3-84affd6baa25"
      },
      "execution_count": null,
      "outputs": [
        {
          "output_type": "execute_result",
          "data": {
            "text/plain": [
              "['elma', 'muz', 'armut', 'çilek']"
            ]
          },
          "metadata": {},
          "execution_count": 85
        }
      ]
    },
    {
      "cell_type": "code",
      "source": [
        "liste.remove(liste[0])"
      ],
      "metadata": {
        "id": "_qWQ5t97RWcK"
      },
      "execution_count": null,
      "outputs": []
    },
    {
      "cell_type": "code",
      "source": [
        "liste"
      ],
      "metadata": {
        "colab": {
          "base_uri": "https://localhost:8080/"
        },
        "id": "Ocmr6fX0Rg9z",
        "outputId": "7201e1fc-67d6-4358-e845-89eea649addb"
      },
      "execution_count": null,
      "outputs": [
        {
          "output_type": "execute_result",
          "data": {
            "text/plain": [
              "['muz', 'armut', 'çilek']"
            ]
          },
          "metadata": {},
          "execution_count": 90
        }
      ]
    },
    {
      "cell_type": "code",
      "source": [
        "liste[::-1]"
      ],
      "metadata": {
        "colab": {
          "base_uri": "https://localhost:8080/"
        },
        "id": "UvWilS9mSrOK",
        "outputId": "9c6805ad-a6dd-43e2-853f-1847d39bdc3a"
      },
      "execution_count": null,
      "outputs": [
        {
          "output_type": "execute_result",
          "data": {
            "text/plain": [
              "['çilek', 'armut', 'muz']"
            ]
          },
          "metadata": {},
          "execution_count": 91
        }
      ]
    },
    {
      "cell_type": "code",
      "source": [
        "print(reversed(liste)) #nesne verir"
      ],
      "metadata": {
        "colab": {
          "base_uri": "https://localhost:8080/"
        },
        "id": "PeaxnJ80TIVa",
        "outputId": "54f6c121-7700-427d-8e64-0b777dce38de"
      },
      "execution_count": null,
      "outputs": [
        {
          "output_type": "stream",
          "name": "stdout",
          "text": [
            "<list_reverseiterator object at 0x7e6f9610af50>\n"
          ]
        }
      ]
    },
    {
      "cell_type": "code",
      "source": [
        "print(*reversed(liste))"
      ],
      "metadata": {
        "colab": {
          "base_uri": "https://localhost:8080/"
        },
        "id": "x5cubGbTTR_8",
        "outputId": "ee3dcb61-b9cd-4f01-f7d1-ebb1b9bbc841"
      },
      "execution_count": null,
      "outputs": [
        {
          "output_type": "stream",
          "name": "stdout",
          "text": [
            "çilek armut muz\n"
          ]
        }
      ]
    },
    {
      "cell_type": "code",
      "source": [
        "kelimeler ={\"kitap\":\"book\"}\n",
        "bos_soz={}"
      ],
      "metadata": {
        "id": "8h7UlhE2TvpB"
      },
      "execution_count": null,
      "outputs": []
    },
    {
      "cell_type": "code",
      "source": [
        "type(kelimeler)"
      ],
      "metadata": {
        "colab": {
          "base_uri": "https://localhost:8080/"
        },
        "id": "X5Wbd1Krr4jX",
        "outputId": "d80c6504-bcf7-4137-c39b-8fbe29ccc3a0"
      },
      "execution_count": null,
      "outputs": [
        {
          "output_type": "execute_result",
          "data": {
            "text/plain": [
              "dict"
            ]
          },
          "metadata": {},
          "execution_count": 2
        }
      ]
    },
    {
      "cell_type": "code",
      "source": [
        "kelimeler ={\"kitap\":\"book\",\n",
        "            \"bilgisayar\":\"computer\",\n",
        "            \"programlama\":\"programming\",\n",
        "            \"defter\":\"notebook\"}\n",
        "\n"
      ],
      "metadata": {
        "id": "9X9kGt43sIBU"
      },
      "execution_count": null,
      "outputs": []
    },
    {
      "cell_type": "code",
      "source": [
        "len(kelimeler)"
      ],
      "metadata": {
        "colab": {
          "base_uri": "https://localhost:8080/"
        },
        "id": "Ic1ZTQ7Wsn9f",
        "outputId": "a42420ee-f858-43b5-8d8d-72aca21905c3"
      },
      "execution_count": null,
      "outputs": [
        {
          "output_type": "execute_result",
          "data": {
            "text/plain": [
              "4"
            ]
          },
          "metadata": {},
          "execution_count": 4
        }
      ]
    },
    {
      "cell_type": "code",
      "source": [
        "print(kelimeler[\"bilgisayar\"])"
      ],
      "metadata": {
        "colab": {
          "base_uri": "https://localhost:8080/"
        },
        "id": "skfbSEF1suw2",
        "outputId": "a0c00311-9cd2-46e1-ed8f-fc377d984b73"
      },
      "execution_count": null,
      "outputs": [
        {
          "output_type": "stream",
          "name": "stdout",
          "text": [
            "computer\n"
          ]
        }
      ]
    },
    {
      "cell_type": "code",
      "source": [
        "kelimeler[\"defter\"]"
      ],
      "metadata": {
        "colab": {
          "base_uri": "https://localhost:8080/",
          "height": 36
        },
        "id": "1oerQGGitEye",
        "outputId": "d6bbbd9d-8f3f-4f62-d2bf-82ef4621701f"
      },
      "execution_count": null,
      "outputs": [
        {
          "output_type": "execute_result",
          "data": {
            "text/plain": [
              "'notebook'"
            ],
            "application/vnd.google.colaboratory.intrinsic+json": {
              "type": "string"
            }
          },
          "metadata": {},
          "execution_count": 7
        }
      ]
    },
    {
      "cell_type": "code",
      "source": [
        "print(kelimeler.keys())"
      ],
      "metadata": {
        "colab": {
          "base_uri": "https://localhost:8080/"
        },
        "id": "_IAHrFEvtkZO",
        "outputId": "086f883a-c42d-4266-f980-9457dfe2cedc"
      },
      "execution_count": null,
      "outputs": [
        {
          "output_type": "stream",
          "name": "stdout",
          "text": [
            "dict_keys(['kitap', 'bilgisayar', 'programlama', 'defter'])\n"
          ]
        }
      ]
    },
    {
      "cell_type": "code",
      "source": [
        "print(kelimeler.values())"
      ],
      "metadata": {
        "colab": {
          "base_uri": "https://localhost:8080/"
        },
        "id": "95cM1vMIt_y1",
        "outputId": "4d45e978-9d0c-41e3-9717-f7a544895eae"
      },
      "execution_count": null,
      "outputs": [
        {
          "output_type": "stream",
          "name": "stdout",
          "text": [
            "dict_values(['book', 'computer', 'programming', 'notebook'])\n"
          ]
        }
      ]
    },
    {
      "cell_type": "code",
      "source": [
        "print(kelimeler.items())"
      ],
      "metadata": {
        "colab": {
          "base_uri": "https://localhost:8080/"
        },
        "id": "LKT0ty1suH7d",
        "outputId": "a3054511-5a38-4049-9a0f-02b7b35f60b5"
      },
      "execution_count": null,
      "outputs": [
        {
          "output_type": "stream",
          "name": "stdout",
          "text": [
            "dict_items([('kitap', 'book'), ('bilgisayar', 'computer'), ('programlama', 'programming'), ('defter', 'notebook')])\n"
          ]
        }
      ]
    },
    {
      "cell_type": "code",
      "source": [
        "print(\"bilgisayar:\",kelimeler[\"bilgisayar\"])"
      ],
      "metadata": {
        "colab": {
          "base_uri": "https://localhost:8080/"
        },
        "id": "lBN1BFYPum_1",
        "outputId": "ef3bf388-7b13-46f5-d416-d4d4264161c9"
      },
      "execution_count": null,
      "outputs": [
        {
          "output_type": "stream",
          "name": "stdout",
          "text": [
            "bilgisayar: computer\n"
          ]
        }
      ]
    },
    {
      "cell_type": "code",
      "source": [
        "a=list(kelimeler.items())\n",
        "print(a[1])"
      ],
      "metadata": {
        "colab": {
          "base_uri": "https://localhost:8080/"
        },
        "id": "Pl1Xt-kww_lq",
        "outputId": "60fd4453-c4ed-41ea-df4e-dfe700c1ed4c"
      },
      "execution_count": null,
      "outputs": [
        {
          "output_type": "stream",
          "name": "stdout",
          "text": [
            "('bilgisayar', 'computer')\n"
          ]
        }
      ]
    },
    {
      "cell_type": "code",
      "source": [
        "print(a)"
      ],
      "metadata": {
        "colab": {
          "base_uri": "https://localhost:8080/"
        },
        "id": "8BcgCm8wxhX6",
        "outputId": "ba933cc5-483b-493b-836e-6055513d6bb7"
      },
      "execution_count": null,
      "outputs": [
        {
          "output_type": "stream",
          "name": "stdout",
          "text": [
            "[('kitap', 'book'), ('bilgisayar', 'computer'), ('programlama', 'programming'), ('defter', 'notebook')]\n"
          ]
        }
      ]
    },
    {
      "cell_type": "code",
      "source": [
        "kelimeler[\"defter\"]"
      ],
      "metadata": {
        "colab": {
          "base_uri": "https://localhost:8080/",
          "height": 36
        },
        "id": "RodFev8RxvfR",
        "outputId": "93adfd83-0827-461e-cc92-0b09c9e0a572"
      },
      "execution_count": null,
      "outputs": [
        {
          "output_type": "execute_result",
          "data": {
            "text/plain": [
              "'notebook'"
            ],
            "application/vnd.google.colaboratory.intrinsic+json": {
              "type": "string"
            }
          },
          "metadata": {},
          "execution_count": 18
        }
      ]
    },
    {
      "cell_type": "code",
      "source": [
        "telefon_defteri={\"ahmet\":\"2547896\",\n",
        "                 \"mehmet\":\"789654\",\n",
        "                 \"seda\":\"785412\",\n",
        "                 \"eda\":\"7896541\",\n",
        "                 \"nazlı\":\"7412358\",\n",
        "                 \"sude\":\"7896542\"}\n",
        "kisi=input(\"telefon numarasını öğrenmek istediğiniz kişinin ismini giriniz:\").lower()\n",
        "#kisi=kisi.lower()\n",
        "cevap =\"{} adlı kişinin telefon numarası {}\"\n",
        "print(cevap.format(kisi,telefon_defteri[kisi]))"
      ],
      "metadata": {
        "colab": {
          "base_uri": "https://localhost:8080/"
        },
        "id": "xYOP_7NTyPF4",
        "outputId": "ad6dacc6-b67c-42d5-a18d-516c14a5a426"
      },
      "execution_count": null,
      "outputs": [
        {
          "output_type": "stream",
          "name": "stdout",
          "text": [
            "telefon numarasını öğrenmek istediğiniz kişinin ismini giriniz:Eda\n",
            "eda adlı kişinin telefon numarası 7896541\n"
          ]
        }
      ]
    },
    {
      "cell_type": "code",
      "source": [
        "url=input(\"lütfen ulaşmak istediğiniz internet sitesini yazın:\")\n",
        "print(\"Hata! Google \",\"'\"+url+\"'\",\"sitesini ulaşamadı\")"
      ],
      "metadata": {
        "colab": {
          "base_uri": "https://localhost:8080/"
        },
        "id": "MEzLcB3t0BQP",
        "outputId": "2a787bc6-017f-4424-9d3b-6b6dd4eeac47"
      },
      "execution_count": null,
      "outputs": [
        {
          "output_type": "stream",
          "name": "stdout",
          "text": [
            "lütfen ulaşmak istediğiniz internet sitesini yazın:haber.com\n",
            "Hata! Google  'haber.com' sitesini ulaşamadı\n"
          ]
        }
      ]
    },
    {
      "cell_type": "code",
      "source": [
        "url=input(\"lütfen ulaşmak istediğiniz internet sitesini yazın:\")\n",
        "print(\"Hata! google '{}' sitesine ulaşamadı\".format(url))\n"
      ],
      "metadata": {
        "colab": {
          "base_uri": "https://localhost:8080/"
        },
        "id": "SQXX09z4-qo8",
        "outputId": "07398d37-6f62-4e2e-97a5-ad5db909bcb8"
      },
      "execution_count": null,
      "outputs": [
        {
          "output_type": "stream",
          "name": "stdout",
          "text": [
            "lütfen ulaşmak istediğiniz internet sitesini yazın:haber.com\n",
            "Hata! google 'haber.com' sitesine ulaşamadı\n"
          ]
        }
      ]
    },
    {
      "cell_type": "code",
      "source": [
        "print(\"{} ve {} iyi bir ikilidir.\".format(\"python\",\"Django\"))"
      ],
      "metadata": {
        "colab": {
          "base_uri": "https://localhost:8080/"
        },
        "id": "FCiI09LJ_jWq",
        "outputId": "18a97e18-7ca8-4078-e926-5f74e35ad9d3"
      },
      "execution_count": null,
      "outputs": [
        {
          "output_type": "stream",
          "name": "stdout",
          "text": [
            "python ve Django iyi bir ikilidir.\n"
          ]
        }
      ]
    },
    {
      "cell_type": "code",
      "source": [
        "metin=\"{} ve {} iyi bir ikilidir.\"\n",
        "metin.format(\"python\",\"django\")"
      ],
      "metadata": {
        "colab": {
          "base_uri": "https://localhost:8080/",
          "height": 36
        },
        "id": "gc0C3JYoAgmi",
        "outputId": "7d226754-0b01-47b6-cad1-560f1a5b8dbd"
      },
      "execution_count": null,
      "outputs": [
        {
          "output_type": "execute_result",
          "data": {
            "text/plain": [
              "'python ve django iyi bir ikilidir.'"
            ],
            "application/vnd.google.colaboratory.intrinsic+json": {
              "type": "string"
            }
          },
          "metadata": {},
          "execution_count": 31
        }
      ]
    },
    {
      "cell_type": "code",
      "source": [
        "print(\"{} ve {} {} yaşındadır\".format(\"Ali\",\"Ayşe\",\"18\"))"
      ],
      "metadata": {
        "colab": {
          "base_uri": "https://localhost:8080/"
        },
        "id": "knhN04O4BFd5",
        "outputId": "acf5fdd8-7e6d-4e18-8cfc-0698f8271206"
      },
      "execution_count": null,
      "outputs": [
        {
          "output_type": "stream",
          "name": "stdout",
          "text": [
            "Ali ve Ayşe 18 yaşındadır\n"
          ]
        }
      ]
    },
    {
      "cell_type": "code",
      "source": [
        "dilekce=\"\"\"\n",
        "tarih:{}\n",
        "TC {} ÜNİVERSİTESİ\n",
        "{} FAKÜLTESİ DEKANLIĞINA\n",
        "Fakülteniz {} Bölümü {} numaralı öğrencisiyim. Ekte sunduğum belgede mazeretim\n",
        "gereğince {} Eğitim-Öğretim Yılı {}. yarıyılında öğrenime ara izin (Kayıt dondurma)\n",
        "istiyorum.\n",
        "Gereğini arz ederim.\n",
        "İmze\n",
        "Ad:{}\n",
        "Soyad:{}\n",
        "Adres:{}\n",
        "Tel:{}\n",
        "Ekler:{}\n",
        "\"\"\"\n",
        "bosluk_sayisi=dilekce.count(\"{}\")\n",
        "print(bosluk_sayisi)"
      ],
      "metadata": {
        "colab": {
          "base_uri": "https://localhost:8080/"
        },
        "id": "3OO1ufaVBezJ",
        "outputId": "c2c1dc01-b9cc-46fb-f270-b9b024127f00"
      },
      "execution_count": null,
      "outputs": [
        {
          "output_type": "stream",
          "name": "stdout",
          "text": [
            "12\n"
          ]
        }
      ]
    },
    {
      "cell_type": "code",
      "source": [
        "personel={\n",
        "    \"Ahmet Öz\":{\"Memleket\":\"İstanbul\",\n",
        "                \"Meslek\":\"Öğretmen\",\n",
        "                \"Yaş\":34},\n",
        "    \"Mehmet Yağız\":{\"Memleket\":\"Adana\",\n",
        "                    \"Meslek\":\"Mühendis\",\n",
        "                    \"Yaş\":40},\n",
        "    \"Seda Bayrak\":{\"Memleket\":\"Hatay\",\n",
        "                   \"Meslek\":\"Doktor\",\n",
        "                   \"Yaş\":30}\n",
        "}\n",
        "isim=input(\"bilgi edinmek istediğiniz personel ismi:\").title()\n",
        "ayrinti=input(\"hangi bilgi(memleket/meslek/yaş):\").title()\n",
        "\n",
        "print(\"{} adlı personelin memleketi: {}\".format(isim,personel[isim][ayrinti]))"
      ],
      "metadata": {
        "colab": {
          "base_uri": "https://localhost:8080/"
        },
        "id": "v-_XS9JaJ1-I",
        "outputId": "98a710bb-fa25-4a74-fb76-df3d2df420ac"
      },
      "execution_count": null,
      "outputs": [
        {
          "output_type": "stream",
          "name": "stdout",
          "text": [
            "bilgi edinmek istediğiniz personel ismi:seda bayrak\n",
            "hangi bilgi(memleket/meslek/yaş):memleket\n",
            "Seda Bayrak adlı personelin memleketi: Hatay\n"
          ]
        }
      ]
    },
    {
      "cell_type": "code",
      "source": [
        "ogrenciler={\n",
        "    \"Ali Yılmaz\":{\"Matematik\":78,\n",
        "                  \"Türkçe\":45,\n",
        "                  \"Kimya\":95},\n",
        "    \"Merve Aydın\":{\"Matematik\":98,\n",
        "                   \"Türkçe\":65,\n",
        "                   \"Kimya\":74},\n",
        "    \"Gamze Kaya\":{\"Matematik\":98,\n",
        "                   \"Türkçe\":65,\n",
        "                   \"Kimya\":74},\n",
        "}"
      ],
      "metadata": {
        "id": "xQ0Qe11LLyUu"
      },
      "execution_count": null,
      "outputs": []
    },
    {
      "cell_type": "code",
      "source": [
        "print(\"LÜTFEN TÜM HARLERİ KÜÇÜK GİRNİZ\")\n",
        "isim=input(\"Öğrenci isnizi giriniz:\").title()\n",
        "ders=input(\"Ders ismin giriniz:\").title()\n",
        "\n",
        "print(\"{} adlı öğrencinin {} dersindeki notu {}\".format(isim,ders,ogrenciler[isim][ders]))"
      ],
      "metadata": {
        "colab": {
          "base_uri": "https://localhost:8080/"
        },
        "id": "S1doJZI7WL3r",
        "outputId": "23d4cf72-014d-4909-b6ff-cb54de75c373"
      },
      "execution_count": null,
      "outputs": [
        {
          "output_type": "stream",
          "name": "stdout",
          "text": [
            "LÜTFEN TÜM HARLERİ KÜÇÜK GİRNİZ\n",
            "Öğrenci isnizi giriniz:merve aydın\n",
            "Ders ismin giriniz:kimya\n",
            "Merve Aydın adlı öğrencinin Kimya dersindeki notu 74\n"
          ]
        }
      ]
    },
    {
      "cell_type": "code",
      "source": [
        "print(ogrenciler[isim][ders])"
      ],
      "metadata": {
        "colab": {
          "base_uri": "https://localhost:8080/"
        },
        "id": "PZzWAeJLb9Wm",
        "outputId": "eda4f739-a096-49fd-8f8f-4c0332f4cc74"
      },
      "execution_count": null,
      "outputs": [
        {
          "output_type": "stream",
          "name": "stdout",
          "text": [
            "74\n"
          ]
        }
      ]
    },
    {
      "cell_type": "code",
      "source": [
        "sözlük={}"
      ],
      "metadata": {
        "id": "qFJ513Lsdspz"
      },
      "execution_count": null,
      "outputs": []
    },
    {
      "cell_type": "code",
      "source": [
        "sözlük"
      ],
      "metadata": {
        "colab": {
          "base_uri": "https://localhost:8080/"
        },
        "id": "_-MpuZBIyHxp",
        "outputId": "4d8e5b5a-c4d6-48b4-c057-15e6c3da8a80"
      },
      "execution_count": null,
      "outputs": [
        {
          "output_type": "execute_result",
          "data": {
            "text/plain": [
              "{}"
            ]
          },
          "metadata": {},
          "execution_count": 18
        }
      ]
    },
    {
      "cell_type": "code",
      "source": [
        "sözlük[\"Ahmet\"]=\"Adana\""
      ],
      "metadata": {
        "id": "lGXYTp90yJ2f"
      },
      "execution_count": null,
      "outputs": []
    },
    {
      "cell_type": "code",
      "source": [
        "sözlük"
      ],
      "metadata": {
        "colab": {
          "base_uri": "https://localhost:8080/"
        },
        "id": "wmeno_p-yVg3",
        "outputId": "9f5410ad-6bca-4f71-d132-35b8c1cf04cb"
      },
      "execution_count": null,
      "outputs": [
        {
          "output_type": "execute_result",
          "data": {
            "text/plain": [
              "{'Ahmet': 'Adana'}"
            ]
          },
          "metadata": {},
          "execution_count": 20
        }
      ]
    },
    {
      "cell_type": "code",
      "source": [
        "sözlük[\"Seda\"]=\"Hatay\""
      ],
      "metadata": {
        "id": "OWlrHRmbyXWH"
      },
      "execution_count": null,
      "outputs": []
    },
    {
      "cell_type": "code",
      "source": [
        "sözlük\n"
      ],
      "metadata": {
        "colab": {
          "base_uri": "https://localhost:8080/"
        },
        "id": "wYSmjAffywWf",
        "outputId": "f011bfe6-4dc7-477d-993f-335cf585fb10"
      },
      "execution_count": null,
      "outputs": [
        {
          "output_type": "execute_result",
          "data": {
            "text/plain": [
              "{'Ahmet': 'Adana', 'Seda': 'Hatay'}"
            ]
          },
          "metadata": {},
          "execution_count": 22
        }
      ]
    },
    {
      "cell_type": "code",
      "source": [
        "sözlük[\"İstanbul\"]=34"
      ],
      "metadata": {
        "id": "3NLmUXgbyzk3"
      },
      "execution_count": null,
      "outputs": []
    },
    {
      "cell_type": "code",
      "source": [
        "sözlük\n"
      ],
      "metadata": {
        "colab": {
          "base_uri": "https://localhost:8080/"
        },
        "id": "BUl3jElGzZF-",
        "outputId": "241a15fa-ba1d-4e10-f50d-ac3b234d2ad9"
      },
      "execution_count": null,
      "outputs": [
        {
          "output_type": "execute_result",
          "data": {
            "text/plain": [
              "{'Ahmet': 'Adana', 'Seda': 'Hatay', 'İstanbul': 34}"
            ]
          },
          "metadata": {},
          "execution_count": 24
        }
      ]
    },
    {
      "cell_type": "code",
      "source": [
        "sözlük[34]=\"İstanbul\""
      ],
      "metadata": {
        "id": "JPvIOVJdzbn-"
      },
      "execution_count": null,
      "outputs": []
    },
    {
      "cell_type": "code",
      "source": [
        "sözlük"
      ],
      "metadata": {
        "colab": {
          "base_uri": "https://localhost:8080/"
        },
        "id": "yskIfOPvztct",
        "outputId": "20585710-1901-4398-aceb-7e7e1d67ca65"
      },
      "execution_count": null,
      "outputs": [
        {
          "output_type": "execute_result",
          "data": {
            "text/plain": [
              "{'Ahmet': 'Adana', 'Seda': 'Hatay', 'İstanbul': 34, 34: 'İstanbul'}"
            ]
          },
          "metadata": {},
          "execution_count": 26
        }
      ]
    },
    {
      "cell_type": "code",
      "source": [
        "sayı=1\n",
        "sözlük[sayı]=\"Ankara\""
      ],
      "metadata": {
        "id": "4UavV41_zu1F"
      },
      "execution_count": null,
      "outputs": []
    },
    {
      "cell_type": "code",
      "source": [
        "sözlük"
      ],
      "metadata": {
        "colab": {
          "base_uri": "https://localhost:8080/"
        },
        "id": "DvjqPKGp0Aq9",
        "outputId": "3ddbba83-f03e-474f-a401-582842c5c7d8"
      },
      "execution_count": null,
      "outputs": [
        {
          "output_type": "execute_result",
          "data": {
            "text/plain": [
              "{'Ahmet': 'Adana',\n",
              " 'Seda': 'Hatay',\n",
              " 'İstanbul': 34,\n",
              " 34: 'İstanbul',\n",
              " 1: 'Ankara'}"
            ]
          },
          "metadata": {},
          "execution_count": 29
        }
      ]
    },
    {
      "cell_type": "code",
      "source": [
        "karakter_diz=\"karakterler\"\n",
        "sözlük[karakter_diz]=\"stringler\""
      ],
      "metadata": {
        "id": "R97ijbA60FCd"
      },
      "execution_count": null,
      "outputs": []
    },
    {
      "cell_type": "code",
      "source": [
        "sözlük"
      ],
      "metadata": {
        "colab": {
          "base_uri": "https://localhost:8080/"
        },
        "id": "t9oQv2im0hIk",
        "outputId": "9c3626ee-2595-4f86-a6e0-f2e7be1d287b"
      },
      "execution_count": null,
      "outputs": [
        {
          "output_type": "execute_result",
          "data": {
            "text/plain": [
              "{'Ahmet': 'Adana',\n",
              " 'Seda': 'Hatay',\n",
              " 'İstanbul': 34,\n",
              " 34: 'İstanbul',\n",
              " 1: 'Ankara',\n",
              " 'karakterler': 'stringler'}"
            ]
          },
          "metadata": {},
          "execution_count": 31
        }
      ]
    },
    {
      "cell_type": "code",
      "source": [
        "tuplee=(1,2,3)\n",
        "sözlük[tuplee]=\"tuplelar\""
      ],
      "metadata": {
        "id": "_HPxCWA80ihc"
      },
      "execution_count": null,
      "outputs": []
    },
    {
      "cell_type": "code",
      "source": [
        "sözlük"
      ],
      "metadata": {
        "colab": {
          "base_uri": "https://localhost:8080/"
        },
        "id": "2FeI3_-c0357",
        "outputId": "762ad16b-52a8-4c8b-b66f-7252233a38c9"
      },
      "execution_count": null,
      "outputs": [
        {
          "output_type": "execute_result",
          "data": {
            "text/plain": [
              "{'Ahmet': 'Adana',\n",
              " 'Seda': 'Hatay',\n",
              " 'İstanbul': 34,\n",
              " 34: 'İstanbul',\n",
              " 1: 'Ankara',\n",
              " 'karakterler': 'stringler',\n",
              " (1, 2, 3): 'tuplelar'}"
            ]
          },
          "metadata": {},
          "execution_count": 33
        }
      ]
    },
    {
      "cell_type": "code",
      "source": [
        "liste=[\"armut\",\"elma\"]\n",
        "sözlük[liste]=\"listeler\"#hata verir"
      ],
      "metadata": {
        "colab": {
          "base_uri": "https://localhost:8080/"
        },
        "id": "bS9HqGNg05Qx",
        "outputId": "434d3d73-bc29-4cd8-f9c6-9ec0d1225589"
      },
      "execution_count": null,
      "outputs": [
        {
          "output_type": "execute_result",
          "data": {
            "text/plain": [
              "list"
            ]
          },
          "metadata": {},
          "execution_count": 36
        }
      ]
    },
    {
      "cell_type": "code",
      "source": [
        "sözlük[\"listeler\"]=[\"armut\",\"elma\"] #listeler key olarak atanamaz fakat vales olarak karmızıa çıkar"
      ],
      "metadata": {
        "id": "GfwLDP9m1Hzi"
      },
      "execution_count": null,
      "outputs": []
    },
    {
      "cell_type": "code",
      "source": [
        "sözlük"
      ],
      "metadata": {
        "colab": {
          "base_uri": "https://localhost:8080/"
        },
        "id": "4SsRmwaB94c_",
        "outputId": "6d4d32ca-b3fa-4f76-9758-53c5be3a184f"
      },
      "execution_count": null,
      "outputs": [
        {
          "output_type": "execute_result",
          "data": {
            "text/plain": [
              "{'Ahmet': 'Adana',\n",
              " 'Seda': 'Hatay',\n",
              " 'İstanbul': 34,\n",
              " 34: 'İstanbul',\n",
              " 1: 'Ankara',\n",
              " 'karakterler': 'stringler',\n",
              " (1, 2, 3): 'tuplelar',\n",
              " 'listeler': ['armut', 'elma']}"
            ]
          },
          "metadata": {},
          "execution_count": 38
        }
      ]
    },
    {
      "cell_type": "code",
      "source": [
        "sözlük[\"İstanbul\"]=200000000 # sözlük öğeleri üzerinde değişiklik"
      ],
      "metadata": {
        "id": "RfCDVOgE96C3"
      },
      "execution_count": null,
      "outputs": []
    },
    {
      "cell_type": "code",
      "source": [
        "sözlük"
      ],
      "metadata": {
        "colab": {
          "base_uri": "https://localhost:8080/"
        },
        "id": "HXUF0Ymf-jX1",
        "outputId": "2a41279f-3160-4d6f-d28a-b995ce2a917f"
      },
      "execution_count": null,
      "outputs": [
        {
          "output_type": "execute_result",
          "data": {
            "text/plain": [
              "{'Ahmet': 'Adana',\n",
              " 'Seda': 'Hatay',\n",
              " 'İstanbul': 200000000,\n",
              " 34: 'İstanbul',\n",
              " 1: 'Ankara',\n",
              " 'karakterler': 'stringler',\n",
              " (1, 2, 3): 'tuplelar',\n",
              " 'listeler': ['armut', 'elma']}"
            ]
          },
          "metadata": {},
          "execution_count": 40
        }
      ]
    },
    {
      "cell_type": "code",
      "source": [
        "notlar={\"Seda\":98,\"Ege\":75,\"Mehmet\":95,\"Zeynep\":100,\"Deniz\":45}"
      ],
      "metadata": {
        "id": "uFvYQBiF-kyt"
      },
      "execution_count": null,
      "outputs": []
    },
    {
      "cell_type": "code",
      "source": [
        "notlar.keys()#bir nesne verir"
      ],
      "metadata": {
        "colab": {
          "base_uri": "https://localhost:8080/"
        },
        "id": "Z1EuECQQ_B5d",
        "outputId": "0230b9f4-883e-43c1-b83c-a4caf0c88f19"
      },
      "execution_count": null,
      "outputs": [
        {
          "output_type": "execute_result",
          "data": {
            "text/plain": [
              "dict_keys(['Seda', 'Ege', 'Mehmet', 'Zeynep', 'Deniz'])"
            ]
          },
          "metadata": {},
          "execution_count": 44
        }
      ]
    },
    {
      "cell_type": "code",
      "source": [
        "notlar.values()"
      ],
      "metadata": {
        "colab": {
          "base_uri": "https://localhost:8080/"
        },
        "id": "3HHjK-uk_nDr",
        "outputId": "e17a914f-2bd8-4f4d-cdba-eecbc55284e0"
      },
      "execution_count": null,
      "outputs": [
        {
          "output_type": "execute_result",
          "data": {
            "text/plain": [
              "dict_values([98, 75, 95, 100, 45])"
            ]
          },
          "metadata": {},
          "execution_count": 45
        }
      ]
    },
    {
      "cell_type": "code",
      "source": [
        "liste=list(notlar.keys())#nesneyi listeye döüştürdük"
      ],
      "metadata": {
        "id": "NlR3CwnC_zQE"
      },
      "execution_count": null,
      "outputs": []
    },
    {
      "cell_type": "code",
      "source": [
        "liste"
      ],
      "metadata": {
        "colab": {
          "base_uri": "https://localhost:8080/"
        },
        "id": "aEPhOvdGAAw7",
        "outputId": "55166360-b2dc-4f30-f2f9-4b48d6e72bff"
      },
      "execution_count": null,
      "outputs": [
        {
          "output_type": "execute_result",
          "data": {
            "text/plain": [
              "['Seda', 'Ege', 'Mehmet', 'Zeynep', 'Deniz']"
            ]
          },
          "metadata": {},
          "execution_count": 49
        }
      ]
    },
    {
      "cell_type": "code",
      "source": [
        "demet=tuple(notlar.keys())"
      ],
      "metadata": {
        "id": "zpMXbmcEAB1L"
      },
      "execution_count": null,
      "outputs": []
    },
    {
      "cell_type": "code",
      "source": [
        "demet"
      ],
      "metadata": {
        "colab": {
          "base_uri": "https://localhost:8080/"
        },
        "id": "u657SBbxAyDr",
        "outputId": "65f279ef-e511-4a23-a75c-92d4fd4a7a5b"
      },
      "execution_count": null,
      "outputs": [
        {
          "output_type": "execute_result",
          "data": {
            "text/plain": [
              "('Seda', 'Ege', 'Mehmet', 'Zeynep', 'Deniz')"
            ]
          },
          "metadata": {},
          "execution_count": 51
        }
      ]
    },
    {
      "cell_type": "code",
      "source": [
        "kar_diz=\"-\".join(notlar.keys())"
      ],
      "metadata": {
        "id": "geXS3561Ayz6"
      },
      "execution_count": null,
      "outputs": []
    },
    {
      "cell_type": "code",
      "source": [
        "kar_diz"
      ],
      "metadata": {
        "colab": {
          "base_uri": "https://localhost:8080/",
          "height": 36
        },
        "id": "FuqG-DRNBB2i",
        "outputId": "092eada3-f2f9-4b25-88ce-e27c63c2b41d"
      },
      "execution_count": null,
      "outputs": [
        {
          "output_type": "execute_result",
          "data": {
            "text/plain": [
              "'Seda-Ege-Mehmet-Zeynep-Deniz'"
            ],
            "application/vnd.google.colaboratory.intrinsic+json": {
              "type": "string"
            }
          },
          "metadata": {},
          "execution_count": 59
        }
      ]
    },
    {
      "cell_type": "code",
      "source": [
        "notlar"
      ],
      "metadata": {
        "colab": {
          "base_uri": "https://localhost:8080/"
        },
        "id": "braYOWXLBDLa",
        "outputId": "a09726ac-e514-4930-dcaa-5f34333346ac"
      },
      "execution_count": null,
      "outputs": [
        {
          "output_type": "execute_result",
          "data": {
            "text/plain": [
              "{'Seda': 98, 'Ege': 75, 'Mehmet': 95, 'Zeynep': 100, 'Deniz': 45}"
            ]
          },
          "metadata": {},
          "execution_count": 60
        }
      ]
    },
    {
      "cell_type": "code",
      "source": [
        "notlar.items()"
      ],
      "metadata": {
        "colab": {
          "base_uri": "https://localhost:8080/"
        },
        "id": "vYhwLO72BjyJ",
        "outputId": "914099e6-0403-4ea0-d768-bcc772b39368"
      },
      "execution_count": null,
      "outputs": [
        {
          "output_type": "execute_result",
          "data": {
            "text/plain": [
              "dict_items([('Seda', 98), ('Ege', 75), ('Mehmet', 95), ('Zeynep', 100), ('Deniz', 45)])"
            ]
          },
          "metadata": {},
          "execution_count": 61
        }
      ]
    },
    {
      "cell_type": "code",
      "source": [
        "sorgu=input(\"Öğrenci isnimi giriniz:\")\n",
        "print(notlar[sorgu]) #sorgu değişkeninde yer alan isim yoksa hata mesajı verir"
      ],
      "metadata": {
        "colab": {
          "base_uri": "https://localhost:8080/",
          "height": 176
        },
        "id": "S8GyQ1ByBrAy",
        "outputId": "11ec077f-bf2e-4afb-81ee-31d2029454f4"
      },
      "execution_count": null,
      "outputs": [
        {
          "name": "stdout",
          "output_type": "stream",
          "text": [
            "Öğrenci isnimi giriniz:Gizem\n"
          ]
        },
        {
          "output_type": "error",
          "ename": "KeyError",
          "evalue": "'Gizem'",
          "traceback": [
            "\u001b[0;31m---------------------------------------------------------------------------\u001b[0m",
            "\u001b[0;31mKeyError\u001b[0m                                  Traceback (most recent call last)",
            "\u001b[0;32m<ipython-input-63-bb82ad33702c>\u001b[0m in \u001b[0;36m<cell line: 2>\u001b[0;34m()\u001b[0m\n\u001b[1;32m      1\u001b[0m \u001b[0msorgu\u001b[0m\u001b[0;34m=\u001b[0m\u001b[0minput\u001b[0m\u001b[0;34m(\u001b[0m\u001b[0;34m\"Öğrenci isnimi giriniz:\"\u001b[0m\u001b[0;34m)\u001b[0m\u001b[0;34m\u001b[0m\u001b[0;34m\u001b[0m\u001b[0m\n\u001b[0;32m----> 2\u001b[0;31m \u001b[0mprint\u001b[0m\u001b[0;34m(\u001b[0m\u001b[0mnotlar\u001b[0m\u001b[0;34m[\u001b[0m\u001b[0msorgu\u001b[0m\u001b[0;34m]\u001b[0m\u001b[0;34m)\u001b[0m\u001b[0;34m\u001b[0m\u001b[0;34m\u001b[0m\u001b[0m\n\u001b[0m",
            "\u001b[0;31mKeyError\u001b[0m: 'Gizem'"
          ]
        }
      ]
    },
    {
      "cell_type": "code",
      "source": [
        "print(notlar.get(sorgu,\"bu isim listede yoktur.\")) #verilen mesajı kullanıcya gösterir"
      ],
      "metadata": {
        "colab": {
          "base_uri": "https://localhost:8080/"
        },
        "id": "OhWSyheWB_rI",
        "outputId": "5de79813-b0b2-498e-c12a-fbb5d7a02405"
      },
      "execution_count": null,
      "outputs": [
        {
          "output_type": "stream",
          "name": "stdout",
          "text": [
            "bu isim listede yoktur.\n"
          ]
        }
      ]
    },
    {
      "cell_type": "code",
      "source": [
        "notlar.clear() #sözlüğün öğelerini siler"
      ],
      "metadata": {
        "id": "Hb-_HCIDC_jw"
      },
      "execution_count": null,
      "outputs": []
    },
    {
      "cell_type": "code",
      "source": [
        "notlar"
      ],
      "metadata": {
        "colab": {
          "base_uri": "https://localhost:8080/"
        },
        "id": "AMMm07LrDLYQ",
        "outputId": "9cd72151-7df1-423f-b028-69eafc4acd0b"
      },
      "execution_count": null,
      "outputs": [
        {
          "output_type": "execute_result",
          "data": {
            "text/plain": [
              "{}"
            ]
          },
          "metadata": {},
          "execution_count": 66
        }
      ]
    },
    {
      "cell_type": "code",
      "source": [
        "del notlar #sözlüğü siler"
      ],
      "metadata": {
        "id": "jtp6f26vDMsP"
      },
      "execution_count": null,
      "outputs": []
    },
    {
      "cell_type": "code",
      "source": [
        "notlar={\"Seda\":98,\"Ege\":75,\"Mehmet\":95,\"Zeynep\":100,\"Deniz\":45}\n",
        "yedek_notlar=notlar.copy()"
      ],
      "metadata": {
        "id": "a-YDln_WDeJ4"
      },
      "execution_count": null,
      "outputs": []
    },
    {
      "cell_type": "code",
      "source": [
        "notlar[\"Ada\"]=75"
      ],
      "metadata": {
        "id": "V_apTSN_D6ym"
      },
      "execution_count": null,
      "outputs": []
    },
    {
      "cell_type": "code",
      "source": [
        "notlar"
      ],
      "metadata": {
        "colab": {
          "base_uri": "https://localhost:8080/"
        },
        "id": "TYL5PeRND_oe",
        "outputId": "20421e60-0be8-4460-9432-269c52d21f40"
      },
      "execution_count": null,
      "outputs": [
        {
          "output_type": "execute_result",
          "data": {
            "text/plain": [
              "{'Seda': 98, 'Ege': 75, 'Mehmet': 95, 'Zeynep': 100, 'Deniz': 45, 'Ada': 75}"
            ]
          },
          "metadata": {},
          "execution_count": 69
        }
      ]
    },
    {
      "cell_type": "code",
      "source": [
        "yedek_notlar"
      ],
      "metadata": {
        "colab": {
          "base_uri": "https://localhost:8080/"
        },
        "id": "6S6_HPwKEBSV",
        "outputId": "9660c7e5-91d4-4b39-ef56-88aef00f2ac8"
      },
      "execution_count": null,
      "outputs": [
        {
          "output_type": "execute_result",
          "data": {
            "text/plain": [
              "{'Seda': 98, 'Ege': 75, 'Mehmet': 95, 'Zeynep': 100, 'Deniz': 45}"
            ]
          },
          "metadata": {},
          "execution_count": 70
        }
      ]
    },
    {
      "cell_type": "code",
      "source": [
        "yedek_notlar=notlar\n",
        "notlar[\"sude\"]=35"
      ],
      "metadata": {
        "id": "XP8ppytrEjB2"
      },
      "execution_count": null,
      "outputs": []
    },
    {
      "cell_type": "code",
      "source": [
        "notlar"
      ],
      "metadata": {
        "colab": {
          "base_uri": "https://localhost:8080/"
        },
        "id": "bEOmPhSTErNl",
        "outputId": "e2aed438-794d-4a20-aa02-857d94f242c7"
      },
      "execution_count": null,
      "outputs": [
        {
          "output_type": "execute_result",
          "data": {
            "text/plain": [
              "{'Seda': 98,\n",
              " 'Ege': 75,\n",
              " 'Mehmet': 95,\n",
              " 'Zeynep': 100,\n",
              " 'Deniz': 45,\n",
              " 'Ada': 75,\n",
              " 'sude': 35}"
            ]
          },
          "metadata": {},
          "execution_count": 72
        }
      ]
    },
    {
      "cell_type": "code",
      "source": [
        "yedek_notlar"
      ],
      "metadata": {
        "colab": {
          "base_uri": "https://localhost:8080/"
        },
        "id": "mqnXnDGIEsWZ",
        "outputId": "6c27ae75-03a4-4bef-daff-4994a5a149d6"
      },
      "execution_count": null,
      "outputs": [
        {
          "output_type": "execute_result",
          "data": {
            "text/plain": [
              "{'Seda': 98,\n",
              " 'Ege': 75,\n",
              " 'Mehmet': 95,\n",
              " 'Zeynep': 100,\n",
              " 'Deniz': 45,\n",
              " 'Ada': 75,\n",
              " 'sude': 35}"
            ]
          },
          "metadata": {},
          "execution_count": 73
        }
      ]
    },
    {
      "cell_type": "code",
      "source": [
        "personel=(\"Ahmet\",\"Mehmet\",\"Can\")\n",
        "memleket=(\"adana\",\"mersin\",\"ankara\")\n",
        "soz_personel=dict.fromkeys(personel,memleket)"
      ],
      "metadata": {
        "id": "cGLhXr8UEvYZ"
      },
      "execution_count": null,
      "outputs": []
    },
    {
      "cell_type": "code",
      "source": [
        "soz_personel"
      ],
      "metadata": {
        "colab": {
          "base_uri": "https://localhost:8080/"
        },
        "id": "ePMTCpFcF7WM",
        "outputId": "73ace15b-9e7d-49cc-93d7-5e8b09e701a5"
      },
      "execution_count": null,
      "outputs": [
        {
          "output_type": "execute_result",
          "data": {
            "text/plain": [
              "{'Ahmet': ('adana', 'mersin', 'ankara'),\n",
              " 'Mehmet': ('adana', 'mersin', 'ankara'),\n",
              " 'Can': ('adana', 'mersin', 'ankara')}"
            ]
          },
          "metadata": {},
          "execution_count": 77
        }
      ]
    },
    {
      "cell_type": "code",
      "source": [
        "soz_personel.pop(\"Can\")"
      ],
      "metadata": {
        "colab": {
          "base_uri": "https://localhost:8080/"
        },
        "id": "Nu3zAAFfF9Xz",
        "outputId": "2bf9ddaa-df97-455c-f44f-4c8c5d7f8a2f"
      },
      "execution_count": null,
      "outputs": [
        {
          "output_type": "execute_result",
          "data": {
            "text/plain": [
              "('adana', 'mersin', 'ankara')"
            ]
          },
          "metadata": {},
          "execution_count": 78
        }
      ]
    },
    {
      "cell_type": "code",
      "source": [
        "soz_personel"
      ],
      "metadata": {
        "colab": {
          "base_uri": "https://localhost:8080/"
        },
        "id": "t4oEMT1rHuWJ",
        "outputId": "18519ae9-abb4-4bcd-dfa4-bbd3b5d563ec"
      },
      "execution_count": null,
      "outputs": [
        {
          "output_type": "execute_result",
          "data": {
            "text/plain": [
              "{'Ahmet': ('adana', 'mersin', 'ankara'),\n",
              " 'Mehmet': ('adana', 'mersin', 'ankara')}"
            ]
          },
          "metadata": {},
          "execution_count": 79
        }
      ]
    },
    {
      "cell_type": "code",
      "source": [
        "soz_personel.pop(\"sude\",\"silinecek öğe sözlükte yok\")"
      ],
      "metadata": {
        "colab": {
          "base_uri": "https://localhost:8080/",
          "height": 36
        },
        "id": "rpeE57aZHzCx",
        "outputId": "4dbc17bd-0e65-4c3f-cc2a-0ac56f29012f"
      },
      "execution_count": null,
      "outputs": [
        {
          "output_type": "execute_result",
          "data": {
            "text/plain": [
              "'silinecek öğe sözlükte yok'"
            ],
            "application/vnd.google.colaboratory.intrinsic+json": {
              "type": "string"
            }
          },
          "metadata": {},
          "execution_count": 80
        }
      ]
    },
    {
      "cell_type": "code",
      "source": [
        "soz_personel.popitem()"
      ],
      "metadata": {
        "colab": {
          "base_uri": "https://localhost:8080/"
        },
        "id": "MpmY607QIhSf",
        "outputId": "91dbe49c-07cf-47a8-e7e4-27b82dcfb0ed"
      },
      "execution_count": null,
      "outputs": [
        {
          "output_type": "execute_result",
          "data": {
            "text/plain": [
              "('Mehmet', ('adana', 'mersin', 'ankara'))"
            ]
          },
          "metadata": {},
          "execution_count": 81
        }
      ]
    },
    {
      "cell_type": "code",
      "source": [
        "soz_personel"
      ],
      "metadata": {
        "colab": {
          "base_uri": "https://localhost:8080/"
        },
        "id": "zumAqdaFJBA_",
        "outputId": "565871e3-9533-4bcc-ca30-250ea0b8ae10"
      },
      "execution_count": null,
      "outputs": [
        {
          "output_type": "execute_result",
          "data": {
            "text/plain": [
              "{'Ahmet': ('adana', 'mersin', 'ankara')}"
            ]
          },
          "metadata": {},
          "execution_count": 82
        }
      ]
    },
    {
      "cell_type": "code",
      "source": [
        "sepet={\"meyveler\":(\"elma\",\"armut\"),\"sebzeler\":(\"pırasa\",\"fasulye\"),\"içecekler\":(\"su\",\"ayran\")}"
      ],
      "metadata": {
        "id": "jHIDWRNGJF5N"
      },
      "execution_count": null,
      "outputs": []
    },
    {
      "cell_type": "code",
      "source": [
        "sepet.setdefault(\"tatlılar\",(\"künefe\",\"baklava\"))"
      ],
      "metadata": {
        "colab": {
          "base_uri": "https://localhost:8080/"
        },
        "id": "dSUHK37AJvYu",
        "outputId": "0aa437a2-1bd2-4042-b531-ad87c4331c27"
      },
      "execution_count": null,
      "outputs": [
        {
          "output_type": "execute_result",
          "data": {
            "text/plain": [
              "('künefe', 'baklava')"
            ]
          },
          "metadata": {},
          "execution_count": 84
        }
      ]
    },
    {
      "cell_type": "code",
      "source": [
        "sepet"
      ],
      "metadata": {
        "colab": {
          "base_uri": "https://localhost:8080/"
        },
        "id": "CtnAfDYzJ66F",
        "outputId": "86f96e6f-ee4c-4310-9aba-82d47b66a4e5"
      },
      "execution_count": null,
      "outputs": [
        {
          "output_type": "execute_result",
          "data": {
            "text/plain": [
              "{'meyveler': ('elma', 'armut'),\n",
              " 'sebzeler': ('pırasa', 'fasulye'),\n",
              " 'içecekler': ('su', 'ayran'),\n",
              " 'tatlılar': ('künefe', 'baklava')}"
            ]
          },
          "metadata": {},
          "execution_count": 86
        }
      ]
    },
    {
      "cell_type": "code",
      "source": [
        "sepet.setdefault(\"meyveler\",(\"baklava\",\"künefe\"))"
      ],
      "metadata": {
        "colab": {
          "base_uri": "https://localhost:8080/"
        },
        "id": "WdikdG_UJ8MV",
        "outputId": "cf025952-bdb6-459f-ceb6-c5209a188813"
      },
      "execution_count": null,
      "outputs": [
        {
          "output_type": "execute_result",
          "data": {
            "text/plain": [
              "('elma', 'armut')"
            ]
          },
          "metadata": {},
          "execution_count": 87
        }
      ]
    },
    {
      "cell_type": "code",
      "source": [
        "sepet"
      ],
      "metadata": {
        "colab": {
          "base_uri": "https://localhost:8080/"
        },
        "id": "Xm4SOvLiKns1",
        "outputId": "6553163f-675a-48c3-e572-3ead6e45a921"
      },
      "execution_count": null,
      "outputs": [
        {
          "output_type": "execute_result",
          "data": {
            "text/plain": [
              "{'meyveler': ('elma', 'armut'),\n",
              " 'sebzeler': ('pırasa', 'fasulye'),\n",
              " 'içecekler': ('su', 'ayran'),\n",
              " 'tatlılar': ('künefe', 'baklava')}"
            ]
          },
          "metadata": {},
          "execution_count": 88
        }
      ]
    },
    {
      "cell_type": "code",
      "source": [
        "yeni_sepet={'meyveler': ('elma'),'sebzeler': ('pırasa', 'fasulye'),'içecekler': ('su', 'ayran'),'tatlılar': ('baklava')}"
      ],
      "metadata": {
        "id": "lkawyZHmKq_M"
      },
      "execution_count": null,
      "outputs": []
    },
    {
      "cell_type": "code",
      "source": [
        "sepet.update(yeni_sepet)"
      ],
      "metadata": {
        "id": "H1ESSu2ELV-L"
      },
      "execution_count": null,
      "outputs": []
    },
    {
      "cell_type": "code",
      "source": [
        "sepet"
      ],
      "metadata": {
        "colab": {
          "base_uri": "https://localhost:8080/"
        },
        "id": "6TQ4ur3pLdu3",
        "outputId": "b3414e51-2032-4555-9ee9-ce2b53ab6b89"
      },
      "execution_count": null,
      "outputs": [
        {
          "output_type": "execute_result",
          "data": {
            "text/plain": [
              "{'meyveler': 'elma',\n",
              " 'sebzeler': ('pırasa', 'fasulye'),\n",
              " 'içecekler': ('su', 'ayran'),\n",
              " 'tatlılar': 'baklava'}"
            ]
          },
          "metadata": {},
          "execution_count": 91
        }
      ]
    },
    {
      "cell_type": "code",
      "source": [
        "print(\"-----------KOŞULLU İFADELER-------------\")"
      ],
      "metadata": {
        "colab": {
          "base_uri": "https://localhost:8080/"
        },
        "id": "xS_mn-fiLe5r",
        "outputId": "465e2cb6-0c45-467c-f1eb-ee290014fe85"
      },
      "execution_count": null,
      "outputs": [
        {
          "output_type": "stream",
          "name": "stdout",
          "text": [
            "-----------KOŞULLU İFADELER-------------\n"
          ]
        }
      ]
    },
    {
      "cell_type": "code",
      "source": [
        "if 5>3:\n",
        "  print(\"5 saysı 3 ten büyüktür\")"
      ],
      "metadata": {
        "colab": {
          "base_uri": "https://localhost:8080/"
        },
        "id": "2CvBse8EQ0Pc",
        "outputId": "e2d04b9f-c1ec-42f6-eb23-46af4a33d64b"
      },
      "execution_count": null,
      "outputs": [
        {
          "output_type": "stream",
          "name": "stdout",
          "text": [
            "5 saysı 3 ten büyüktür\n"
          ]
        }
      ]
    },
    {
      "cell_type": "code",
      "source": [
        "#>,<,>= büyük eşittir, <= küçük eşittir, == eşittir, != eşit değildir"
      ],
      "metadata": {
        "id": "CJQl-6-cRLZs"
      },
      "execution_count": null,
      "outputs": []
    },
    {
      "cell_type": "code",
      "source": [
        "sayı=int(input(\"bir sayı giriniz:\"))\n",
        "if sayı>10:\n",
        "  print(\"Girdiğiniz sayı 10' da büyüktür\")\n",
        "if sayı<10:\n",
        "  print(\"Girdiğiniz sayı 10'da küçüktür\")\n",
        "if sayı==10:\n",
        "  print(\"Girdiğiniz sayı 10' dur\")"
      ],
      "metadata": {
        "colab": {
          "base_uri": "https://localhost:8080/"
        },
        "id": "YqJO6nBzR3pS",
        "outputId": "a7ba53df-cba5-4180-cbc3-75e3f84ad927"
      },
      "execution_count": null,
      "outputs": [
        {
          "output_type": "stream",
          "name": "stdout",
          "text": [
            "bir sayı giriniz:10\n",
            "Girdiğiniz sayı 10' dur\n"
          ]
        }
      ]
    },
    {
      "cell_type": "code",
      "source": [
        "print(\"e-posta hizmetine hoşgeldiniz. lütfen sistme giriş yapınız\")\n",
        "parola=input(\"Parolanızı giriniz:\")\n",
        "\n",
        "if parola==1234:\n",
        "  print(\"sisteme hoşgeldiniz\")\n",
        "if parola!=1234:\n",
        "  print(\"parolanız uyuşmamaktadır\")"
      ],
      "metadata": {
        "colab": {
          "base_uri": "https://localhost:8080/"
        },
        "id": "v-eWzuCvSYl6",
        "outputId": "4e841877-d2e9-4f57-b09d-5740e6924ce6"
      },
      "execution_count": 2,
      "outputs": [
        {
          "output_type": "stream",
          "name": "stdout",
          "text": [
            "e-posta hizmetine hoşgeldiniz. lütfen sistme giriş yapınız\n",
            "Parolanızı giriniz:1234\n",
            "sisteme hoşgeldiniz\n"
          ]
        }
      ]
    },
    {
      "cell_type": "code",
      "source": [
        "print(\"e-posta hizmetine hoşgeldiniz. lütfen sistme giriş yapınız\")\n",
        "parola=int(input(\"Parolanızı giriniz:\"))\n",
        "\n",
        "if parola==1234:\n",
        "  print(\"sisteme hoşgeldiniz\")\n",
        "else:\n",
        "  print(\"parolanız uyuşmamaktadır\")\n"
      ],
      "metadata": {
        "colab": {
          "base_uri": "https://localhost:8080/"
        },
        "id": "Hez69cvPUnmv",
        "outputId": "9f8f9768-fe32-44a3-c7ce-f08eb31f4bad"
      },
      "execution_count": null,
      "outputs": [
        {
          "output_type": "stream",
          "name": "stdout",
          "text": [
            "e-posta hizmetine hoşgeldiniz. lütfen sistme giriş yapınız\n",
            "Parolanızı giriniz:1234\n",
            "sisteme hoşgeldiniz\n"
          ]
        }
      ]
    },
    {
      "cell_type": "code",
      "source": [
        "soru=input(\"programdan çıkmak için 'e' harfine basınız:\").lower()\n",
        "\n",
        "if soru==\"e\":\n",
        "  print(\"çıkış yapılıyor. Güle Güle :)\")\n",
        "else:\n",
        "  print(\"programdan çıkış yapılmadı :)\")"
      ],
      "metadata": {
        "colab": {
          "base_uri": "https://localhost:8080/"
        },
        "id": "X58-_luHVMst",
        "outputId": "b91fba56-22fe-47eb-da78-753186686a1c"
      },
      "execution_count": null,
      "outputs": [
        {
          "output_type": "stream",
          "name": "stdout",
          "text": [
            "programdan çıkmak için 'e' harfine basınız:E\n",
            "çıkış yapılıyor. Güle Güle :)\n"
          ]
        }
      ]
    },
    {
      "cell_type": "code",
      "source": [
        "boy = int(input(\"boyunuz kaç cm:\"))\n",
        "\n",
        "if boy < 170:\n",
        "  print(\"boyunuz kısa\")\n",
        "else:\n",
        "  if boy < 180:\n",
        "    print(\"boyunuz normal\")\n",
        "  else:\n",
        "    print(\"boyunuz uzun\")"
      ],
      "metadata": {
        "colab": {
          "base_uri": "https://localhost:8080/"
        },
        "id": "LKT8LsvZXId7",
        "outputId": "94a5eab2-fb7d-459c-b0db-545a7841d554"
      },
      "execution_count": 6,
      "outputs": [
        {
          "output_type": "stream",
          "name": "stdout",
          "text": [
            "boyunuz kaç cm:171\n",
            "boyunuz normal\n"
          ]
        }
      ]
    },
    {
      "cell_type": "code",
      "source": [
        "yas = input(\"yaşınızı giriniz:\")\n",
        "\n",
        "if (int(yas)<18):\n",
        "  print(\"uygun değilsiniz\")\n",
        "else:\n",
        "  print(\"yaşınız uygundur\")"
      ],
      "metadata": {
        "id": "OKHxx6FOYMQB",
        "colab": {
          "base_uri": "https://localhost:8080/"
        },
        "outputId": "847d620a-b6c5-4486-9c8b-819490056da5"
      },
      "execution_count": 8,
      "outputs": [
        {
          "output_type": "stream",
          "name": "stdout",
          "text": [
            "yaşınızı giriniz:80\n",
            "yaşınız uygundur\n"
          ]
        }
      ]
    },
    {
      "cell_type": "code",
      "source": [
        "yas = int(input(\"yaşınıız giriniz\"))\n",
        "\n",
        "if yas<18:\n",
        "  print(\"yaşınız uygun değil\")\n",
        "else:\n",
        "  if yas>70:\n",
        "    print(\"sağlık raporunuz uygun mu?\")\n",
        "    cevap=input()\n",
        "    if cevap==\"evet\":\n",
        "      print(\"ehliyet alabilirisniz\")\n",
        "    else:\n",
        "      print(\"ehliyet alamzssınız\")\n",
        "  else:\n",
        "    print(\"ehliyet alabilirsiniz\")"
      ],
      "metadata": {
        "colab": {
          "base_uri": "https://localhost:8080/"
        },
        "id": "sVEwykTK00Kz",
        "outputId": "935a8f3d-425e-41cf-a752-03c1567d6baa"
      },
      "execution_count": 13,
      "outputs": [
        {
          "output_type": "stream",
          "name": "stdout",
          "text": [
            "yaşınıız giriniz45\n",
            "ehliyet alabilirsiniz\n"
          ]
        }
      ]
    },
    {
      "cell_type": "code",
      "source": [
        "#aitlik işleçi \"in\"\n",
        "a=\"abcdef\"\n",
        "\"d\" in a"
      ],
      "metadata": {
        "colab": {
          "base_uri": "https://localhost:8080/"
        },
        "id": "oGS552O6330I",
        "outputId": "8866ed47-0656-4ae0-8a17-fcae0b336553"
      },
      "execution_count": 14,
      "outputs": [
        {
          "output_type": "execute_result",
          "data": {
            "text/plain": [
              "True"
            ]
          },
          "metadata": {},
          "execution_count": 14
        }
      ]
    },
    {
      "cell_type": "code",
      "source": [
        "\"g\" in a"
      ],
      "metadata": {
        "colab": {
          "base_uri": "https://localhost:8080/"
        },
        "id": "JduZgy4z4z_f",
        "outputId": "42c73c6a-fa7f-4db9-bd3f-524f5b086a0e"
      },
      "execution_count": 15,
      "outputs": [
        {
          "output_type": "execute_result",
          "data": {
            "text/plain": [
              "False"
            ]
          },
          "metadata": {},
          "execution_count": 15
        }
      ]
    },
    {
      "cell_type": "code",
      "source": [
        "ad =input(\"Adınız:\")\n",
        "yas = int(input(\"Yaşınız:\"))\n",
        "egitim_sev=[\"İlkokul\",\"Ortaokul\",\"Lise\",\"Lisans\",\"Yüksek Lisans\",\"Doktora\"]\n",
        "\n",
        "if yas<18:\n",
        "  print(\"üzgünüz, uygu değilsiniz\")\n",
        "else:\n",
        "  egitim = input(\"Eğitim seviyeniz(İlkokul,Ortaokul,Lise,Lisans,Yüksek Lisans, Doktora):\")\n",
        "  if egitim in egitim_sev:\n",
        "    print(\"Tebrikler! uygunsunuz\")\n",
        "  else:\n",
        "    print(\"üzgünüz şartları sağlamamadınız...\")"
      ],
      "metadata": {
        "colab": {
          "base_uri": "https://localhost:8080/"
        },
        "id": "gKsVUh6D4459",
        "outputId": "179d47c9-bcfe-430b-bace-899c70b87213"
      },
      "execution_count": 17,
      "outputs": [
        {
          "output_type": "stream",
          "name": "stdout",
          "text": [
            "Adınız:gizem\n",
            "Yaşınız:30\n",
            "Eğitim seviyeniz(İlkokul,Ortaokul,Lise,Lisans,Yüksek Lisans, Doktora):profesör\n",
            "üzgünüz şartları sağlamamadınız...\n"
          ]
        }
      ]
    },
    {
      "cell_type": "code",
      "source": [
        "#bool işleçleri --> and,or, not\n",
        "\n",
        "kul_adı=input(\"Kullanıcı adını giriniz:\")\n",
        "parola=input(\"Parolanızı giriniz:\")\n",
        "\n",
        "if kul_adı==\"gizem\" and parola==\"1234\":\n",
        "  print(\"hoşgeldiniz\")\n",
        "else:\n",
        "  print(\"hatalı giriş yaptınız\")\n"
      ],
      "metadata": {
        "colab": {
          "base_uri": "https://localhost:8080/"
        },
        "id": "WUsEcY1p6lce",
        "outputId": "1c49b0dc-5bf6-4146-bb65-ddd74191ea41"
      },
      "execution_count": 19,
      "outputs": [
        {
          "output_type": "stream",
          "name": "stdout",
          "text": [
            "Kullanıcı adını giriniz:gizem\n",
            "Parolanızı giriniz:12345\n",
            "hatalı giriş yaptınız\n"
          ]
        }
      ]
    },
    {
      "cell_type": "code",
      "source": [
        "ad =input(\"Adınız:\")\n",
        "yas = int(input(\"Yaşınız:\"))\n",
        "\n",
        "\n",
        "if (yas>=18):\n",
        "  egitim = input(\"Eğitim seviyeniz:\").lower()\n",
        "  if (egitim==\"lise\" or egitim==\"üniversite\"):\n",
        "    print(\"{} ehiliyet alabilirsin\".format(ad))\n",
        "  else:\n",
        "    print(\"{} ehliyet için eğitim seviyeniz uygun değil\".format(ad))\n",
        "else:\n",
        "  print(\"{} ehliyet için yaşınız ugun değil\".format(ad))"
      ],
      "metadata": {
        "colab": {
          "base_uri": "https://localhost:8080/"
        },
        "id": "fQTNs5h68ofN",
        "outputId": "2d60a8cf-fa88-4917-d87c-6bea7196d542"
      },
      "execution_count": 26,
      "outputs": [
        {
          "output_type": "stream",
          "name": "stdout",
          "text": [
            "Adınız:GİZEM\n",
            "Yaşınız:19\n",
            "Eğitim seviyeniz:üNIVERSITE\n",
            "GİZEM ehiliyet alabilirsin\n"
          ]
        }
      ]
    },
    {
      "cell_type": "code",
      "source": [
        "parola =input(\"parola giriniz:\")\n",
        "\n",
        "if not parola:\n",
        "  print(\"parola boş olamaz\")"
      ],
      "metadata": {
        "colab": {
          "base_uri": "https://localhost:8080/"
        },
        "id": "shdaAzX0DvFo",
        "outputId": "34e07bf6-9fdb-44c8-d287-a24d62a7c800"
      },
      "execution_count": 28,
      "outputs": [
        {
          "output_type": "stream",
          "name": "stdout",
          "text": [
            "parola giriniz:\n",
            "parola boş olamaz\n"
          ]
        }
      ]
    },
    {
      "cell_type": "code",
      "source": [
        "#elif\n",
        "\n",
        "yas =int(input(\"Yaşınızı giriniz:\"))\n",
        "\n",
        "if yas ==18:\n",
        "  print(\"18 iyidir\")\n",
        "elif yas<18:\n",
        "  print(\"yok canım daha nelerrr ....\")\n",
        "elif yas<0:\n",
        "  print(\"gençsin :))\")\n",
        "elif yas>18:\n",
        "  print(\"yaşlanmıssın :)))\")"
      ],
      "metadata": {
        "colab": {
          "base_uri": "https://localhost:8080/"
        },
        "id": "bszEEq8fHMnN",
        "outputId": "68ea635e-ae59-422b-f22f-ba71a9f8a5cb"
      },
      "execution_count": 32,
      "outputs": [
        {
          "output_type": "stream",
          "name": "stdout",
          "text": [
            "Yaşınızı giriniz:-5\n",
            "yok canım daha nelerrr ....\n"
          ]
        }
      ]
    },
    {
      "cell_type": "code",
      "source": [
        "sayı = int(input(\"bir sayı giriniz:\"))\n",
        "\n",
        "if sayı<0:\n",
        "  print(\"sayı negatiftir\")\n",
        "elif sayı<25:\n",
        "  print(\"Girdiğiniz sayı 0 ile 25 arasındaır\")\n",
        "elif sayı<50:\n",
        "  print(\"Girdiğiniz sayı 25 ile 50 arasındadır\")\n",
        "elif sayı<75:\n",
        "  print(\"Girdiğiniz sayı 50 ile 75 arasındadır\")\n",
        "elif sayı<100:\n",
        "  print(\"Girdiğiniz sayı 75 ile 100 arasındadır\")\n",
        "else:\n",
        "  print(\"Girdiğiniz sayı 100'den büyük\")\n",
        "\n",
        "\n",
        "\n"
      ],
      "metadata": {
        "colab": {
          "base_uri": "https://localhost:8080/"
        },
        "id": "TwzBuSpCI1LE",
        "outputId": "7b4d53d0-c00a-4844-ccd0-abb44388bd1f"
      },
      "execution_count": 36,
      "outputs": [
        {
          "output_type": "stream",
          "name": "stdout",
          "text": [
            "bir sayı giriniz:15\n",
            "Girdiğiniz sayı 25 ile 50 arasındaır\n"
          ]
        }
      ]
    },
    {
      "cell_type": "code",
      "source": [
        "sayı = int(input(\"bir sayı giriniz:\"))\n",
        "\n",
        "if sayı >100:\n",
        "  print(\"Girdiğiniz sayı 0-100 arasında olmalı\")\n",
        "\n",
        "elif sayı>=0 and sayı<=30:\n",
        "  print(\"Girdiğiniz sayı 0-30 arasındadır\")\n",
        "elif sayı>30 and sayı<=60:\n",
        "  print(\"Girdiğiniz sayı 30-60 arasındadır\")\n",
        "else:\n",
        "  print(\"Girdiğiniz sayı 60'da büyüktür\")"
      ],
      "metadata": {
        "colab": {
          "base_uri": "https://localhost:8080/"
        },
        "id": "q-O0dGaRNLq-",
        "outputId": "eb952c4c-1d8b-463a-fecc-7e6832b4ec32"
      },
      "execution_count": 37,
      "outputs": [
        {
          "output_type": "stream",
          "name": "stdout",
          "text": [
            "bir sayı giriniz:15\n",
            "Girdiğiniz sayı 0-30 arasındadır\n"
          ]
        }
      ]
    },
    {
      "cell_type": "code",
      "source": [
        "sayı = int(input(\"bir sayı giriniz:\"))\n",
        "\n",
        "if sayı >100 or sayı<0:\n",
        "  print(\"Girdiğiniz sayı 0-100 arasında olmalı\")\n",
        "  yeni_sayı=int(input(\"bir sayı giriniz:\"))\n",
        "if yeni_sayı>=0 and yeni_sayı<=30:\n",
        "  print(\"Girdiğiniz sayı 0-30 arasındadır\")\n",
        "elif yeni_sayı>30 and yeni_sayı<=60:\n",
        "  print(\"Girdiğiniz sayı 30-60 arasındadır\")\n",
        "else:\n",
        "    print(\"Girdiğiniz sayı 60'da büyüktür\")"
      ],
      "metadata": {
        "colab": {
          "base_uri": "https://localhost:8080/"
        },
        "id": "DenbaReOOs1Q",
        "outputId": "e4c10d44-2457-40f3-82fe-9b295df54004"
      },
      "execution_count": 61,
      "outputs": [
        {
          "output_type": "stream",
          "name": "stdout",
          "text": [
            "bir sayı giriniz:-5\n",
            "Girdiğiniz sayı 0-100 arasında olmalı\n",
            "bir sayı giriniz:40\n",
            "Girdiğiniz sayı 30-60 arasındadır\n"
          ]
        }
      ]
    },
    {
      "cell_type": "code",
      "source": [
        "sayı = int(input(\"bir sayı giriniz:\"))\n",
        "\n",
        "if sayı >100 or sayı<0:\n",
        "  print(\"Girdiğiniz sayı 0-100 arasında olmalı\")\n",
        "  yeni_sayı=int(input(\"bir sayı giriniz:\"))\n",
        "  if yeni_sayı>=0 and yeni_sayı<=30:\n",
        "    print(\"Girdiğiniz sayı 0-30 arasındadır\")\n",
        "  elif yeni_sayı>30 and yeni_sayı<=60:\n",
        "    print(\"Girdiğiniz sayı 30-60 arasındadır\")\n",
        "  else:\n",
        "    print(\"Girdiğiniz sayı 60'da büyüktür\")\n",
        "else:\n",
        "  if yeni_sayı>=0 and yeni_sayı<=30:\n",
        "    print(\"Girdiğiniz sayı 0-30 arasındadır\")\n",
        "  elif yeni_sayı>30 and yeni_sayı<=60:\n",
        "    print(\"Girdiğiniz sayı 30-60 arasındadır\")\n",
        "  else:\n",
        "    print(\"Girdiğiniz sayı 60'da büyüktür\")\n",
        "\n"
      ],
      "metadata": {
        "colab": {
          "base_uri": "https://localhost:8080/"
        },
        "id": "1WanHL47UCLN",
        "outputId": "e6692573-bc50-4350-d01e-617bd01254fd"
      },
      "execution_count": 62,
      "outputs": [
        {
          "output_type": "stream",
          "name": "stdout",
          "text": [
            "bir sayı giriniz:40\n",
            "Girdiğiniz sayı 30-60 arasındadır\n"
          ]
        }
      ]
    },
    {
      "cell_type": "code",
      "source": [
        "meyve = input(\"Bir meyve adı giriniz:\")\n",
        "\n",
        "if meyve==\"elma\":\n",
        "  print(\"evet, elma bir meyvedir\")\n",
        "elif meyve==\"karpuz\":\n",
        "  print(\"evet karpuz bir meyvedir\")\n",
        "elif meyve==\"armut\":\n",
        "  print(\"evet armut bir meyvedir\")\n",
        "else:\n",
        "  print(meyve,\"gerçekten bir meyve midir?\")"
      ],
      "metadata": {
        "colab": {
          "base_uri": "https://localhost:8080/"
        },
        "id": "2D1Py0woVRhb",
        "outputId": "224977e0-63c6-45ab-bb9f-1e43a7a71f54"
      },
      "execution_count": 69,
      "outputs": [
        {
          "output_type": "stream",
          "name": "stdout",
          "text": [
            "Bir meyve adı giriniz:elma\n",
            "evet, elma bir meyvedir\n"
          ]
        }
      ]
    },
    {
      "cell_type": "code",
      "source": [
        "meyve = input(\"Bir meyve adı giriniz:\")\n",
        "\n",
        "if meyve==\"elma\":\n",
        "  print(\"evet, elma bir meyvedir\")\n",
        "if meyve==\"karpuz\":\n",
        "  print(\"evet karpuz bir meyvedir\")\n",
        "if meyve==\"armut\":\n",
        "  print(\"evet armut bir meyvedir\")\n",
        "else:\n",
        "  print(meyve,\"gerçekten bir meyve midir?\")"
      ],
      "metadata": {
        "colab": {
          "base_uri": "https://localhost:8080/"
        },
        "id": "UgEenRQQhao0",
        "outputId": "aaae2329-2001-4759-b226-c4c655c12a60"
      },
      "execution_count": 67,
      "outputs": [
        {
          "output_type": "stream",
          "name": "stdout",
          "text": [
            "Bir meyve adı giriniz:armut\n",
            "evet armut bir meyvedir\n"
          ]
        }
      ]
    },
    {
      "cell_type": "code",
      "source": [
        "#Eğer programınızda bir else yer verecekseniz, else önceki gelen koşullu durumların ilkini if ile sonrakileri elif ile yazın\n",
        "#eğer programınızda else bloğundan önce sadece tek bir koşul varsa bunu if ile yazın\n",
        "if sayı==100:\n",
        "  print(\"sayı 100'dür\")\n",
        "else:\n",
        "  print(\"sayı bilinmiyor\")"
      ],
      "metadata": {
        "id": "XmuB-kFfh2vj"
      },
      "execution_count": null,
      "outputs": []
    }
  ]
}