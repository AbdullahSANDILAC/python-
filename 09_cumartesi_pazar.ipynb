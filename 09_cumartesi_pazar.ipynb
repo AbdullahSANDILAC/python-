{
  "nbformat": 4,
  "nbformat_minor": 0,
  "metadata": {
    "colab": {
      "provenance": []
    },
    "kernelspec": {
      "name": "python3",
      "display_name": "Python 3"
    },
    "language_info": {
      "name": "python"
    }
  },
  "cells": [
    {
      "cell_type": "code",
      "execution_count": null,
      "metadata": {
        "colab": {
          "base_uri": "https://localhost:8080/"
        },
        "id": "j2ZT6d8-ii-u",
        "outputId": "1b658977-d5d3-40e2-f1c6-4a89970017bf"
      },
      "outputs": [
        {
          "output_type": "stream",
          "name": "stdout",
          "text": [
            "Merhaba Python\n"
          ]
        }
      ],
      "source": [
        "print(\"Merhaba Python\")"
      ]
    },
    {
      "cell_type": "code",
      "source": [
        "print(\"Guido van rossum tarafında geliştirlmiştir.\")"
      ],
      "metadata": {
        "colab": {
          "base_uri": "https://localhost:8080/"
        },
        "id": "o3lr6VExjUyX",
        "outputId": "a19a6b85-2d58-43ba-f3ae-786177802057"
      },
      "execution_count": null,
      "outputs": [
        {
          "output_type": "stream",
          "name": "stdout",
          "text": [
            "Guido van rossum tarafında geliştirlmiştir.\n"
          ]
        }
      ]
    },
    {
      "cell_type": "code",
      "source": [
        "print(\"KARAKTER DİZİLERİ İLE SAYILAR ARASINDAKİ FARK\")"
      ],
      "metadata": {
        "colab": {
          "base_uri": "https://localhost:8080/"
        },
        "id": "fY-OmLzH4kGY",
        "outputId": "b3e6093a-4259-4627-da09-9322c532ecde"
      },
      "execution_count": null,
      "outputs": [
        {
          "output_type": "stream",
          "name": "stdout",
          "text": [
            "KARAKTER DİZİLERİ İLE SAYILAR ARASINDAKİ FARK\n"
          ]
        }
      ]
    },
    {
      "cell_type": "code",
      "source": [
        "artı=\"+\"\n",
        "eksi=\"-\"\n",
        "bolme=\"/\"\n",
        "carpma=\"*\""
      ],
      "metadata": {
        "id": "bQH4ZduujVK2"
      },
      "execution_count": null,
      "outputs": []
    },
    {
      "cell_type": "code",
      "source": [
        "a = 5\n",
        "b=6\n",
        "a1=\"6\" #a1 değişkeni string ifadedir.\n",
        "b1=\"5\""
      ],
      "metadata": {
        "id": "sBVn8UvunQRE"
      },
      "execution_count": null,
      "outputs": []
    },
    {
      "cell_type": "code",
      "source": [
        "print(a+b)#a değeri ile b değerini toplar"
      ],
      "metadata": {
        "colab": {
          "base_uri": "https://localhost:8080/"
        },
        "id": "ZYpDSgo8pYuC",
        "outputId": "d3b73e93-5956-48c4-fe8f-fe4b53f0ded2"
      },
      "execution_count": null,
      "outputs": [
        {
          "output_type": "stream",
          "name": "stdout",
          "text": [
            "11\n"
          ]
        }
      ]
    },
    {
      "cell_type": "code",
      "source": [
        "print(\"a-b\")#karakter dizisidir, a-b yazar"
      ],
      "metadata": {
        "colab": {
          "base_uri": "https://localhost:8080/"
        },
        "id": "lPMzW2Evpu44",
        "outputId": "18a4811f-c802-4368-ff75-fd61126a03ba"
      },
      "execution_count": null,
      "outputs": [
        {
          "output_type": "stream",
          "name": "stdout",
          "text": [
            "a-b\n"
          ]
        }
      ]
    },
    {
      "cell_type": "code",
      "source": [
        "print(\"artı\"+\"a\")#karakter dizilerini birleştirir"
      ],
      "metadata": {
        "colab": {
          "base_uri": "https://localhost:8080/"
        },
        "id": "ghq_yaNBqHrY",
        "outputId": "1efec593-78cc-41ca-8693-bccc1ae5b585"
      },
      "execution_count": null,
      "outputs": [
        {
          "output_type": "stream",
          "name": "stdout",
          "text": [
            "artıa\n"
          ]
        }
      ]
    },
    {
      "cell_type": "code",
      "source": [
        "print(\"eksi\"+a) #veriler aynı türde olmalıdır"
      ],
      "metadata": {
        "colab": {
          "base_uri": "https://localhost:8080/",
          "height": 141
        },
        "id": "XW3j8QMyqnKx",
        "outputId": "a87dfb29-d304-419d-cec2-688e5ee49bc2"
      },
      "execution_count": null,
      "outputs": [
        {
          "output_type": "error",
          "ename": "TypeError",
          "evalue": "can only concatenate str (not \"int\") to str",
          "traceback": [
            "\u001b[0;31m---------------------------------------------------------------------------\u001b[0m",
            "\u001b[0;31mTypeError\u001b[0m                                 Traceback (most recent call last)",
            "\u001b[0;32m<ipython-input-7-d80eb31a8da1>\u001b[0m in \u001b[0;36m<cell line: 1>\u001b[0;34m()\u001b[0m\n\u001b[0;32m----> 1\u001b[0;31m \u001b[0mprint\u001b[0m\u001b[0;34m(\u001b[0m\u001b[0;34m\"eksi\"\u001b[0m\u001b[0;34m+\u001b[0m\u001b[0ma\u001b[0m\u001b[0;34m)\u001b[0m\u001b[0;34m\u001b[0m\u001b[0;34m\u001b[0m\u001b[0m\n\u001b[0m",
            "\u001b[0;31mTypeError\u001b[0m: can only concatenate str (not \"int\") to str"
          ]
        }
      ]
    },
    {
      "cell_type": "code",
      "source": [
        "print(\"eksi\"+\"a\")"
      ],
      "metadata": {
        "colab": {
          "base_uri": "https://localhost:8080/"
        },
        "id": "O_rpfTxgrXsH",
        "outputId": "f7a61f1b-86bb-488b-d186-bc1da94f4cbb"
      },
      "execution_count": null,
      "outputs": [
        {
          "output_type": "stream",
          "name": "stdout",
          "text": [
            "eksia\n"
          ]
        }
      ]
    },
    {
      "cell_type": "code",
      "source": [
        "print(a1+artı+b1)"
      ],
      "metadata": {
        "colab": {
          "base_uri": "https://localhost:8080/"
        },
        "id": "AAJ_AsPLryGQ",
        "outputId": "5791c483-ca71-4e6b-9d58-201318640ad9"
      },
      "execution_count": null,
      "outputs": [
        {
          "output_type": "stream",
          "name": "stdout",
          "text": [
            "6+5\n"
          ]
        }
      ]
    },
    {
      "cell_type": "code",
      "source": [
        "print(b1+a1)#değişkenler string tanımlanmış, string'leri yan yana yazar"
      ],
      "metadata": {
        "colab": {
          "base_uri": "https://localhost:8080/"
        },
        "id": "3t7e6PMosKqu",
        "outputId": "a7fa15f9-474c-4767-d239-b198fc75eb17"
      },
      "execution_count": null,
      "outputs": [
        {
          "output_type": "stream",
          "name": "stdout",
          "text": [
            "56\n"
          ]
        }
      ]
    },
    {
      "cell_type": "code",
      "source": [
        "print(b1+carpma+a1)"
      ],
      "metadata": {
        "colab": {
          "base_uri": "https://localhost:8080/"
        },
        "id": "XuY_f5ICswfH",
        "outputId": "1fbc58b5-9fe6-4c26-96ac-b044d44e0a03"
      },
      "execution_count": null,
      "outputs": [
        {
          "output_type": "stream",
          "name": "stdout",
          "text": [
            "5*6\n"
          ]
        }
      ]
    },
    {
      "cell_type": "code",
      "source": [
        "#virgülden önce string ifadeleri birleştirildi, virgülden sonra toplama işlemi yapıldı\n",
        "print(a1+\"+\"+b1+\"=\",a+b)"
      ],
      "metadata": {
        "colab": {
          "base_uri": "https://localhost:8080/"
        },
        "id": "H3W6kviktFjF",
        "outputId": "e0ce1dd7-128d-45aa-f204-24f523b9e74d"
      },
      "execution_count": null,
      "outputs": [
        {
          "output_type": "stream",
          "name": "stdout",
          "text": [
            "6+5= 11\n"
          ]
        }
      ]
    },
    {
      "cell_type": "code",
      "source": [
        "print(a1+\"*\"+b1+\"=\",a*b)"
      ],
      "metadata": {
        "colab": {
          "base_uri": "https://localhost:8080/"
        },
        "id": "BKBHM8jMt_tm",
        "outputId": "0a8bb855-a2a7-4cbd-d06d-344d837ac3ee"
      },
      "execution_count": null,
      "outputs": [
        {
          "output_type": "stream",
          "name": "stdout",
          "text": [
            "6*5= 30\n"
          ]
        }
      ]
    },
    {
      "cell_type": "code",
      "source": [
        "print(a1+\"/\"+b1+\"=\",b/a)"
      ],
      "metadata": {
        "colab": {
          "base_uri": "https://localhost:8080/"
        },
        "id": "MPMDBVtsvJ_V",
        "outputId": "93d81b06-8dca-4365-aead-a475d140de2c"
      },
      "execution_count": null,
      "outputs": [
        {
          "output_type": "stream",
          "name": "stdout",
          "text": [
            "6/5= 1.2\n"
          ]
        }
      ]
    },
    {
      "cell_type": "code",
      "source": [],
      "metadata": {
        "id": "Qan1sGmD3zRP"
      },
      "execution_count": null,
      "outputs": []
    },
    {
      "cell_type": "code",
      "source": [
        "print(a1+artı+b1+\"=\",a+b)"
      ],
      "metadata": {
        "colab": {
          "base_uri": "https://localhost:8080/"
        },
        "id": "hA_XorvWwT01",
        "outputId": "6cf8e654-62d6-4bfc-d2ac-111b1f7c0a6a"
      },
      "execution_count": null,
      "outputs": [
        {
          "output_type": "stream",
          "name": "stdout",
          "text": [
            "6+5= 11\n"
          ]
        }
      ]
    },
    {
      "cell_type": "code",
      "source": [
        "print(a1+carpma+b1+\"=\",a*b)"
      ],
      "metadata": {
        "colab": {
          "base_uri": "https://localhost:8080/"
        },
        "id": "L4xsnbnN4Bhv",
        "outputId": "a7293793-40a8-49e0-a71d-da3eda6cc2b9"
      },
      "execution_count": null,
      "outputs": [
        {
          "output_type": "stream",
          "name": "stdout",
          "text": [
            "6*5= 30\n"
          ]
        }
      ]
    },
    {
      "cell_type": "code",
      "source": [
        "ay=12\n",
        "kilometre=500.0 # float veri tipindedir\n",
        "gun=\"cumartesi\"\n",
        "\n",
        "print(\"ay\")"
      ],
      "metadata": {
        "colab": {
          "base_uri": "https://localhost:8080/"
        },
        "id": "aSGhd65l4Rvf",
        "outputId": "0737e295-2c61-4204-ec52-b76bfd26fea6"
      },
      "execution_count": null,
      "outputs": [
        {
          "output_type": "stream",
          "name": "stdout",
          "text": [
            "ay\n"
          ]
        }
      ]
    },
    {
      "cell_type": "code",
      "source": [
        "print(ay)"
      ],
      "metadata": {
        "colab": {
          "base_uri": "https://localhost:8080/"
        },
        "id": "Oce_PSgI5ZlW",
        "outputId": "8e8dd512-a05b-47cb-865a-60d72d452526"
      },
      "execution_count": null,
      "outputs": [
        {
          "output_type": "stream",
          "name": "stdout",
          "text": [
            "12\n"
          ]
        }
      ]
    },
    {
      "cell_type": "code",
      "source": [
        "#değişkenler sayı ile başlayamaz\n",
        "#3_ay=12 yanlışp kullanım\n",
        "#değişken isimleri sembol ile başlayamaz-->+sayı=5\n",
        "#pythonda özel anlam içeren kelimeler değişken ismi olarak kullanılamaz\n",
        "#false,true,def...."
      ],
      "metadata": {
        "id": "z3AvIYsv5cC1"
      },
      "execution_count": null,
      "outputs": []
    },
    {
      "cell_type": "code",
      "source": [
        "import keyword\n",
        "keyword.kwlist"
      ],
      "metadata": {
        "colab": {
          "base_uri": "https://localhost:8080/"
        },
        "id": "qk7EqMhp6bMm",
        "outputId": "c45b5741-291e-4d4e-f904-7075e2a5c0e6"
      },
      "execution_count": null,
      "outputs": [
        {
          "output_type": "execute_result",
          "data": {
            "text/plain": [
              "['False',\n",
              " 'None',\n",
              " 'True',\n",
              " 'and',\n",
              " 'as',\n",
              " 'assert',\n",
              " 'async',\n",
              " 'await',\n",
              " 'break',\n",
              " 'class',\n",
              " 'continue',\n",
              " 'def',\n",
              " 'del',\n",
              " 'elif',\n",
              " 'else',\n",
              " 'except',\n",
              " 'finally',\n",
              " 'for',\n",
              " 'from',\n",
              " 'global',\n",
              " 'if',\n",
              " 'import',\n",
              " 'in',\n",
              " 'is',\n",
              " 'lambda',\n",
              " 'nonlocal',\n",
              " 'not',\n",
              " 'or',\n",
              " 'pass',\n",
              " 'raise',\n",
              " 'return',\n",
              " 'try',\n",
              " 'while',\n",
              " 'with',\n",
              " 'yield']"
            ]
          },
          "metadata": {},
          "execution_count": 30
        }
      ]
    },
    {
      "cell_type": "code",
      "source": [
        "type(ay)"
      ],
      "metadata": {
        "colab": {
          "base_uri": "https://localhost:8080/"
        },
        "id": "I8ah7XUI6os0",
        "outputId": "01ffe5a8-db0c-427d-ddfc-87d010424e75"
      },
      "execution_count": null,
      "outputs": [
        {
          "output_type": "execute_result",
          "data": {
            "text/plain": [
              "int"
            ]
          },
          "metadata": {},
          "execution_count": 31
        }
      ]
    },
    {
      "cell_type": "code",
      "source": [
        "type(gun) #string"
      ],
      "metadata": {
        "colab": {
          "base_uri": "https://localhost:8080/"
        },
        "id": "2ylxk-bL7VPN",
        "outputId": "e4c61026-ec2d-4e7d-9de5-28b6f91e6c67"
      },
      "execution_count": null,
      "outputs": [
        {
          "output_type": "execute_result",
          "data": {
            "text/plain": [
              "str"
            ]
          },
          "metadata": {},
          "execution_count": 32
        }
      ]
    },
    {
      "cell_type": "code",
      "source": [
        "type =2536"
      ],
      "metadata": {
        "id": "Tl3SA7IV7ats"
      },
      "execution_count": null,
      "outputs": []
    },
    {
      "cell_type": "code",
      "source": [
        "type(gun)"
      ],
      "metadata": {
        "colab": {
          "base_uri": "https://localhost:8080/",
          "height": 141
        },
        "id": "ivDDgQxu70Qq",
        "outputId": "33a35abd-9b91-4508-d251-f0e049de797c"
      },
      "execution_count": null,
      "outputs": [
        {
          "output_type": "error",
          "ename": "TypeError",
          "evalue": "'int' object is not callable",
          "traceback": [
            "\u001b[0;31m---------------------------------------------------------------------------\u001b[0m",
            "\u001b[0;31mTypeError\u001b[0m                                 Traceback (most recent call last)",
            "\u001b[0;32m<ipython-input-34-8a334186b240>\u001b[0m in \u001b[0;36m<cell line: 1>\u001b[0;34m()\u001b[0m\n\u001b[0;32m----> 1\u001b[0;31m \u001b[0mtype\u001b[0m\u001b[0;34m(\u001b[0m\u001b[0mgun\u001b[0m\u001b[0;34m)\u001b[0m\u001b[0;34m\u001b[0m\u001b[0;34m\u001b[0m\u001b[0m\n\u001b[0m",
            "\u001b[0;31mTypeError\u001b[0m: 'int' object is not callable"
          ]
        }
      ]
    },
    {
      "cell_type": "code",
      "source": [
        "del type"
      ],
      "metadata": {
        "id": "hpuIBRgv76F6"
      },
      "execution_count": null,
      "outputs": []
    },
    {
      "cell_type": "code",
      "source": [
        "type(gun)"
      ],
      "metadata": {
        "colab": {
          "base_uri": "https://localhost:8080/"
        },
        "id": "vvCGs5Tq8KfE",
        "outputId": "3ccb1dfd-a855-4b1a-b552-ebb7c029aa9d"
      },
      "execution_count": null,
      "outputs": [
        {
          "output_type": "execute_result",
          "data": {
            "text/plain": [
              "str"
            ]
          },
          "metadata": {},
          "execution_count": 36
        }
      ]
    },
    {
      "cell_type": "code",
      "source": [
        "print(\"length fonsiyonu\")\n"
      ],
      "metadata": {
        "colab": {
          "base_uri": "https://localhost:8080/"
        },
        "id": "FzxC86DG8Nlj",
        "outputId": "24c8a44a-b8c6-4247-9800-a06a6167fcfe"
      },
      "execution_count": null,
      "outputs": [
        {
          "output_type": "stream",
          "name": "stdout",
          "text": [
            "length fonsiyonu\n"
          ]
        }
      ]
    },
    {
      "cell_type": "code",
      "source": [
        "\n",
        "len(\"gizem arslan\")"
      ],
      "metadata": {
        "colab": {
          "base_uri": "https://localhost:8080/"
        },
        "id": "Xb6DQJ6K8uSb",
        "outputId": "df6c6541-6a28-47ee-9577-24ac6949e49e"
      },
      "execution_count": null,
      "outputs": [
        {
          "output_type": "execute_result",
          "data": {
            "text/plain": [
              "12"
            ]
          },
          "metadata": {},
          "execution_count": 38
        }
      ]
    },
    {
      "cell_type": "code",
      "source": [
        "gun"
      ],
      "metadata": {
        "colab": {
          "base_uri": "https://localhost:8080/",
          "height": 35
        },
        "id": "5NP95mk98v4K",
        "outputId": "ec4f34c9-bda9-4122-c95f-6ac674b69a22"
      },
      "execution_count": null,
      "outputs": [
        {
          "output_type": "execute_result",
          "data": {
            "text/plain": [
              "'cumartesi'"
            ],
            "application/vnd.google.colaboratory.intrinsic+json": {
              "type": "string"
            }
          },
          "metadata": {},
          "execution_count": 39
        }
      ]
    },
    {
      "cell_type": "code",
      "source": [
        "len(gun)"
      ],
      "metadata": {
        "colab": {
          "base_uri": "https://localhost:8080/"
        },
        "id": "lh5s5GEq80ph",
        "outputId": "dc760d11-5b08-4b8a-8e15-8d63cdc8072a"
      },
      "execution_count": null,
      "outputs": [
        {
          "output_type": "execute_result",
          "data": {
            "text/plain": [
              "9"
            ]
          },
          "metadata": {},
          "execution_count": 40
        }
      ]
    },
    {
      "cell_type": "code",
      "source": [
        "len(\"gizem arslan\")+len(gun)"
      ],
      "metadata": {
        "colab": {
          "base_uri": "https://localhost:8080/"
        },
        "id": "iQ0a8puj9I2a",
        "outputId": "c2522c6e-609b-4ca2-ef79-3e6a1b417a97"
      },
      "execution_count": null,
      "outputs": [
        {
          "output_type": "execute_result",
          "data": {
            "text/plain": [
              "21"
            ]
          },
          "metadata": {},
          "execution_count": 41
        }
      ]
    },
    {
      "cell_type": "code",
      "source": [
        "type(len(gun))"
      ],
      "metadata": {
        "colab": {
          "base_uri": "https://localhost:8080/"
        },
        "id": "Wo9WiZ7E9vFE",
        "outputId": "5dfd0872-f5f6-4970-908c-805abad34616"
      },
      "execution_count": null,
      "outputs": [
        {
          "output_type": "execute_result",
          "data": {
            "text/plain": [
              "int"
            ]
          },
          "metadata": {},
          "execution_count": 42
        }
      ]
    },
    {
      "cell_type": "code",
      "source": [
        "type(len(\"gizem arslan\"))"
      ],
      "metadata": {
        "colab": {
          "base_uri": "https://localhost:8080/"
        },
        "id": "dM_18KiZ-IGq",
        "outputId": "e0d4f5d4-5e65-4f84-a081-2f6779cbe5a1"
      },
      "execution_count": null,
      "outputs": [
        {
          "output_type": "execute_result",
          "data": {
            "text/plain": [
              "int"
            ]
          },
          "metadata": {},
          "execution_count": 43
        }
      ]
    },
    {
      "cell_type": "code",
      "source": [
        "ad=\"gizem\"\n",
        "soyad=\"arslan\"\n"
      ],
      "metadata": {
        "id": "fSAffuzG-UZB"
      },
      "execution_count": null,
      "outputs": []
    },
    {
      "cell_type": "code",
      "source": [
        "len(ad)"
      ],
      "metadata": {
        "colab": {
          "base_uri": "https://localhost:8080/"
        },
        "id": "ZQ9KB9aV-pI5",
        "outputId": "a429d40b-99cd-46f7-cbb3-29a040890711"
      },
      "execution_count": null,
      "outputs": [
        {
          "output_type": "execute_result",
          "data": {
            "text/plain": [
              "5"
            ]
          },
          "metadata": {},
          "execution_count": 45
        }
      ]
    },
    {
      "cell_type": "code",
      "source": [
        "len(ad)+len(soyad)"
      ],
      "metadata": {
        "colab": {
          "base_uri": "https://localhost:8080/"
        },
        "id": "4QMAdMcm-sDp",
        "outputId": "a7c8c250-a28d-4294-c473-2dc6e272e976"
      },
      "execution_count": null,
      "outputs": [
        {
          "output_type": "execute_result",
          "data": {
            "text/plain": [
              "11"
            ]
          },
          "metadata": {},
          "execution_count": 46
        }
      ]
    },
    {
      "cell_type": "code",
      "source": [
        "uzunluk=len(ad)+len(soyad)"
      ],
      "metadata": {
        "id": "ahudAPZ4-_nJ"
      },
      "execution_count": null,
      "outputs": []
    },
    {
      "cell_type": "code",
      "source": [
        "uzunluk"
      ],
      "metadata": {
        "colab": {
          "base_uri": "https://localhost:8080/"
        },
        "id": "r6l7epG5_OPI",
        "outputId": "8b28743a-8c13-45c3-b349-f85d70c1e0ab"
      },
      "execution_count": null,
      "outputs": [
        {
          "output_type": "execute_result",
          "data": {
            "text/plain": [
              "11"
            ]
          },
          "metadata": {},
          "execution_count": 48
        }
      ]
    },
    {
      "cell_type": "code",
      "source": [
        "type(uzunluk)"
      ],
      "metadata": {
        "colab": {
          "base_uri": "https://localhost:8080/"
        },
        "id": "l1vYAXAp_XIB",
        "outputId": "3408173c-2618-4502-ed47-3ca45e475474"
      },
      "execution_count": null,
      "outputs": [
        {
          "output_type": "execute_result",
          "data": {
            "text/plain": [
              "int"
            ]
          },
          "metadata": {},
          "execution_count": 49
        }
      ]
    },
    {
      "cell_type": "code",
      "source": [
        "yasakli_kelimeler = len(keyword.kwlist)\n",
        "print(yasakli_kelimeler)"
      ],
      "metadata": {
        "colab": {
          "base_uri": "https://localhost:8080/"
        },
        "id": "zaR9mue2_bJJ",
        "outputId": "b93a9084-4a1f-4052-e9e5-37fe304a5dbd"
      },
      "execution_count": null,
      "outputs": [
        {
          "output_type": "stream",
          "name": "stdout",
          "text": [
            "35\n"
          ]
        }
      ]
    },
    {
      "cell_type": "code",
      "source": [
        "len(keyword.kwlist)"
      ],
      "metadata": {
        "colab": {
          "base_uri": "https://localhost:8080/"
        },
        "id": "kORbJa6mAVnI",
        "outputId": "c927feaf-38fd-4df1-de89-68a82f99e706"
      },
      "execution_count": null,
      "outputs": [
        {
          "output_type": "execute_result",
          "data": {
            "text/plain": [
              "35"
            ]
          },
          "metadata": {},
          "execution_count": 51
        }
      ]
    },
    {
      "cell_type": "code",
      "source": [
        "yazi =\"Merhaba Python Dünyası \""
      ],
      "metadata": {
        "id": "o4IV8y1zAZ5g"
      },
      "execution_count": null,
      "outputs": []
    },
    {
      "cell_type": "code",
      "source": [
        "print(yazi)"
      ],
      "metadata": {
        "colab": {
          "base_uri": "https://localhost:8080/"
        },
        "id": "FwdWflo4Biv3",
        "outputId": "2d5cf248-e482-4db2-a27d-5beebb5b5ba1"
      },
      "execution_count": null,
      "outputs": [
        {
          "output_type": "stream",
          "name": "stdout",
          "text": [
            "Merhaba Python Dünyası\n"
          ]
        }
      ]
    },
    {
      "cell_type": "code",
      "source": [
        "print(yazi[0])#ilk karakteri yazar. 0. indiste bulunana karakteri yazar"
      ],
      "metadata": {
        "colab": {
          "base_uri": "https://localhost:8080/"
        },
        "id": "5nALDsklBlM3",
        "outputId": "8d9c6900-5214-4769-9002-1071479de273"
      },
      "execution_count": null,
      "outputs": [
        {
          "output_type": "stream",
          "name": "stdout",
          "text": [
            "M\n"
          ]
        }
      ]
    },
    {
      "cell_type": "code",
      "source": [
        "print(yazi[2:8])#2.indisten başlar,8 dahil olmamak kaydiyla karakterleri yazar"
      ],
      "metadata": {
        "colab": {
          "base_uri": "https://localhost:8080/"
        },
        "id": "sr7qB9tSB2jX",
        "outputId": "7824ac91-6e6d-4508-cd7e-d24eac06bf40"
      },
      "execution_count": null,
      "outputs": [
        {
          "output_type": "stream",
          "name": "stdout",
          "text": [
            "rhaba \n"
          ]
        }
      ]
    },
    {
      "cell_type": "code",
      "source": [
        "print(yazi[3:]) #3. karakterden başlar son karaktere kadar yazar"
      ],
      "metadata": {
        "colab": {
          "base_uri": "https://localhost:8080/"
        },
        "id": "4cTkZ8n1CEK_",
        "outputId": "4c1adacf-bf60-4505-bb9d-9f5d3a7a6bf3"
      },
      "execution_count": null,
      "outputs": [
        {
          "output_type": "stream",
          "name": "stdout",
          "text": [
            "haba Python Dünyası\n"
          ]
        }
      ]
    },
    {
      "cell_type": "code",
      "source": [
        "print(yazi[:8])"
      ],
      "metadata": {
        "colab": {
          "base_uri": "https://localhost:8080/"
        },
        "id": "r1L-OY7-CYWn",
        "outputId": "4c890c1b-9bea-4cbc-9f31-0f617598e948"
      },
      "execution_count": null,
      "outputs": [
        {
          "output_type": "stream",
          "name": "stdout",
          "text": [
            "Merhaba \n"
          ]
        }
      ]
    },
    {
      "cell_type": "code",
      "source": [
        "print(yazi[-1])# sondan okumaya başlar"
      ],
      "metadata": {
        "colab": {
          "base_uri": "https://localhost:8080/"
        },
        "id": "rYt4x8LSC6Xu",
        "outputId": "17f7600f-1e2e-4ecc-affc-6890e33048b5"
      },
      "execution_count": null,
      "outputs": [
        {
          "output_type": "stream",
          "name": "stdout",
          "text": [
            "ı\n"
          ]
        }
      ]
    },
    {
      "cell_type": "code",
      "source": [
        "print(yazi*2)"
      ],
      "metadata": {
        "colab": {
          "base_uri": "https://localhost:8080/"
        },
        "id": "M0dTab0ZDZ2e",
        "outputId": "4fc5d2ae-1a02-4b9f-c922-17b4072baccb"
      },
      "execution_count": null,
      "outputs": [
        {
          "output_type": "stream",
          "name": "stdout",
          "text": [
            "Merhaba Python Dünyası Merhaba Python Dünyası \n"
          ]
        }
      ]
    },
    {
      "cell_type": "code",
      "source": [
        "print(yazi+yazi)"
      ],
      "metadata": {
        "colab": {
          "base_uri": "https://localhost:8080/"
        },
        "id": "IxyJiKEoEBCt",
        "outputId": "9172dfe2-1c41-4ede-f729-65ab59050611"
      },
      "execution_count": null,
      "outputs": [
        {
          "output_type": "stream",
          "name": "stdout",
          "text": [
            "Merhaba Python DünyasıMerhaba Python Dünyası\n"
          ]
        }
      ]
    },
    {
      "cell_type": "code",
      "source": [
        "print(yazi+\" ben geldim\")"
      ],
      "metadata": {
        "colab": {
          "base_uri": "https://localhost:8080/"
        },
        "id": "DKitNIIoEHYe",
        "outputId": "937458c2-8ab0-40e1-96e2-de81b4d1cbbf"
      },
      "execution_count": null,
      "outputs": [
        {
          "output_type": "stream",
          "name": "stdout",
          "text": [
            "Merhaba Python Dünyası ben geldim\n"
          ]
        }
      ]
    },
    {
      "cell_type": "code",
      "source": [
        "print(\"LİSTELER\")"
      ],
      "metadata": {
        "colab": {
          "base_uri": "https://localhost:8080/"
        },
        "id": "5OKPrlEYEvXl",
        "outputId": "41a392ab-34be-4d28-fe62-069567443baa"
      },
      "execution_count": null,
      "outputs": [
        {
          "output_type": "stream",
          "name": "stdout",
          "text": [
            "LİSTELER\n"
          ]
        }
      ]
    },
    {
      "cell_type": "code",
      "source": [
        "liste1 =[\"cumartesi\",5,2.2,\"istanbul\",34]\n",
        "liste2 =[123,'Ankara']"
      ],
      "metadata": {
        "id": "QKQM06MoLZBg"
      },
      "execution_count": null,
      "outputs": []
    },
    {
      "cell_type": "code",
      "source": [
        "print(liste1)"
      ],
      "metadata": {
        "colab": {
          "base_uri": "https://localhost:8080/"
        },
        "id": "9FPRAP-QMNtX",
        "outputId": "6928cea4-c861-4802-d3af-0ca878c285de"
      },
      "execution_count": null,
      "outputs": [
        {
          "output_type": "stream",
          "name": "stdout",
          "text": [
            "['cumartesi', 5, 2.2, 'istanbul', 34]\n"
          ]
        }
      ]
    },
    {
      "cell_type": "code",
      "source": [
        "print(liste1[0])"
      ],
      "metadata": {
        "colab": {
          "base_uri": "https://localhost:8080/"
        },
        "id": "jfqFLNrSMP-Y",
        "outputId": "a09e33cf-d9b6-405e-9604-4d371955ea37"
      },
      "execution_count": null,
      "outputs": [
        {
          "output_type": "stream",
          "name": "stdout",
          "text": [
            "cumartesi\n"
          ]
        }
      ]
    },
    {
      "cell_type": "code",
      "source": [
        "print(liste1[3:5])"
      ],
      "metadata": {
        "colab": {
          "base_uri": "https://localhost:8080/"
        },
        "id": "aMmioT_mMit4",
        "outputId": "06a1a9ee-141c-436d-acda-6ecd34770aef"
      },
      "execution_count": null,
      "outputs": [
        {
          "output_type": "stream",
          "name": "stdout",
          "text": [
            "['istanbul', 34]\n"
          ]
        }
      ]
    },
    {
      "cell_type": "code",
      "source": [
        "print(liste1[0:5:2])"
      ],
      "metadata": {
        "colab": {
          "base_uri": "https://localhost:8080/"
        },
        "id": "XGlyTZw3NMH3",
        "outputId": "4ef07459-0143-423e-beae-b51a49b22487"
      },
      "execution_count": null,
      "outputs": [
        {
          "output_type": "stream",
          "name": "stdout",
          "text": [
            "['cumartesi', 2.2, 34]\n"
          ]
        }
      ]
    },
    {
      "cell_type": "code",
      "source": [
        "print(liste1[1:5:2])"
      ],
      "metadata": {
        "colab": {
          "base_uri": "https://localhost:8080/"
        },
        "id": "I5PiyG08NafX",
        "outputId": "a57b4d56-2490-470a-c8e1-314e54597af6"
      },
      "execution_count": null,
      "outputs": [
        {
          "output_type": "stream",
          "name": "stdout",
          "text": [
            "[5, 'istanbul']\n"
          ]
        }
      ]
    },
    {
      "cell_type": "code",
      "source": [
        "print(liste1*2)"
      ],
      "metadata": {
        "colab": {
          "base_uri": "https://localhost:8080/"
        },
        "id": "JzibVePmPs_N",
        "outputId": "a269e523-278d-43ce-bafe-7c2437421e1a"
      },
      "execution_count": null,
      "outputs": [
        {
          "output_type": "stream",
          "name": "stdout",
          "text": [
            "['cumartesi', 5, 2.2, 'istanbul', 34, 'cumartesi', 5, 2.2, 'istanbul', 34]\n"
          ]
        }
      ]
    },
    {
      "cell_type": "code",
      "source": [
        "print(liste1+liste2)"
      ],
      "metadata": {
        "colab": {
          "base_uri": "https://localhost:8080/"
        },
        "id": "nGCq8RAkQEUV",
        "outputId": "f1ccdf5e-9f2a-4c69-c035-42047b2b5165"
      },
      "execution_count": null,
      "outputs": [
        {
          "output_type": "stream",
          "name": "stdout",
          "text": [
            "['cumartesi', 5, 2.2, 'istanbul', 34, 123, 'Ankara']\n"
          ]
        }
      ]
    },
    {
      "cell_type": "code",
      "source": [
        "print(\"TUPLES\")"
      ],
      "metadata": {
        "colab": {
          "base_uri": "https://localhost:8080/"
        },
        "id": "Rye52eMzQVsF",
        "outputId": "5c811897-72de-4b17-fb57-e67e3da794ac"
      },
      "execution_count": null,
      "outputs": [
        {
          "output_type": "stream",
          "name": "stdout",
          "text": [
            "TUPLES\n"
          ]
        }
      ]
    },
    {
      "cell_type": "code",
      "source": [
        "tuple1 = (\"pazar\",22,\"istanbul\",104)\n",
        "tuple2 = (34,\"istanbul\")\n",
        "\n",
        "print(tuple1[1:3])"
      ],
      "metadata": {
        "colab": {
          "base_uri": "https://localhost:8080/"
        },
        "id": "7_wM4os9RMJ8",
        "outputId": "acee0594-2a82-4e63-cd41-f06ef5728ef9"
      },
      "execution_count": null,
      "outputs": [
        {
          "output_type": "stream",
          "name": "stdout",
          "text": [
            "(22, 'istanbul')\n"
          ]
        }
      ]
    },
    {
      "cell_type": "code",
      "source": [
        "print(tuple1[2:])"
      ],
      "metadata": {
        "colab": {
          "base_uri": "https://localhost:8080/"
        },
        "id": "alWdH9uVRw1U",
        "outputId": "726bc2cf-a8af-4ae0-84cb-10063c2efb68"
      },
      "execution_count": null,
      "outputs": [
        {
          "output_type": "stream",
          "name": "stdout",
          "text": [
            "('istanbul', 104)\n"
          ]
        }
      ]
    },
    {
      "cell_type": "code",
      "source": [
        "print(tuple1*4)"
      ],
      "metadata": {
        "colab": {
          "base_uri": "https://localhost:8080/"
        },
        "id": "eg9NHVwySDiD",
        "outputId": "4de95f3f-4aa6-40cf-aa9d-f90d6db225ea"
      },
      "execution_count": null,
      "outputs": [
        {
          "output_type": "stream",
          "name": "stdout",
          "text": [
            "('pazar', 22, 'istanbul', 104, 'pazar', 22, 'istanbul', 104, 'pazar', 22, 'istanbul', 104, 'pazar', 22, 'istanbul', 104)\n"
          ]
        }
      ]
    },
    {
      "cell_type": "code",
      "source": [
        "#tuple ve liste farkı\n",
        "tuple_1=(1,\"iki\",3,4)\n",
        "liste_1=[\"bir\",2,3,4]\n",
        "liste_1[2]=5\n",
        "print(liste_1)"
      ],
      "metadata": {
        "id": "6UOpqs2-SZdD",
        "colab": {
          "base_uri": "https://localhost:8080/"
        },
        "outputId": "56a98c01-aeb9-4398-c9db-51b793cff859"
      },
      "execution_count": 1,
      "outputs": [
        {
          "output_type": "stream",
          "name": "stdout",
          "text": [
            "['bir', 2, 5, 4]\n"
          ]
        }
      ]
    },
    {
      "cell_type": "code",
      "source": [
        "tuple_1[2]=5\n",
        "print(tuple_1)"
      ],
      "metadata": {
        "colab": {
          "base_uri": "https://localhost:8080/",
          "height": 158
        },
        "id": "WStza4Idqvz0",
        "outputId": "78a9de93-be05-4dd1-db1b-e1eedbfe306b"
      },
      "execution_count": 2,
      "outputs": [
        {
          "output_type": "error",
          "ename": "TypeError",
          "evalue": "'tuple' object does not support item assignment",
          "traceback": [
            "\u001b[0;31m---------------------------------------------------------------------------\u001b[0m",
            "\u001b[0;31mTypeError\u001b[0m                                 Traceback (most recent call last)",
            "\u001b[0;32m<ipython-input-2-57e86991d53d>\u001b[0m in \u001b[0;36m<cell line: 1>\u001b[0;34m()\u001b[0m\n\u001b[0;32m----> 1\u001b[0;31m \u001b[0mtuple_1\u001b[0m\u001b[0;34m[\u001b[0m\u001b[0;36m2\u001b[0m\u001b[0;34m]\u001b[0m\u001b[0;34m=\u001b[0m\u001b[0;36m5\u001b[0m\u001b[0;34m\u001b[0m\u001b[0;34m\u001b[0m\u001b[0m\n\u001b[0m\u001b[1;32m      2\u001b[0m \u001b[0mprint\u001b[0m\u001b[0;34m(\u001b[0m\u001b[0mtuple_1\u001b[0m\u001b[0;34m)\u001b[0m\u001b[0;34m\u001b[0m\u001b[0;34m\u001b[0m\u001b[0m\n",
            "\u001b[0;31mTypeError\u001b[0m: 'tuple' object does not support item assignment"
          ]
        }
      ]
    },
    {
      "cell_type": "code",
      "source": [
        "print(\"SÖZLÜKLER\")"
      ],
      "metadata": {
        "colab": {
          "base_uri": "https://localhost:8080/"
        },
        "id": "wiDyyiq1rEQC",
        "outputId": "23a82a34-6f60-4452-9d97-90ee3427f419"
      },
      "execution_count": 3,
      "outputs": [
        {
          "output_type": "stream",
          "name": "stdout",
          "text": [
            "SÖZLÜKLER\n"
          ]
        }
      ]
    },
    {
      "cell_type": "code",
      "source": [
        "sozluk_1={} #boş bir sözlük tanımlandı\n",
        "sozluk_2={\"isim\":\"gizem\",\"soyisim\":\"arslan\",\"ogr_kodu\":5}"
      ],
      "metadata": {
        "id": "0xEuJVLKripa"
      },
      "execution_count": 4,
      "outputs": []
    },
    {
      "cell_type": "code",
      "source": [
        "print(sozluk_2.keys()) #anahtar değerlerini görüntüler"
      ],
      "metadata": {
        "colab": {
          "base_uri": "https://localhost:8080/"
        },
        "id": "HMCGG1tws8RL",
        "outputId": "fe49c37c-c33d-4a01-9d0b-bdbbb6aced7c"
      },
      "execution_count": 5,
      "outputs": [
        {
          "output_type": "stream",
          "name": "stdout",
          "text": [
            "dict_keys(['isim', 'soyisim', 'ogr_kodu'])\n"
          ]
        }
      ]
    },
    {
      "cell_type": "code",
      "source": [
        "print(sozluk_2.values())"
      ],
      "metadata": {
        "colab": {
          "base_uri": "https://localhost:8080/"
        },
        "id": "qIE7tKXTtDNr",
        "outputId": "cf95062c-d8d3-46d8-defb-6c5669c2de7a"
      },
      "execution_count": 6,
      "outputs": [
        {
          "output_type": "stream",
          "name": "stdout",
          "text": [
            "dict_values(['gizem', 'arslan', 5])\n"
          ]
        }
      ]
    },
    {
      "cell_type": "code",
      "source": [
        "print(sozluk_2[\"isim\"])"
      ],
      "metadata": {
        "colab": {
          "base_uri": "https://localhost:8080/"
        },
        "id": "q2PTSaUAtVvb",
        "outputId": "fc091b48-bfda-4e56-aca4-3c3042837897"
      },
      "execution_count": 7,
      "outputs": [
        {
          "output_type": "stream",
          "name": "stdout",
          "text": [
            "gizem\n"
          ]
        }
      ]
    },
    {
      "cell_type": "code",
      "source": [
        "print(sozluk_2[0]) #"
      ],
      "metadata": {
        "colab": {
          "base_uri": "https://localhost:8080/",
          "height": 141
        },
        "id": "50Fm5Nibtofy",
        "outputId": "a738067b-fb8a-41c5-9122-3b96daf8525f"
      },
      "execution_count": 9,
      "outputs": [
        {
          "output_type": "error",
          "ename": "KeyError",
          "evalue": "0",
          "traceback": [
            "\u001b[0;31m---------------------------------------------------------------------------\u001b[0m",
            "\u001b[0;31mKeyError\u001b[0m                                  Traceback (most recent call last)",
            "\u001b[0;32m<ipython-input-9-6a2317527156>\u001b[0m in \u001b[0;36m<cell line: 1>\u001b[0;34m()\u001b[0m\n\u001b[0;32m----> 1\u001b[0;31m \u001b[0mprint\u001b[0m\u001b[0;34m(\u001b[0m\u001b[0msozluk_2\u001b[0m\u001b[0;34m[\u001b[0m\u001b[0;36m0\u001b[0m\u001b[0;34m]\u001b[0m\u001b[0;34m)\u001b[0m\u001b[0;34m\u001b[0m\u001b[0;34m\u001b[0m\u001b[0m\n\u001b[0m",
            "\u001b[0;31mKeyError\u001b[0m: 0"
          ]
        }
      ]
    },
    {
      "cell_type": "code",
      "source": [
        "print(\"tür dönüşümleri\")"
      ],
      "metadata": {
        "colab": {
          "base_uri": "https://localhost:8080/"
        },
        "id": "7qnt4uUEuCs8",
        "outputId": "a431f5ed-34b9-4b9c-81e7-fa6a1877b425"
      },
      "execution_count": 10,
      "outputs": [
        {
          "output_type": "stream",
          "name": "stdout",
          "text": [
            "tür dönüşümleri\n"
          ]
        }
      ]
    },
    {
      "cell_type": "code",
      "source": [
        "x=10\n",
        "y=20.5"
      ],
      "metadata": {
        "id": "vVmAaQcDuzOL"
      },
      "execution_count": 11,
      "outputs": []
    },
    {
      "cell_type": "code",
      "source": [
        "x=float(x) #int veri türünden float veri tütne dönüştürme"
      ],
      "metadata": {
        "id": "U-icjPhIu4rT"
      },
      "execution_count": 12,
      "outputs": []
    },
    {
      "cell_type": "code",
      "source": [
        "print(x)"
      ],
      "metadata": {
        "colab": {
          "base_uri": "https://localhost:8080/"
        },
        "id": "XX3b0rutvBEE",
        "outputId": "1c932022-b4cf-44e0-c888-e6e7d21d2e66"
      },
      "execution_count": 13,
      "outputs": [
        {
          "output_type": "stream",
          "name": "stdout",
          "text": [
            "10.0\n"
          ]
        }
      ]
    },
    {
      "cell_type": "code",
      "source": [
        "y=int(y) #float veri türünden int veri türüne dönüştürme"
      ],
      "metadata": {
        "id": "Eg9TFwvFvDTb"
      },
      "execution_count": 14,
      "outputs": []
    },
    {
      "cell_type": "code",
      "source": [
        "print(y)"
      ],
      "metadata": {
        "colab": {
          "base_uri": "https://localhost:8080/"
        },
        "id": "L1L_PyyAvbam",
        "outputId": "5eed2408-4e23-4a3a-c9ab-f25ec90b0c2f"
      },
      "execution_count": 15,
      "outputs": [
        {
          "output_type": "stream",
          "name": "stdout",
          "text": [
            "20\n"
          ]
        }
      ]
    },
    {
      "cell_type": "code",
      "source": [
        "sonuc = str(x)+str(y) #strint veri türüne dönüştürme"
      ],
      "metadata": {
        "id": "7CcV--cEveIz"
      },
      "execution_count": 16,
      "outputs": []
    },
    {
      "cell_type": "code",
      "source": [
        "sonuc"
      ],
      "metadata": {
        "colab": {
          "base_uri": "https://localhost:8080/",
          "height": 35
        },
        "id": "nozEE7cJwF_U",
        "outputId": "eb7a7026-ad1b-425d-95bf-6fafc6202197"
      },
      "execution_count": 20,
      "outputs": [
        {
          "output_type": "execute_result",
          "data": {
            "text/plain": [
              "'10.020'"
            ],
            "application/vnd.google.colaboratory.intrinsic+json": {
              "type": "string"
            }
          },
          "metadata": {},
          "execution_count": 20
        }
      ]
    },
    {
      "cell_type": "code",
      "source": [
        "type(sonuc)"
      ],
      "metadata": {
        "colab": {
          "base_uri": "https://localhost:8080/"
        },
        "id": "TGytjGiXwHFs",
        "outputId": "827f4832-b004-414c-c180-483907120aea"
      },
      "execution_count": 18,
      "outputs": [
        {
          "output_type": "execute_result",
          "data": {
            "text/plain": [
              "str"
            ]
          },
          "metadata": {},
          "execution_count": 18
        }
      ]
    },
    {
      "cell_type": "code",
      "source": [
        "#kullanıcı girişi\n",
        "ad = input(\"adınızı giriniz:\")"
      ],
      "metadata": {
        "colab": {
          "base_uri": "https://localhost:8080/"
        },
        "id": "yo8mbcdxwO6T",
        "outputId": "2b404f11-7761-4b65-a851-91627d466bba"
      },
      "execution_count": 21,
      "outputs": [
        {
          "name": "stdout",
          "output_type": "stream",
          "text": [
            "adınızı giriniz:gizem\n"
          ]
        }
      ]
    },
    {
      "cell_type": "code",
      "source": [
        "ad"
      ],
      "metadata": {
        "colab": {
          "base_uri": "https://localhost:8080/",
          "height": 35
        },
        "id": "dxpQJP55x3zl",
        "outputId": "68d58ede-b34f-4620-d11d-607e193605e2"
      },
      "execution_count": 22,
      "outputs": [
        {
          "output_type": "execute_result",
          "data": {
            "text/plain": [
              "'gizem'"
            ],
            "application/vnd.google.colaboratory.intrinsic+json": {
              "type": "string"
            }
          },
          "metadata": {},
          "execution_count": 22
        }
      ]
    },
    {
      "cell_type": "code",
      "source": [
        "print(\"adınızı giriniz:\")\n",
        "ad=input()"
      ],
      "metadata": {
        "colab": {
          "base_uri": "https://localhost:8080/"
        },
        "id": "xZpDguCzyD50",
        "outputId": "aa06dc76-74eb-4aad-bb83-8bc7ee45682d"
      },
      "execution_count": 23,
      "outputs": [
        {
          "name": "stdout",
          "output_type": "stream",
          "text": [
            "adınızı giriniz:\n",
            "gizem\n"
          ]
        }
      ]
    },
    {
      "cell_type": "code",
      "source": [
        "ad"
      ],
      "metadata": {
        "colab": {
          "base_uri": "https://localhost:8080/",
          "height": 35
        },
        "id": "CP8HaMkRyZAV",
        "outputId": "afc0b5f7-db13-47d2-c78a-610315349dfc"
      },
      "execution_count": 24,
      "outputs": [
        {
          "output_type": "execute_result",
          "data": {
            "text/plain": [
              "'gizem'"
            ],
            "application/vnd.google.colaboratory.intrinsic+json": {
              "type": "string"
            }
          },
          "metadata": {},
          "execution_count": 24
        }
      ]
    },
    {
      "cell_type": "code",
      "source": [
        "#karakter dizlerinin Metotları\n",
        "dir(\"\")"
      ],
      "metadata": {
        "colab": {
          "base_uri": "https://localhost:8080/"
        },
        "id": "X9l91b3qyfPl",
        "outputId": "0f95b79a-6667-4ac6-f841-bb6b91aaa21a"
      },
      "execution_count": 25,
      "outputs": [
        {
          "output_type": "execute_result",
          "data": {
            "text/plain": [
              "['__add__',\n",
              " '__class__',\n",
              " '__contains__',\n",
              " '__delattr__',\n",
              " '__dir__',\n",
              " '__doc__',\n",
              " '__eq__',\n",
              " '__format__',\n",
              " '__ge__',\n",
              " '__getattribute__',\n",
              " '__getitem__',\n",
              " '__getnewargs__',\n",
              " '__gt__',\n",
              " '__hash__',\n",
              " '__init__',\n",
              " '__init_subclass__',\n",
              " '__iter__',\n",
              " '__le__',\n",
              " '__len__',\n",
              " '__lt__',\n",
              " '__mod__',\n",
              " '__mul__',\n",
              " '__ne__',\n",
              " '__new__',\n",
              " '__reduce__',\n",
              " '__reduce_ex__',\n",
              " '__repr__',\n",
              " '__rmod__',\n",
              " '__rmul__',\n",
              " '__setattr__',\n",
              " '__sizeof__',\n",
              " '__str__',\n",
              " '__subclasshook__',\n",
              " 'capitalize',\n",
              " 'casefold',\n",
              " 'center',\n",
              " 'count',\n",
              " 'encode',\n",
              " 'endswith',\n",
              " 'expandtabs',\n",
              " 'find',\n",
              " 'format',\n",
              " 'format_map',\n",
              " 'index',\n",
              " 'isalnum',\n",
              " 'isalpha',\n",
              " 'isascii',\n",
              " 'isdecimal',\n",
              " 'isdigit',\n",
              " 'isidentifier',\n",
              " 'islower',\n",
              " 'isnumeric',\n",
              " 'isprintable',\n",
              " 'isspace',\n",
              " 'istitle',\n",
              " 'isupper',\n",
              " 'join',\n",
              " 'ljust',\n",
              " 'lower',\n",
              " 'lstrip',\n",
              " 'maketrans',\n",
              " 'partition',\n",
              " 'removeprefix',\n",
              " 'removesuffix',\n",
              " 'replace',\n",
              " 'rfind',\n",
              " 'rindex',\n",
              " 'rjust',\n",
              " 'rpartition',\n",
              " 'rsplit',\n",
              " 'rstrip',\n",
              " 'split',\n",
              " 'splitlines',\n",
              " 'startswith',\n",
              " 'strip',\n",
              " 'swapcase',\n",
              " 'title',\n",
              " 'translate',\n",
              " 'upper',\n",
              " 'zfill']"
            ]
          },
          "metadata": {},
          "execution_count": 25
        }
      ]
    },
    {
      "cell_type": "code",
      "source": [
        "#replace-- yerine koymak, değiştirmek\n",
        "meyve=\"elma\"\n",
        "meyve.replace(\"e\",\"E\")\n"
      ],
      "metadata": {
        "colab": {
          "base_uri": "https://localhost:8080/",
          "height": 35
        },
        "id": "N3477sF4zFRN",
        "outputId": "f37413a2-f9c3-4a87-d6ae-24c0c4880806"
      },
      "execution_count": 26,
      "outputs": [
        {
          "output_type": "execute_result",
          "data": {
            "text/plain": [
              "'Elma'"
            ],
            "application/vnd.google.colaboratory.intrinsic+json": {
              "type": "string"
            }
          },
          "metadata": {},
          "execution_count": 26
        }
      ]
    },
    {
      "cell_type": "code",
      "source": [
        "sebze =\"patates\"\n",
        "sebze=sebze.replace(\"a\",\"A\")"
      ],
      "metadata": {
        "id": "K-dlEYBoztJF"
      },
      "execution_count": 27,
      "outputs": []
    },
    {
      "cell_type": "code",
      "source": [
        "sebze"
      ],
      "metadata": {
        "colab": {
          "base_uri": "https://localhost:8080/",
          "height": 35
        },
        "id": "6VVNG4Fo0hEu",
        "outputId": "b28696b7-8cff-4f22-f129-f49d663546ff"
      },
      "execution_count": 28,
      "outputs": [
        {
          "output_type": "execute_result",
          "data": {
            "text/plain": [
              "'pAtAtes'"
            ],
            "application/vnd.google.colaboratory.intrinsic+json": {
              "type": "string"
            }
          },
          "metadata": {},
          "execution_count": 28
        }
      ]
    },
    {
      "cell_type": "code",
      "source": [
        "yazi=\"türkiye büyük millet meclisi\""
      ],
      "metadata": {
        "id": "rav96pzQ0rXl"
      },
      "execution_count": 29,
      "outputs": []
    },
    {
      "cell_type": "code",
      "source": [
        "yazi.replace(\"ü\",\"u\")"
      ],
      "metadata": {
        "colab": {
          "base_uri": "https://localhost:8080/",
          "height": 35
        },
        "id": "3yDiSMAu02wt",
        "outputId": "be4ff677-bcd7-45be-db03-c188bfebf475"
      },
      "execution_count": 30,
      "outputs": [
        {
          "output_type": "execute_result",
          "data": {
            "text/plain": [
              "'turkiye buyuk millet meclisi'"
            ],
            "application/vnd.google.colaboratory.intrinsic+json": {
              "type": "string"
            }
          },
          "metadata": {},
          "execution_count": 30
        }
      ]
    },
    {
      "cell_type": "code",
      "source": [
        "yazi.replace(\"ü\",\"u\",1)"
      ],
      "metadata": {
        "colab": {
          "base_uri": "https://localhost:8080/",
          "height": 35
        },
        "id": "547CvHdd1Eim",
        "outputId": "d1dacfb5-bcd1-4a61-f6b6-8e85fabbe2c2"
      },
      "execution_count": 31,
      "outputs": [
        {
          "output_type": "execute_result",
          "data": {
            "text/plain": [
              "'turkiye büyük millet meclisi'"
            ],
            "application/vnd.google.colaboratory.intrinsic+json": {
              "type": "string"
            }
          },
          "metadata": {},
          "execution_count": 31
        }
      ]
    },
    {
      "cell_type": "code",
      "source": [
        "yazi.replace(\"ü\",\"u\",2)"
      ],
      "metadata": {
        "colab": {
          "base_uri": "https://localhost:8080/",
          "height": 35
        },
        "id": "Hq9ZQVqr1YuO",
        "outputId": "29193cc6-4570-44a0-f04c-8702cbe3ad4d"
      },
      "execution_count": 32,
      "outputs": [
        {
          "output_type": "execute_result",
          "data": {
            "text/plain": [
              "'turkiye buyük millet meclisi'"
            ],
            "application/vnd.google.colaboratory.intrinsic+json": {
              "type": "string"
            }
          },
          "metadata": {},
          "execution_count": 32
        }
      ]
    },
    {
      "cell_type": "code",
      "source": [
        "yazi.replace(\"ü\",\"u\",0)"
      ],
      "metadata": {
        "colab": {
          "base_uri": "https://localhost:8080/",
          "height": 35
        },
        "id": "_RzWgaF71ij-",
        "outputId": "b7746a77-202a-424c-d035-be28cc17a936"
      },
      "execution_count": 33,
      "outputs": [
        {
          "output_type": "execute_result",
          "data": {
            "text/plain": [
              "'türkiye büyük millet meclisi'"
            ],
            "application/vnd.google.colaboratory.intrinsic+json": {
              "type": "string"
            }
          },
          "metadata": {},
          "execution_count": 33
        }
      ]
    },
    {
      "cell_type": "code",
      "source": [
        "yazi.replace(\"ü\",\" \")"
      ],
      "metadata": {
        "colab": {
          "base_uri": "https://localhost:8080/",
          "height": 35
        },
        "id": "i7EIB5B2115N",
        "outputId": "30828af6-c037-4c7c-fc8a-242d5b5ca4f5"
      },
      "execution_count": 34,
      "outputs": [
        {
          "output_type": "execute_result",
          "data": {
            "text/plain": [
              "'t rkiye b y k millet meclisi'"
            ],
            "application/vnd.google.colaboratory.intrinsic+json": {
              "type": "string"
            }
          },
          "metadata": {},
          "execution_count": 34
        }
      ]
    },
    {
      "cell_type": "code",
      "source": [
        "yazi.replace(\"ü\",\"\")"
      ],
      "metadata": {
        "colab": {
          "base_uri": "https://localhost:8080/",
          "height": 35
        },
        "id": "Fm54cFrz1_QO",
        "outputId": "7351cdac-aa53-4265-a4c8-62888e671e54"
      },
      "execution_count": 35,
      "outputs": [
        {
          "output_type": "execute_result",
          "data": {
            "text/plain": [
              "'trkiye byk millet meclisi'"
            ],
            "application/vnd.google.colaboratory.intrinsic+json": {
              "type": "string"
            }
          },
          "metadata": {},
          "execution_count": 35
        }
      ]
    },
    {
      "cell_type": "code",
      "source": [
        "yazi.replace(\"ü\",\"\",1)"
      ],
      "metadata": {
        "colab": {
          "base_uri": "https://localhost:8080/",
          "height": 35
        },
        "id": "2kSZahSC2Ew2",
        "outputId": "2a391bca-627b-40a5-f67d-6d9db29b6d62"
      },
      "execution_count": 36,
      "outputs": [
        {
          "output_type": "execute_result",
          "data": {
            "text/plain": [
              "'trkiye büyük millet meclisi'"
            ],
            "application/vnd.google.colaboratory.intrinsic+json": {
              "type": "string"
            }
          },
          "metadata": {},
          "execution_count": 36
        }
      ]
    },
    {
      "cell_type": "code",
      "source": [
        "yazi.replace(\"ü\",\"u\",2+1)"
      ],
      "metadata": {
        "colab": {
          "base_uri": "https://localhost:8080/",
          "height": 35
        },
        "id": "as0k5VA02NGu",
        "outputId": "ffdafaa4-05df-4106-9b10-1432f78dac2f"
      },
      "execution_count": 39,
      "outputs": [
        {
          "output_type": "execute_result",
          "data": {
            "text/plain": [
              "'turkiye buyuk millet meclisi'"
            ],
            "application/vnd.google.colaboratory.intrinsic+json": {
              "type": "string"
            }
          },
          "metadata": {},
          "execution_count": 39
        }
      ]
    },
    {
      "cell_type": "code",
      "source": [
        "#split--bölmek ayırmak\n",
        "cumle =\"Türkiye Büyük Millet Meclisi\"\n",
        "cumle.split() #parametresiz kullanıldığında boşluk karakterini ölçüt alır"
      ],
      "metadata": {
        "colab": {
          "base_uri": "https://localhost:8080/"
        },
        "id": "yLXKcyTa2gEG",
        "outputId": "fbc38a39-519e-4ac0-aae5-8b15d3c5664d"
      },
      "execution_count": 40,
      "outputs": [
        {
          "output_type": "execute_result",
          "data": {
            "text/plain": [
              "['Türkiye', 'Büyük', 'Millet', 'Meclisi']"
            ]
          },
          "metadata": {},
          "execution_count": 40
        }
      ]
    },
    {
      "cell_type": "code",
      "source": [
        "print(cumle[0],cumle[8],cumle[14],cumle[21]) #karakter dizilerinin dilimleme özelliğinden yararlandık"
      ],
      "metadata": {
        "colab": {
          "base_uri": "https://localhost:8080/"
        },
        "id": "d11HyqfQ21we",
        "outputId": "b8809c8a-68d6-4d51-cb79-8408324d200e"
      },
      "execution_count": 41,
      "outputs": [
        {
          "output_type": "stream",
          "name": "stdout",
          "text": [
            "T B M M\n"
          ]
        }
      ]
    },
    {
      "cell_type": "code",
      "source": [
        "cumle.split(\",\")"
      ],
      "metadata": {
        "colab": {
          "base_uri": "https://localhost:8080/"
        },
        "id": "nDNWD5hGAWHi",
        "outputId": "206ce483-94b8-4ce6-ad81-1b6504f77abe"
      },
      "execution_count": 42,
      "outputs": [
        {
          "output_type": "execute_result",
          "data": {
            "text/plain": [
              "['Türkiye Büyük Millet Meclisi']"
            ]
          },
          "metadata": {},
          "execution_count": 42
        }
      ]
    },
    {
      "cell_type": "code",
      "source": [
        "cumle.split(\"e\")"
      ],
      "metadata": {
        "colab": {
          "base_uri": "https://localhost:8080/"
        },
        "id": "gTz45R81AzGS",
        "outputId": "33cb722b-542c-4587-949e-53fc40462f04"
      },
      "execution_count": 43,
      "outputs": [
        {
          "output_type": "execute_result",
          "data": {
            "text/plain": [
              "['Türkiy', ' Büyük Mill', 't M', 'clisi']"
            ]
          },
          "metadata": {},
          "execution_count": 43
        }
      ]
    },
    {
      "cell_type": "code",
      "source": [
        "cumle.split(\" \",1)"
      ],
      "metadata": {
        "colab": {
          "base_uri": "https://localhost:8080/"
        },
        "id": "PcjY0EbcBMJy",
        "outputId": "0da56d27-d06e-43d0-bdc8-5cc822ef655e"
      },
      "execution_count": 45,
      "outputs": [
        {
          "output_type": "execute_result",
          "data": {
            "text/plain": [
              "['Türkiye', 'Büyük Millet Meclisi']"
            ]
          },
          "metadata": {},
          "execution_count": 45
        }
      ]
    },
    {
      "cell_type": "code",
      "source": [
        "cumle.rsplit(\" \",1)"
      ],
      "metadata": {
        "colab": {
          "base_uri": "https://localhost:8080/"
        },
        "id": "uMG0KibXBeTK",
        "outputId": "8c4790b3-21b1-4608-955e-566346cfb21d"
      },
      "execution_count": 46,
      "outputs": [
        {
          "output_type": "execute_result",
          "data": {
            "text/plain": [
              "['Türkiye Büyük Millet', 'Meclisi']"
            ]
          },
          "metadata": {},
          "execution_count": 46
        }
      ]
    },
    {
      "cell_type": "code",
      "source": [
        "metin =\"\"\"Python, nesne yönelimli, yorumlamalı, birimsel ve\n",
        "etkileşimli yüksek seviyeli bir programlama dilidir. Girintilere\n",
        "dayalı basit söz dizimi, dilin öğrenilmesini ve akılda kalmasını\n",
        "kolaylaştırır. \"\"\""
      ],
      "metadata": {
        "id": "-ArZqcKDCD_q"
      },
      "execution_count": 47,
      "outputs": []
    },
    {
      "cell_type": "code",
      "source": [
        "print(metin.splitlines())"
      ],
      "metadata": {
        "colab": {
          "base_uri": "https://localhost:8080/"
        },
        "id": "hxjanI0dCkX7",
        "outputId": "e77f8690-aa33-4276-fdf5-30f72c2d436c"
      },
      "execution_count": 48,
      "outputs": [
        {
          "output_type": "stream",
          "name": "stdout",
          "text": [
            "['Python, nesne yönelimli, yorumlamalı, birimsel ve ', 'etkileşimli yüksek seviyeli bir programlama dilidir. Girintilere ', 'dayalı basit söz dizimi, dilin öğrenilmesini ve akılda kalmasını ', 'kolaylaştırır. ']\n"
          ]
        }
      ]
    },
    {
      "cell_type": "code",
      "source": [
        "print(metin.splitlines(True))"
      ],
      "metadata": {
        "colab": {
          "base_uri": "https://localhost:8080/"
        },
        "id": "XaMXuNEECq6y",
        "outputId": "de11cfc0-d3da-4365-975d-5be270994cca"
      },
      "execution_count": 49,
      "outputs": [
        {
          "output_type": "stream",
          "name": "stdout",
          "text": [
            "['Python, nesne yönelimli, yorumlamalı, birimsel ve \\n', 'etkileşimli yüksek seviyeli bir programlama dilidir. Girintilere \\n', 'dayalı basit söz dizimi, dilin öğrenilmesini ve akılda kalmasını \\n', 'kolaylaştırır. ']\n"
          ]
        }
      ]
    },
    {
      "cell_type": "code",
      "source": [
        "#lower--küçük harfe dönüştürür\n",
        "isim=\"GİZEM arslan\"\n",
        "isim.lower()"
      ],
      "metadata": {
        "colab": {
          "base_uri": "https://localhost:8080/",
          "height": 35
        },
        "id": "V_GLJ2iWDWba",
        "outputId": "0841ce72-1619-46f5-880d-6fbba230555f"
      },
      "execution_count": 50,
      "outputs": [
        {
          "output_type": "execute_result",
          "data": {
            "text/plain": [
              "'gi̇zem arslan'"
            ],
            "application/vnd.google.colaboratory.intrinsic+json": {
              "type": "string"
            }
          },
          "metadata": {},
          "execution_count": 50
        }
      ]
    },
    {
      "cell_type": "code",
      "source": [
        "ders=\"PYTHON PROGRAMLAMA DİLİ\"\n",
        "konu=\"strin metotları\"\n",
        "print(ders.lower())\n",
        "print(konu.lower())"
      ],
      "metadata": {
        "colab": {
          "base_uri": "https://localhost:8080/"
        },
        "id": "9CNi1N_dD5ZD",
        "outputId": "1a135007-91cf-4ed0-e351-804909416cfa"
      },
      "execution_count": 51,
      "outputs": [
        {
          "output_type": "stream",
          "name": "stdout",
          "text": [
            "python programlama di̇li̇\n",
            "strin metotları\n"
          ]
        }
      ]
    },
    {
      "cell_type": "code",
      "source": [
        "iller=\"ISPARTA, ADIYAMAN, DİYARBAKIR, AYDIN, BALIKESİR, AĞRI\"\n",
        "iller.lower()"
      ],
      "metadata": {
        "colab": {
          "base_uri": "https://localhost:8080/",
          "height": 35
        },
        "id": "wbxQTnE-ESzj",
        "outputId": "30eaeeea-3aab-4841-c814-72d4a113db1f"
      },
      "execution_count": 55,
      "outputs": [
        {
          "output_type": "execute_result",
          "data": {
            "text/plain": [
              "'isparta, adiyaman, di̇yarbakir, aydin, balikesi̇r, ağri'"
            ],
            "application/vnd.google.colaboratory.intrinsic+json": {
              "type": "string"
            }
          },
          "metadata": {},
          "execution_count": 55
        }
      ]
    },
    {
      "cell_type": "code",
      "source": [
        "iller = iller.replace(\"İ\",\"i\")\n",
        "iller = iller.replace(\"I\",\"ı\")\n"
      ],
      "metadata": {
        "id": "LHXTACSXEyKb"
      },
      "execution_count": 57,
      "outputs": []
    },
    {
      "cell_type": "code",
      "source": [
        "iller.lower()"
      ],
      "metadata": {
        "colab": {
          "base_uri": "https://localhost:8080/",
          "height": 35
        },
        "id": "jAonmxz_G_rU",
        "outputId": "323b0729-8e98-49b4-ea25-9317bc10d922"
      },
      "execution_count": 59,
      "outputs": [
        {
          "output_type": "execute_result",
          "data": {
            "text/plain": [
              "'ısparta, adıyaman, diyarbakır, aydın, balıkesir, ağrı'"
            ],
            "application/vnd.google.colaboratory.intrinsic+json": {
              "type": "string"
            }
          },
          "metadata": {},
          "execution_count": 59
        }
      ]
    },
    {
      "cell_type": "code",
      "source": [
        "iller=\"ISPARTA, ADIYAMAN, DİYARBAKIR, AYDIN, BALIKESİR, AĞRI\"\n",
        "ilçeler=\"\"\n",
        "son_hali= iller.replace(\"İ\",\"i\").replace(\"I\",\"ı\").lower()\n"
      ],
      "metadata": {
        "id": "6K3pUgk4HBH8"
      },
      "execution_count": 63,
      "outputs": []
    },
    {
      "cell_type": "code",
      "source": [
        "son_hali"
      ],
      "metadata": {
        "colab": {
          "base_uri": "https://localhost:8080/",
          "height": 35
        },
        "id": "W0xrlKELH57U",
        "outputId": "9f5abdd1-b902-418c-cdaa-69462b54b65c"
      },
      "execution_count": 64,
      "outputs": [
        {
          "output_type": "execute_result",
          "data": {
            "text/plain": [
              "'ısparta, adıyaman, diyarbakır, aydın, balıkesir, ağrı'"
            ],
            "application/vnd.google.colaboratory.intrinsic+json": {
              "type": "string"
            }
          },
          "metadata": {},
          "execution_count": 64
        }
      ]
    },
    {
      "cell_type": "code",
      "source": [
        "son_hali.upper() #karakterleri büyük karaktere dönüştürür"
      ],
      "metadata": {
        "colab": {
          "base_uri": "https://localhost:8080/",
          "height": 35
        },
        "id": "sJG-7jrgH6dM",
        "outputId": "809da9ff-3cb6-4b05-fa51-9c61cb74d8a6"
      },
      "execution_count": 65,
      "outputs": [
        {
          "output_type": "execute_result",
          "data": {
            "text/plain": [
              "'ISPARTA, ADIYAMAN, DIYARBAKIR, AYDIN, BALIKESIR, AĞRI'"
            ],
            "application/vnd.google.colaboratory.intrinsic+json": {
              "type": "string"
            }
          },
          "metadata": {},
          "execution_count": 65
        }
      ]
    },
    {
      "cell_type": "code",
      "source": [
        "ders=\"PYTHON PROGRAMLAMA DİLİ\"\n",
        "konu=\"strin metotları\"\n",
        "print(ders.isupper())#karakter dizisinin tamamamen büyük harflerden olup oluşmadığını kontrol eder\n",
        "print(ders.islower())#karakter dizisinin tamamen küçük harflerden oluşup oluşmadığını kontrol eder"
      ],
      "metadata": {
        "colab": {
          "base_uri": "https://localhost:8080/"
        },
        "id": "-_8U6e4sI1bU",
        "outputId": "1ff35df1-f154-4b3a-b6bb-265b3284a834"
      },
      "execution_count": 68,
      "outputs": [
        {
          "output_type": "stream",
          "name": "stdout",
          "text": [
            "True\n",
            "False\n"
          ]
        }
      ]
    },
    {
      "cell_type": "code",
      "source": [
        "print(ders.startswith(\"P\"))#ders değişkenin ilk harfini denetler"
      ],
      "metadata": {
        "colab": {
          "base_uri": "https://localhost:8080/"
        },
        "id": "c0OVOegbJrCM",
        "outputId": "52bdc4f2-0fa5-48b2-ad5e-5b013431b2d1"
      },
      "execution_count": 71,
      "outputs": [
        {
          "output_type": "stream",
          "name": "stdout",
          "text": [
            "True\n"
          ]
        }
      ]
    },
    {
      "cell_type": "code",
      "source": [
        "print(ders.endswith(\"İ\"))#ders değişkenin son harfini denetler"
      ],
      "metadata": {
        "colab": {
          "base_uri": "https://localhost:8080/"
        },
        "id": "A7qwBBgPKuEd",
        "outputId": "3f42aa9b-4744-437f-92b9-d53047b0f389"
      },
      "execution_count": 74,
      "outputs": [
        {
          "output_type": "stream",
          "name": "stdout",
          "text": [
            "True\n"
          ]
        }
      ]
    },
    {
      "cell_type": "code",
      "source": [
        "ders=\"PYTHON PROGRAMLAMA DİLİ\"\n",
        "konu=\"strin metotları\"\n",
        "print(konu.capitalize())#karakter dizisinin ilk harfini büyütür"
      ],
      "metadata": {
        "colab": {
          "base_uri": "https://localhost:8080/"
        },
        "id": "z_XGgBkrLO89",
        "outputId": "53c0ef59-497b-40c2-876f-beb82e78400f"
      },
      "execution_count": 75,
      "outputs": [
        {
          "output_type": "stream",
          "name": "stdout",
          "text": [
            "Strin metotları\n"
          ]
        }
      ]
    },
    {
      "cell_type": "code",
      "source": [
        "print(konu.title())#her kelimenin ilk harfini büyük yazar"
      ],
      "metadata": {
        "colab": {
          "base_uri": "https://localhost:8080/"
        },
        "id": "lraYQD4-L_j9",
        "outputId": "7d82af26-33ec-4d50-cd09-ca305f45c6a8"
      },
      "execution_count": 76,
      "outputs": [
        {
          "output_type": "stream",
          "name": "stdout",
          "text": [
            "Strin Metotları\n"
          ]
        }
      ]
    },
    {
      "cell_type": "code",
      "source": [
        "print(ders.capitalize())"
      ],
      "metadata": {
        "colab": {
          "base_uri": "https://localhost:8080/"
        },
        "id": "bQd1nTJiMPJN",
        "outputId": "c122b624-41b9-43f1-e2e4-50c38746a977"
      },
      "execution_count": 77,
      "outputs": [
        {
          "output_type": "stream",
          "name": "stdout",
          "text": [
            "Python programlama di̇li̇\n"
          ]
        }
      ]
    },
    {
      "cell_type": "code",
      "source": [
        "konu=\"strin Metotları\"\n",
        "print(konu.capitalize())"
      ],
      "metadata": {
        "colab": {
          "base_uri": "https://localhost:8080/"
        },
        "id": "uk8fHaZNMq_l",
        "outputId": "cce615d0-1a19-44d3-8e9e-03b573baa572"
      },
      "execution_count": 78,
      "outputs": [
        {
          "output_type": "stream",
          "name": "stdout",
          "text": [
            "Strin metotları\n"
          ]
        }
      ]
    },
    {
      "cell_type": "code",
      "source": [
        "konu=konu.capitalize()"
      ],
      "metadata": {
        "id": "YY0dQ1L5NBmm"
      },
      "execution_count": 80,
      "outputs": []
    },
    {
      "cell_type": "code",
      "source": [
        "konu"
      ],
      "metadata": {
        "colab": {
          "base_uri": "https://localhost:8080/",
          "height": 35
        },
        "id": "HQdqYrHSNQ2u",
        "outputId": "2a50b494-76e7-4588-9552-cc062a52effa"
      },
      "execution_count": 81,
      "outputs": [
        {
          "output_type": "execute_result",
          "data": {
            "text/plain": [
              "'Strin metotları'"
            ],
            "application/vnd.google.colaboratory.intrinsic+json": {
              "type": "string"
            }
          },
          "metadata": {},
          "execution_count": 81
        }
      ]
    },
    {
      "cell_type": "code",
      "source": [
        "ders=\"PYTHON PROGRAMLAMA DİLİ\"\n",
        "ders.count(\"A\")"
      ],
      "metadata": {
        "colab": {
          "base_uri": "https://localhost:8080/"
        },
        "id": "YL8XIsBsNfHW",
        "outputId": "09d0238b-9588-4816-e650-bac760799829"
      },
      "execution_count": 82,
      "outputs": [
        {
          "output_type": "execute_result",
          "data": {
            "text/plain": [
              "3"
            ]
          },
          "metadata": {},
          "execution_count": 82
        }
      ]
    },
    {
      "cell_type": "code",
      "source": [
        "ders.count(\"a\")"
      ],
      "metadata": {
        "colab": {
          "base_uri": "https://localhost:8080/"
        },
        "id": "egXzS4mPUrKw",
        "outputId": "1df271cc-808f-4869-fc93-6fecfa21c7ce"
      },
      "execution_count": 83,
      "outputs": [
        {
          "output_type": "execute_result",
          "data": {
            "text/plain": [
              "0"
            ]
          },
          "metadata": {},
          "execution_count": 83
        }
      ]
    },
    {
      "cell_type": "code",
      "source": [
        "ders.count(\"A\",6)"
      ],
      "metadata": {
        "colab": {
          "base_uri": "https://localhost:8080/"
        },
        "id": "XwsDHaqGUxEY",
        "outputId": "eb38887c-4285-4d0b-df6d-6e5781c6e31c"
      },
      "execution_count": 84,
      "outputs": [
        {
          "output_type": "execute_result",
          "data": {
            "text/plain": [
              "3"
            ]
          },
          "metadata": {},
          "execution_count": 84
        }
      ]
    },
    {
      "cell_type": "code",
      "source": [
        "ders.count(\"A\",13)"
      ],
      "metadata": {
        "colab": {
          "base_uri": "https://localhost:8080/"
        },
        "id": "cO5Ogaa3VLBY",
        "outputId": "9ee160ff-3bca-4294-bdac-b4fc79a45a5f"
      },
      "execution_count": 85,
      "outputs": [
        {
          "output_type": "execute_result",
          "data": {
            "text/plain": [
              "2"
            ]
          },
          "metadata": {},
          "execution_count": 85
        }
      ]
    },
    {
      "cell_type": "code",
      "source": [
        "ders.count(\"A\",6,14)"
      ],
      "metadata": {
        "colab": {
          "base_uri": "https://localhost:8080/"
        },
        "id": "HA63HlvFVTcI",
        "outputId": "e7924151-8e97-4f87-9179-794f068786d2"
      },
      "execution_count": 86,
      "outputs": [
        {
          "output_type": "execute_result",
          "data": {
            "text/plain": [
              "1"
            ]
          },
          "metadata": {},
          "execution_count": 86
        }
      ]
    },
    {
      "cell_type": "code",
      "source": [
        "ders=\"PYTHON PROGRAMLAMA DİLİ\"\n",
        "ders.center(50)"
      ],
      "metadata": {
        "colab": {
          "base_uri": "https://localhost:8080/",
          "height": 35
        },
        "id": "cV9jYgDVVfWh",
        "outputId": "cdce4adf-020a-40df-ace6-5a23c14cb0ec"
      },
      "execution_count": 87,
      "outputs": [
        {
          "output_type": "execute_result",
          "data": {
            "text/plain": [
              "'             PYTHON PROGRAMLAMA DİLİ              '"
            ],
            "application/vnd.google.colaboratory.intrinsic+json": {
              "type": "string"
            }
          },
          "metadata": {},
          "execution_count": 87
        }
      ]
    },
    {
      "cell_type": "code",
      "source": [
        "ders.center(50,\"-\")"
      ],
      "metadata": {
        "colab": {
          "base_uri": "https://localhost:8080/",
          "height": 35
        },
        "id": "fY7VqbhEVzlZ",
        "outputId": "d9a6b088-bcbd-4f68-8a0d-21b03578702e"
      },
      "execution_count": 88,
      "outputs": [
        {
          "output_type": "execute_result",
          "data": {
            "text/plain": [
              "'-------------PYTHON PROGRAMLAMA DİLİ--------------'"
            ],
            "application/vnd.google.colaboratory.intrinsic+json": {
              "type": "string"
            }
          },
          "metadata": {},
          "execution_count": 88
        }
      ]
    },
    {
      "cell_type": "code",
      "source": [
        "ders.index(\"N\")"
      ],
      "metadata": {
        "colab": {
          "base_uri": "https://localhost:8080/"
        },
        "id": "9VEcfhPPV-ZA",
        "outputId": "f2cb54af-25ba-42e7-b543-70854f5b620d"
      },
      "execution_count": 89,
      "outputs": [
        {
          "output_type": "execute_result",
          "data": {
            "text/plain": [
              "5"
            ]
          },
          "metadata": {},
          "execution_count": 89
        }
      ]
    },
    {
      "cell_type": "code",
      "source": [
        "ders.index(\"P\",2)#ikinci parametre aramaya kaçıncı ıradan başlayacağını gösterir"
      ],
      "metadata": {
        "colab": {
          "base_uri": "https://localhost:8080/"
        },
        "id": "LnhEiw5tWSQ5",
        "outputId": "ec0a08f7-311b-48a1-b301-6087835720b4"
      },
      "execution_count": 93,
      "outputs": [
        {
          "output_type": "execute_result",
          "data": {
            "text/plain": [
              "0"
            ]
          },
          "metadata": {},
          "execution_count": 93
        }
      ]
    },
    {
      "cell_type": "code",
      "source": [
        "ders=\"PYTHON PROGRAMLAMA DİLİ\"\n",
        "ders.rindex(\"P\",0,1)#????????????????"
      ],
      "metadata": {
        "colab": {
          "base_uri": "https://localhost:8080/"
        },
        "id": "OMafzDzzWaOo",
        "outputId": "1d6db03e-5054-46ac-8579-4807061a3823"
      },
      "execution_count": 109,
      "outputs": [
        {
          "output_type": "execute_result",
          "data": {
            "text/plain": [
              "0"
            ]
          },
          "metadata": {},
          "execution_count": 109
        }
      ]
    },
    {
      "cell_type": "code",
      "source": [],
      "metadata": {
        "colab": {
          "base_uri": "https://localhost:8080/"
        },
        "id": "cw8Tg6IRXC5Z",
        "outputId": "b61d1d0e-1536-4f85-e215-b04bd201ce3c"
      },
      "execution_count": 100,
      "outputs": [
        {
          "output_type": "execute_result",
          "data": {
            "text/plain": [
              "9"
            ]
          },
          "metadata": {},
          "execution_count": 100
        }
      ]
    },
    {
      "cell_type": "code",
      "source": [],
      "metadata": {
        "id": "qLoBHPmTYpRh"
      },
      "execution_count": null,
      "outputs": []
    }
  ]
}